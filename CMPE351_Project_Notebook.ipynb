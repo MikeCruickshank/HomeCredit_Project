{
 "cells": [
  {
   "cell_type": "markdown",
   "metadata": {},
   "source": [
    "# CISC 351 - Advanced Data Analytics\n",
    "## Term Project (Winter 2019)\n",
    "### Home Credit Default Risk\n",
    "### Mike Cruickshank\n"
   ]
  },
  {
   "cell_type": "markdown",
   "metadata": {},
   "source": [
    "Data set is from the Home Credit Default Risk prediction competition on Kaggle\n",
    "* https://www.kaggle.com/c/home-credit-default-risk"
   ]
  },
  {
   "cell_type": "code",
   "execution_count": 112,
   "metadata": {},
   "outputs": [],
   "source": [
    "import pandas as pd\n",
    "import numpy as np\n",
    "import matplotlib.pyplot as plt\n",
    "\n"
   ]
  },
  {
   "cell_type": "code",
   "execution_count": 116,
   "metadata": {},
   "outputs": [],
   "source": [
    "import matplotlib"
   ]
  },
  {
   "cell_type": "markdown",
   "metadata": {},
   "source": [
    "### Import Data:"
   ]
  },
  {
   "cell_type": "code",
   "execution_count": null,
   "metadata": {},
   "outputs": [],
   "source": [
    "app_test = pd.read_csv(\"application_test.csv\")"
   ]
  },
  {
   "cell_type": "code",
   "execution_count": 224,
   "metadata": {},
   "outputs": [],
   "source": [
    "app_train = pd.read_csv(\"application_train.csv\")\n",
    "app_train_copy = app_train.copy()"
   ]
  },
  {
   "cell_type": "code",
   "execution_count": 225,
   "metadata": {},
   "outputs": [],
   "source": [
    "app_train = app_train_copy"
   ]
  },
  {
   "cell_type": "code",
   "execution_count": 49,
   "metadata": {},
   "outputs": [],
   "source": [
    "bureau = pd.read_csv(\"bureau.csv\")\n",
    "bureau_balance = pd.read_csv(\"bureau_balance.csv\")\n",
    "credit_card_balance = pd.read_csv(\"credit_card_balance.csv\")\n",
    "installments = pd.read_csv(\"installments_payments.csv\")\n",
    "pos_cash_balance = pd.read_csv(\"POS_CASH_balance.csv\")\n",
    "previous_app = pd.read_csv(\"previous_application.csv\")\n",
    "sample_submission = pd.read_csv(\"sample_submission.csv\")"
   ]
  },
  {
   "cell_type": "code",
   "execution_count": 51,
   "metadata": {},
   "outputs": [],
   "source": [
    "#columns_description = pd.read_csv(\"HomeCredit_columns_description.csv\")\n"
   ]
  },
  {
   "cell_type": "markdown",
   "metadata": {},
   "source": [
    "### EDA:"
   ]
  },
  {
   "cell_type": "code",
   "execution_count": 64,
   "metadata": {},
   "outputs": [
    {
     "name": "stdout",
     "output_type": "stream",
     "text": [
      "Size of Data Sources:\n",
      "\n",
      "app_train: 307511 x 122\n",
      "app_test: 48744 x 121\n",
      "bureau: 1716428 x 17\n",
      "bureau_balance: 27299925 x 3\n",
      "credit_card_balance: 3840312 x 23\n",
      "installments: 13605401 x 8\n",
      "previous_app: 1670214 x 37\n",
      "sample_submission: 48744 x 2\n"
     ]
    }
   ],
   "source": [
    "print(\"Size of Data Sources:\\n\")\n",
    "print(\"app_train: %d x %d\" % (np.shape(app_train)))\n",
    "print(\"app_test: %d x %d\" % (np.shape(app_test)))\n",
    "print(\"bureau: %d x %d\" % (np.shape(bureau)))\n",
    "print(\"bureau_balance: %d x %d\" % (np.shape(bureau_balance)))\n",
    "print(\"credit_card_balance: %d x %d\" % (np.shape(credit_card_balance)))\n",
    "print(\"installments: %d x %d\" % (np.shape(installments)))\n",
    "print(\"previous_app: %d x %d\" % (np.shape(previous_app)))\n",
    "print(\"sample_submission: %d x %d\" % (np.shape(sample_submission)))\n",
    "\n",
    "\n"
   ]
  },
  {
   "cell_type": "code",
   "execution_count": 65,
   "metadata": {},
   "outputs": [
    {
     "data": {
      "text/html": [
       "<div>\n",
       "<style scoped>\n",
       "    .dataframe tbody tr th:only-of-type {\n",
       "        vertical-align: middle;\n",
       "    }\n",
       "\n",
       "    .dataframe tbody tr th {\n",
       "        vertical-align: top;\n",
       "    }\n",
       "\n",
       "    .dataframe thead th {\n",
       "        text-align: right;\n",
       "    }\n",
       "</style>\n",
       "<table border=\"1\" class=\"dataframe\">\n",
       "  <thead>\n",
       "    <tr style=\"text-align: right;\">\n",
       "      <th></th>\n",
       "      <th>SK_ID_CURR</th>\n",
       "      <th>TARGET</th>\n",
       "      <th>NAME_CONTRACT_TYPE</th>\n",
       "      <th>CODE_GENDER</th>\n",
       "      <th>FLAG_OWN_CAR</th>\n",
       "      <th>FLAG_OWN_REALTY</th>\n",
       "      <th>CNT_CHILDREN</th>\n",
       "      <th>AMT_INCOME_TOTAL</th>\n",
       "      <th>AMT_CREDIT</th>\n",
       "      <th>AMT_ANNUITY</th>\n",
       "      <th>...</th>\n",
       "      <th>FLAG_DOCUMENT_18</th>\n",
       "      <th>FLAG_DOCUMENT_19</th>\n",
       "      <th>FLAG_DOCUMENT_20</th>\n",
       "      <th>FLAG_DOCUMENT_21</th>\n",
       "      <th>AMT_REQ_CREDIT_BUREAU_HOUR</th>\n",
       "      <th>AMT_REQ_CREDIT_BUREAU_DAY</th>\n",
       "      <th>AMT_REQ_CREDIT_BUREAU_WEEK</th>\n",
       "      <th>AMT_REQ_CREDIT_BUREAU_MON</th>\n",
       "      <th>AMT_REQ_CREDIT_BUREAU_QRT</th>\n",
       "      <th>AMT_REQ_CREDIT_BUREAU_YEAR</th>\n",
       "    </tr>\n",
       "  </thead>\n",
       "  <tbody>\n",
       "    <tr>\n",
       "      <th>0</th>\n",
       "      <td>100002</td>\n",
       "      <td>1</td>\n",
       "      <td>Cash loans</td>\n",
       "      <td>M</td>\n",
       "      <td>N</td>\n",
       "      <td>Y</td>\n",
       "      <td>0</td>\n",
       "      <td>202500.0</td>\n",
       "      <td>406597.5</td>\n",
       "      <td>24700.5</td>\n",
       "      <td>...</td>\n",
       "      <td>0</td>\n",
       "      <td>0</td>\n",
       "      <td>0</td>\n",
       "      <td>0</td>\n",
       "      <td>0.0</td>\n",
       "      <td>0.0</td>\n",
       "      <td>0.0</td>\n",
       "      <td>0.0</td>\n",
       "      <td>0.0</td>\n",
       "      <td>1.0</td>\n",
       "    </tr>\n",
       "    <tr>\n",
       "      <th>1</th>\n",
       "      <td>100003</td>\n",
       "      <td>0</td>\n",
       "      <td>Cash loans</td>\n",
       "      <td>F</td>\n",
       "      <td>N</td>\n",
       "      <td>N</td>\n",
       "      <td>0</td>\n",
       "      <td>270000.0</td>\n",
       "      <td>1293502.5</td>\n",
       "      <td>35698.5</td>\n",
       "      <td>...</td>\n",
       "      <td>0</td>\n",
       "      <td>0</td>\n",
       "      <td>0</td>\n",
       "      <td>0</td>\n",
       "      <td>0.0</td>\n",
       "      <td>0.0</td>\n",
       "      <td>0.0</td>\n",
       "      <td>0.0</td>\n",
       "      <td>0.0</td>\n",
       "      <td>0.0</td>\n",
       "    </tr>\n",
       "    <tr>\n",
       "      <th>2</th>\n",
       "      <td>100004</td>\n",
       "      <td>0</td>\n",
       "      <td>Revolving loans</td>\n",
       "      <td>M</td>\n",
       "      <td>Y</td>\n",
       "      <td>Y</td>\n",
       "      <td>0</td>\n",
       "      <td>67500.0</td>\n",
       "      <td>135000.0</td>\n",
       "      <td>6750.0</td>\n",
       "      <td>...</td>\n",
       "      <td>0</td>\n",
       "      <td>0</td>\n",
       "      <td>0</td>\n",
       "      <td>0</td>\n",
       "      <td>0.0</td>\n",
       "      <td>0.0</td>\n",
       "      <td>0.0</td>\n",
       "      <td>0.0</td>\n",
       "      <td>0.0</td>\n",
       "      <td>0.0</td>\n",
       "    </tr>\n",
       "    <tr>\n",
       "      <th>3</th>\n",
       "      <td>100006</td>\n",
       "      <td>0</td>\n",
       "      <td>Cash loans</td>\n",
       "      <td>F</td>\n",
       "      <td>N</td>\n",
       "      <td>Y</td>\n",
       "      <td>0</td>\n",
       "      <td>135000.0</td>\n",
       "      <td>312682.5</td>\n",
       "      <td>29686.5</td>\n",
       "      <td>...</td>\n",
       "      <td>0</td>\n",
       "      <td>0</td>\n",
       "      <td>0</td>\n",
       "      <td>0</td>\n",
       "      <td>NaN</td>\n",
       "      <td>NaN</td>\n",
       "      <td>NaN</td>\n",
       "      <td>NaN</td>\n",
       "      <td>NaN</td>\n",
       "      <td>NaN</td>\n",
       "    </tr>\n",
       "    <tr>\n",
       "      <th>4</th>\n",
       "      <td>100007</td>\n",
       "      <td>0</td>\n",
       "      <td>Cash loans</td>\n",
       "      <td>M</td>\n",
       "      <td>N</td>\n",
       "      <td>Y</td>\n",
       "      <td>0</td>\n",
       "      <td>121500.0</td>\n",
       "      <td>513000.0</td>\n",
       "      <td>21865.5</td>\n",
       "      <td>...</td>\n",
       "      <td>0</td>\n",
       "      <td>0</td>\n",
       "      <td>0</td>\n",
       "      <td>0</td>\n",
       "      <td>0.0</td>\n",
       "      <td>0.0</td>\n",
       "      <td>0.0</td>\n",
       "      <td>0.0</td>\n",
       "      <td>0.0</td>\n",
       "      <td>0.0</td>\n",
       "    </tr>\n",
       "  </tbody>\n",
       "</table>\n",
       "<p>5 rows × 122 columns</p>\n",
       "</div>"
      ],
      "text/plain": [
       "   SK_ID_CURR  TARGET NAME_CONTRACT_TYPE CODE_GENDER FLAG_OWN_CAR  \\\n",
       "0      100002       1         Cash loans           M            N   \n",
       "1      100003       0         Cash loans           F            N   \n",
       "2      100004       0    Revolving loans           M            Y   \n",
       "3      100006       0         Cash loans           F            N   \n",
       "4      100007       0         Cash loans           M            N   \n",
       "\n",
       "  FLAG_OWN_REALTY  CNT_CHILDREN  AMT_INCOME_TOTAL  AMT_CREDIT  AMT_ANNUITY  \\\n",
       "0               Y             0          202500.0    406597.5      24700.5   \n",
       "1               N             0          270000.0   1293502.5      35698.5   \n",
       "2               Y             0           67500.0    135000.0       6750.0   \n",
       "3               Y             0          135000.0    312682.5      29686.5   \n",
       "4               Y             0          121500.0    513000.0      21865.5   \n",
       "\n",
       "   ...  FLAG_DOCUMENT_18 FLAG_DOCUMENT_19 FLAG_DOCUMENT_20 FLAG_DOCUMENT_21  \\\n",
       "0  ...                 0                0                0                0   \n",
       "1  ...                 0                0                0                0   \n",
       "2  ...                 0                0                0                0   \n",
       "3  ...                 0                0                0                0   \n",
       "4  ...                 0                0                0                0   \n",
       "\n",
       "  AMT_REQ_CREDIT_BUREAU_HOUR AMT_REQ_CREDIT_BUREAU_DAY  \\\n",
       "0                        0.0                       0.0   \n",
       "1                        0.0                       0.0   \n",
       "2                        0.0                       0.0   \n",
       "3                        NaN                       NaN   \n",
       "4                        0.0                       0.0   \n",
       "\n",
       "   AMT_REQ_CREDIT_BUREAU_WEEK  AMT_REQ_CREDIT_BUREAU_MON  \\\n",
       "0                         0.0                        0.0   \n",
       "1                         0.0                        0.0   \n",
       "2                         0.0                        0.0   \n",
       "3                         NaN                        NaN   \n",
       "4                         0.0                        0.0   \n",
       "\n",
       "   AMT_REQ_CREDIT_BUREAU_QRT  AMT_REQ_CREDIT_BUREAU_YEAR  \n",
       "0                        0.0                         1.0  \n",
       "1                        0.0                         0.0  \n",
       "2                        0.0                         0.0  \n",
       "3                        NaN                         NaN  \n",
       "4                        0.0                         0.0  \n",
       "\n",
       "[5 rows x 122 columns]"
      ]
     },
     "execution_count": 65,
     "metadata": {},
     "output_type": "execute_result"
    }
   ],
   "source": [
    "app_train.head()"
   ]
  },
  {
   "cell_type": "markdown",
   "metadata": {},
   "source": [
    "Check for missing values in each data set:"
   ]
  },
  {
   "cell_type": "code",
   "execution_count": 102,
   "metadata": {},
   "outputs": [],
   "source": [
    "def CheckMissingValues(df, display_num = 10):\n",
    "    percent_missing = (df.isnull().sum()/df.isnull().count()*100).sort_values(ascending=False)\n",
    "    percent_missing = pd.concat([percent_missing],axis=1,keys=['Percent Missing'])\n",
    "    print(\"\\n\")\n",
    "    print(percent_missing.head(display_num))\n",
    "    return\n"
   ]
  },
  {
   "cell_type": "code",
   "execution_count": 103,
   "metadata": {},
   "outputs": [
    {
     "name": "stdout",
     "output_type": "stream",
     "text": [
      "\n",
      "\n",
      "                          Percent Missing\n",
      "COMMONAREA_MEDI                 69.872297\n",
      "COMMONAREA_AVG                  69.872297\n",
      "COMMONAREA_MODE                 69.872297\n",
      "NONLIVINGAPARTMENTS_MODE        69.432963\n",
      "NONLIVINGAPARTMENTS_MEDI        69.432963\n",
      "NONLIVINGAPARTMENTS_AVG         69.432963\n",
      "FONDKAPREMONT_MODE              68.386172\n",
      "LIVINGAPARTMENTS_MEDI           68.354953\n",
      "LIVINGAPARTMENTS_MODE           68.354953\n",
      "LIVINGAPARTMENTS_AVG            68.354953\n",
      "\n",
      "\n",
      "                          Percent Missing\n",
      "COMMONAREA_MEDI                 68.716150\n",
      "COMMONAREA_AVG                  68.716150\n",
      "COMMONAREA_MODE                 68.716150\n",
      "NONLIVINGAPARTMENTS_MODE        68.412523\n",
      "NONLIVINGAPARTMENTS_MEDI        68.412523\n",
      "NONLIVINGAPARTMENTS_AVG         68.412523\n",
      "FONDKAPREMONT_MODE              67.284179\n",
      "LIVINGAPARTMENTS_AVG            67.249302\n",
      "LIVINGAPARTMENTS_MEDI           67.249302\n",
      "LIVINGAPARTMENTS_MODE           67.249302\n",
      "\n",
      "\n",
      "                        Percent Missing\n",
      "AMT_ANNUITY                   71.473490\n",
      "AMT_CREDIT_MAX_OVERDUE        65.513264\n",
      "DAYS_ENDDATE_FACT             36.916958\n",
      "AMT_CREDIT_SUM_LIMIT          34.477415\n",
      "AMT_CREDIT_SUM_DEBT           15.011932\n",
      "DAYS_CREDIT_ENDDATE            6.149573\n",
      "AMT_CREDIT_SUM                 0.000757\n",
      "CREDIT_TYPE                    0.000000\n",
      "AMT_CREDIT_SUM_OVERDUE         0.000000\n",
      "CNT_CREDIT_PROLONG             0.000000\n",
      "\n",
      "\n",
      "                Percent Missing\n",
      "STATUS                      0.0\n",
      "MONTHS_BALANCE              0.0\n",
      "SK_ID_BUREAU                0.0\n"
     ]
    }
   ],
   "source": [
    "CheckMissingValues(app_train)\n",
    "CheckMissingValues(app_test)\n",
    "CheckMissingValues(bureau)\n",
    "CheckMissingValues(bureau_balance)"
   ]
  },
  {
   "cell_type": "code",
   "execution_count": 104,
   "metadata": {},
   "outputs": [
    {
     "name": "stdout",
     "output_type": "stream",
     "text": [
      "\n",
      "\n",
      "                            Percent Missing\n",
      "AMT_PAYMENT_CURRENT               19.998063\n",
      "AMT_DRAWINGS_OTHER_CURRENT        19.524872\n",
      "CNT_DRAWINGS_POS_CURRENT          19.524872\n",
      "CNT_DRAWINGS_OTHER_CURRENT        19.524872\n",
      "CNT_DRAWINGS_ATM_CURRENT          19.524872\n",
      "AMT_DRAWINGS_ATM_CURRENT          19.524872\n",
      "AMT_DRAWINGS_POS_CURRENT          19.524872\n",
      "CNT_INSTALMENT_MATURE_CUM          7.948208\n",
      "AMT_INST_MIN_REGULARITY            7.948208\n",
      "SK_DPD_DEF                         0.000000\n",
      "\n",
      "\n",
      "                        Percent Missing\n",
      "AMT_PAYMENT                    0.021352\n",
      "DAYS_ENTRY_PAYMENT             0.021352\n",
      "AMT_INSTALMENT                 0.000000\n",
      "DAYS_INSTALMENT                0.000000\n",
      "NUM_INSTALMENT_NUMBER          0.000000\n",
      "NUM_INSTALMENT_VERSION         0.000000\n",
      "SK_ID_CURR                     0.000000\n",
      "SK_ID_PREV                     0.000000\n",
      "\n",
      "\n",
      "                       Percent Missing\n",
      "CNT_INSTALMENT_FUTURE         0.260835\n",
      "CNT_INSTALMENT                0.260675\n",
      "SK_DPD_DEF                    0.000000\n",
      "SK_DPD                        0.000000\n",
      "NAME_CONTRACT_STATUS          0.000000\n",
      "MONTHS_BALANCE                0.000000\n",
      "SK_ID_CURR                    0.000000\n",
      "SK_ID_PREV                    0.000000\n",
      "\n",
      "\n",
      "                           Percent Missing\n",
      "RATE_INTEREST_PRIVILEGED         99.643698\n",
      "RATE_INTEREST_PRIMARY            99.643698\n",
      "RATE_DOWN_PAYMENT                53.636480\n",
      "AMT_DOWN_PAYMENT                 53.636480\n",
      "NAME_TYPE_SUITE                  49.119754\n",
      "DAYS_TERMINATION                 40.298129\n",
      "NFLAG_INSURED_ON_APPROVAL        40.298129\n",
      "DAYS_FIRST_DRAWING               40.298129\n",
      "DAYS_FIRST_DUE                   40.298129\n",
      "DAYS_LAST_DUE_1ST_VERSION        40.298129\n"
     ]
    }
   ],
   "source": [
    "CheckMissingValues(credit_card_balance)\n",
    "CheckMissingValues(installments)\n",
    "CheckMissingValues(pos_cash_balance)\n",
    "CheckMissingValues(previous_app)"
   ]
  },
  {
   "cell_type": "markdown",
   "metadata": {},
   "source": [
    "Distribution of target variable:"
   ]
  },
  {
   "cell_type": "code",
   "execution_count": 141,
   "metadata": {},
   "outputs": [
    {
     "data": {
      "image/png": "[encoded data removed]",
      "text/plain": [
       "<Figure size 432x288 with 1 Axes>"
      ]
     },
     "metadata": {},
     "output_type": "display_data"
    }
   ],
   "source": [
    "temp = app_train['TARGET'].value_counts()\n",
    "labels = ['Repayed Load','Did Not Repay Loan']\n",
    "plt.pie(temp.values,\n",
    "       autopct='%1.1f%%', startangle = 90)\n",
    "plt.tight_layout()\n",
    "plt.title('Target Variable Distribution')\n",
    "plt.legend(labels, loc=\"upper right\")\n",
    "plt.show()\n"
   ]
  },
  {
   "cell_type": "markdown",
   "metadata": {},
   "source": [
    "### Data Pre-Processing"
   ]
  },
  {
   "cell_type": "code",
   "execution_count": 226,
   "metadata": {},
   "outputs": [],
   "source": [
    "app_train_target = app_train['TARGET']\n",
    "app_train = app_train.drop(columns = ['TARGET'])\n",
    "\n"
   ]
  },
  {
   "cell_type": "code",
   "execution_count": 241,
   "metadata": {},
   "outputs": [
    {
     "data": {
      "text/html": [
       "<div>\n",
       "<style scoped>\n",
       "    .dataframe tbody tr th:only-of-type {\n",
       "        vertical-align: middle;\n",
       "    }\n",
       "\n",
       "    .dataframe tbody tr th {\n",
       "        vertical-align: top;\n",
       "    }\n",
       "\n",
       "    .dataframe thead th {\n",
       "        text-align: right;\n",
       "    }\n",
       "</style>\n",
       "<table border=\"1\" class=\"dataframe\">\n",
       "  <thead>\n",
       "    <tr style=\"text-align: right;\">\n",
       "      <th></th>\n",
       "      <th>SK_ID_CURR</th>\n",
       "      <th>CNT_CHILDREN</th>\n",
       "      <th>AMT_INCOME_TOTAL</th>\n",
       "      <th>AMT_CREDIT</th>\n",
       "      <th>AMT_ANNUITY</th>\n",
       "      <th>AMT_GOODS_PRICE</th>\n",
       "      <th>REGION_POPULATION_RELATIVE</th>\n",
       "      <th>DAYS_BIRTH</th>\n",
       "      <th>DAYS_EMPLOYED</th>\n",
       "      <th>DAYS_REGISTRATION</th>\n",
       "      <th>...</th>\n",
       "      <th>WALLSMATERIAL_MODE_Mixed</th>\n",
       "      <th>WALLSMATERIAL_MODE_Monolithic</th>\n",
       "      <th>WALLSMATERIAL_MODE_Others</th>\n",
       "      <th>WALLSMATERIAL_MODE_Panel</th>\n",
       "      <th>WALLSMATERIAL_MODE_Stone, brick</th>\n",
       "      <th>WALLSMATERIAL_MODE_Wooden</th>\n",
       "      <th>WALLSMATERIAL_MODE_nan</th>\n",
       "      <th>EMERGENCYSTATE_MODE_No</th>\n",
       "      <th>EMERGENCYSTATE_MODE_Yes</th>\n",
       "      <th>EMERGENCYSTATE_MODE_nan</th>\n",
       "    </tr>\n",
       "  </thead>\n",
       "  <tbody>\n",
       "    <tr>\n",
       "      <th>0</th>\n",
       "      <td>100002</td>\n",
       "      <td>0</td>\n",
       "      <td>202500.0</td>\n",
       "      <td>406597.5</td>\n",
       "      <td>24700.5</td>\n",
       "      <td>351000.0</td>\n",
       "      <td>0.018801</td>\n",
       "      <td>-9461</td>\n",
       "      <td>-637</td>\n",
       "      <td>-3648.0</td>\n",
       "      <td>...</td>\n",
       "      <td>0</td>\n",
       "      <td>0</td>\n",
       "      <td>0</td>\n",
       "      <td>0</td>\n",
       "      <td>1</td>\n",
       "      <td>0</td>\n",
       "      <td>0</td>\n",
       "      <td>1</td>\n",
       "      <td>0</td>\n",
       "      <td>0</td>\n",
       "    </tr>\n",
       "    <tr>\n",
       "      <th>1</th>\n",
       "      <td>100003</td>\n",
       "      <td>0</td>\n",
       "      <td>270000.0</td>\n",
       "      <td>1293502.5</td>\n",
       "      <td>35698.5</td>\n",
       "      <td>1129500.0</td>\n",
       "      <td>0.003541</td>\n",
       "      <td>-16765</td>\n",
       "      <td>-1188</td>\n",
       "      <td>-1186.0</td>\n",
       "      <td>...</td>\n",
       "      <td>0</td>\n",
       "      <td>0</td>\n",
       "      <td>0</td>\n",
       "      <td>0</td>\n",
       "      <td>0</td>\n",
       "      <td>0</td>\n",
       "      <td>0</td>\n",
       "      <td>1</td>\n",
       "      <td>0</td>\n",
       "      <td>0</td>\n",
       "    </tr>\n",
       "    <tr>\n",
       "      <th>2</th>\n",
       "      <td>100004</td>\n",
       "      <td>0</td>\n",
       "      <td>67500.0</td>\n",
       "      <td>135000.0</td>\n",
       "      <td>6750.0</td>\n",
       "      <td>135000.0</td>\n",
       "      <td>0.010032</td>\n",
       "      <td>-19046</td>\n",
       "      <td>-225</td>\n",
       "      <td>-4260.0</td>\n",
       "      <td>...</td>\n",
       "      <td>0</td>\n",
       "      <td>0</td>\n",
       "      <td>0</td>\n",
       "      <td>0</td>\n",
       "      <td>0</td>\n",
       "      <td>0</td>\n",
       "      <td>1</td>\n",
       "      <td>0</td>\n",
       "      <td>0</td>\n",
       "      <td>1</td>\n",
       "    </tr>\n",
       "    <tr>\n",
       "      <th>3</th>\n",
       "      <td>100006</td>\n",
       "      <td>0</td>\n",
       "      <td>135000.0</td>\n",
       "      <td>312682.5</td>\n",
       "      <td>29686.5</td>\n",
       "      <td>297000.0</td>\n",
       "      <td>0.008019</td>\n",
       "      <td>-19005</td>\n",
       "      <td>-3039</td>\n",
       "      <td>-9833.0</td>\n",
       "      <td>...</td>\n",
       "      <td>0</td>\n",
       "      <td>0</td>\n",
       "      <td>0</td>\n",
       "      <td>0</td>\n",
       "      <td>0</td>\n",
       "      <td>0</td>\n",
       "      <td>1</td>\n",
       "      <td>0</td>\n",
       "      <td>0</td>\n",
       "      <td>1</td>\n",
       "    </tr>\n",
       "    <tr>\n",
       "      <th>4</th>\n",
       "      <td>100007</td>\n",
       "      <td>0</td>\n",
       "      <td>121500.0</td>\n",
       "      <td>513000.0</td>\n",
       "      <td>21865.5</td>\n",
       "      <td>513000.0</td>\n",
       "      <td>0.028663</td>\n",
       "      <td>-19932</td>\n",
       "      <td>-3038</td>\n",
       "      <td>-4311.0</td>\n",
       "      <td>...</td>\n",
       "      <td>0</td>\n",
       "      <td>0</td>\n",
       "      <td>0</td>\n",
       "      <td>0</td>\n",
       "      <td>0</td>\n",
       "      <td>0</td>\n",
       "      <td>1</td>\n",
       "      <td>0</td>\n",
       "      <td>0</td>\n",
       "      <td>1</td>\n",
       "    </tr>\n",
       "  </tbody>\n",
       "</table>\n",
       "<p>5 rows × 261 columns</p>\n",
       "</div>"
      ],
      "text/plain": [
       "   SK_ID_CURR  CNT_CHILDREN  AMT_INCOME_TOTAL  AMT_CREDIT  AMT_ANNUITY  \\\n",
       "0      100002             0          202500.0    406597.5      24700.5   \n",
       "1      100003             0          270000.0   1293502.5      35698.5   \n",
       "2      100004             0           67500.0    135000.0       6750.0   \n",
       "3      100006             0          135000.0    312682.5      29686.5   \n",
       "4      100007             0          121500.0    513000.0      21865.5   \n",
       "\n",
       "   AMT_GOODS_PRICE  REGION_POPULATION_RELATIVE  DAYS_BIRTH  DAYS_EMPLOYED  \\\n",
       "0         351000.0                    0.018801       -9461           -637   \n",
       "1        1129500.0                    0.003541      -16765          -1188   \n",
       "2         135000.0                    0.010032      -19046           -225   \n",
       "3         297000.0                    0.008019      -19005          -3039   \n",
       "4         513000.0                    0.028663      -19932          -3038   \n",
       "\n",
       "   DAYS_REGISTRATION  ...  WALLSMATERIAL_MODE_Mixed  \\\n",
       "0            -3648.0  ...                         0   \n",
       "1            -1186.0  ...                         0   \n",
       "2            -4260.0  ...                         0   \n",
       "3            -9833.0  ...                         0   \n",
       "4            -4311.0  ...                         0   \n",
       "\n",
       "   WALLSMATERIAL_MODE_Monolithic  WALLSMATERIAL_MODE_Others  \\\n",
       "0                              0                          0   \n",
       "1                              0                          0   \n",
       "2                              0                          0   \n",
       "3                              0                          0   \n",
       "4                              0                          0   \n",
       "\n",
       "   WALLSMATERIAL_MODE_Panel  WALLSMATERIAL_MODE_Stone, brick  \\\n",
       "0                         0                                1   \n",
       "1                         0                                0   \n",
       "2                         0                                0   \n",
       "3                         0                                0   \n",
       "4                         0                                0   \n",
       "\n",
       "   WALLSMATERIAL_MODE_Wooden  WALLSMATERIAL_MODE_nan  EMERGENCYSTATE_MODE_No  \\\n",
       "0                          0                       0                       1   \n",
       "1                          0                       0                       1   \n",
       "2                          0                       1                       0   \n",
       "3                          0                       1                       0   \n",
       "4                          0                       1                       0   \n",
       "\n",
       "   EMERGENCYSTATE_MODE_Yes  EMERGENCYSTATE_MODE_nan  \n",
       "0                        0                        0  \n",
       "1                        0                        0  \n",
       "2                        0                        1  \n",
       "3                        0                        1  \n",
       "4                        0                        1  \n",
       "\n",
       "[5 rows x 261 columns]"
      ]
     },
     "execution_count": 241,
     "metadata": {},
     "output_type": "execute_result"
    }
   ],
   "source": [
    "app_train.sort_values(by=['SK_ID_CURR']).head()"
   ]
  },
  {
   "cell_type": "code",
   "execution_count": 245,
   "metadata": {},
   "outputs": [
    {
     "ename": "AttributeError",
     "evalue": "'numpy.ndarray' object has no attribute 'sort_values'",
     "output_type": "error",
     "traceback": [
      "\u001b[1;31m---------------------------------------------------------------------------\u001b[0m",
      "\u001b[1;31mAttributeError\u001b[0m                            Traceback (most recent call last)",
      "\u001b[1;32m<ipython-input-245-6e0bbfef3fb3>\u001b[0m in \u001b[0;36m<module>\u001b[1;34m\u001b[0m\n\u001b[1;32m----> 1\u001b[1;33m \u001b[0mtrain\u001b[0m\u001b[1;33m.\u001b[0m\u001b[0msort_values\u001b[0m\u001b[1;33m(\u001b[0m\u001b[0mby\u001b[0m\u001b[1;33m=\u001b[0m\u001b[1;33m[\u001b[0m\u001b[1;34m'SK_ID_CURR'\u001b[0m\u001b[1;33m]\u001b[0m\u001b[1;33m)\u001b[0m\u001b[1;33m.\u001b[0m\u001b[0mhead\u001b[0m\u001b[1;33m(\u001b[0m\u001b[1;33m)\u001b[0m\u001b[1;33m\u001b[0m\u001b[1;33m\u001b[0m\u001b[0m\n\u001b[0m",
      "\u001b[1;31mAttributeError\u001b[0m: 'numpy.ndarray' object has no attribute 'sort_values'"
     ]
    }
   ],
   "source": [
    "train.sort_values(by=['SK_ID_CURR']).head()"
   ]
  },
  {
   "cell_type": "code",
   "execution_count": 199,
   "metadata": {},
   "outputs": [],
   "source": [
    "def one_hot_encoder(df, nan_as_category = True):\n",
    "    original_columns = list(df.columns)\n",
    "    cat_columns = [col for col in df.columns if df[col].dtype == 'object']\n",
    "    df = pd.get_dummies(df, columns = cat_columns, dummy_na = nan_as_category)\n",
    "    new_columns = [c for c in df.columns if c not in original_columns]\n",
    "    return df, new_columns\n"
   ]
  },
  {
   "cell_type": "code",
   "execution_count": 228,
   "metadata": {},
   "outputs": [],
   "source": [
    "app_train, cat_cols = one_hot_encoder(app_train)"
   ]
  },
  {
   "cell_type": "markdown",
   "metadata": {},
   "source": [
    "Split into Train and Test Set:"
   ]
  },
  {
   "cell_type": "code",
   "execution_count": 230,
   "metadata": {},
   "outputs": [],
   "source": [
    "from sklearn.model_selection import train_test_split\n",
    "\n",
    "train, test, train_target, test_target = train_test_split(app_train, app_train_target, test_size = 0.2)"
   ]
  },
  {
   "cell_type": "markdown",
   "metadata": {},
   "source": [
    "Scale and Imput Data:"
   ]
  },
  {
   "cell_type": "code",
   "execution_count": 243,
   "metadata": {},
   "outputs": [
    {
     "name": "stderr",
     "output_type": "stream",
     "text": [
      "C:\\Users\\Mike\\Anaconda3\\envs\\CISC351_Project\\lib\\site-packages\\sklearn\\utils\\deprecation.py:58: DeprecationWarning: Class Imputer is deprecated; Imputer was deprecated in version 0.20 and will be removed in 0.22. Import impute.SimpleImputer from sklearn instead.\n",
      "  warnings.warn(msg, category=DeprecationWarning)\n"
     ]
    }
   ],
   "source": [
    "from sklearn.preprocessing import StandardScaler, Imputer\n",
    "from sklearn.impute import SimpleImputer\n",
    "\n",
    "imputer = Imputer(strategy = 'median')\n",
    "scaler = StandardScaler()\n",
    "\n",
    "imputer.fit(train)\n",
    "train = imputer.transform(train)\n",
    "test = imputer.transform(test)\n",
    "#app_train = imputer.transform(app_train)\n",
    "\n",
    "scaler.fit(train)\n",
    "train = scaler.transform(train)\n",
    "test = scaler.transform(test)"
   ]
  },
  {
   "cell_type": "markdown",
   "metadata": {},
   "source": []
  },
  {
   "cell_type": "code",
   "execution_count": null,
   "metadata": {},
   "outputs": [],
   "source": []
  },
  {
   "cell_type": "markdown",
   "metadata": {},
   "source": [
    "### Baseline Models( application_test table only)"
   ]
  },
  {
   "cell_type": "markdown",
   "metadata": {},
   "source": [
    "#### Logistic Regression"
   ]
  },
  {
   "cell_type": "code",
   "execution_count": 259,
   "metadata": {},
   "outputs": [
    {
     "name": "stderr",
     "output_type": "stream",
     "text": [
      "C:\\Users\\Mike\\Anaconda3\\envs\\CISC351_Project\\lib\\site-packages\\sklearn\\linear_model\\logistic.py:758: ConvergenceWarning: lbfgs failed to converge. Increase the number of iterations.\n",
      "  \"of iterations.\", ConvergenceWarning)\n"
     ]
    },
    {
     "data": {
      "text/plain": [
       "LogisticRegression(C=1.0, class_weight=None, dual=False, fit_intercept=True,\n",
       "          intercept_scaling=1, max_iter=100, multi_class='warn',\n",
       "          n_jobs=None, penalty='l2', random_state=None, solver='lbfgs',\n",
       "          tol=0.0001, verbose=0, warm_start=False)"
      ]
     },
     "execution_count": 259,
     "metadata": {},
     "output_type": "execute_result"
    }
   ],
   "source": [
    "from sklearn.linear_model import LogisticRegression\n",
    "\n",
    "LR = LogisticRegression(solver = 'lbfgs')\n",
    "LR.fit(train, train_target)\n",
    "test_predictions = LR.predict(test)"
   ]
  },
  {
   "cell_type": "code",
   "execution_count": 262,
   "metadata": {},
   "outputs": [
    {
     "name": "stdout",
     "output_type": "stream",
     "text": [
      "Accuracy: 0.92\n",
      "              precision    recall  f1-score   support\n",
      "\n",
      "           0       0.92      1.00      0.96     56591\n",
      "           1       0.39      0.01      0.02      4912\n",
      "\n",
      "   micro avg       0.92      0.92      0.92     61503\n",
      "   macro avg       0.66      0.50      0.49     61503\n",
      "weighted avg       0.88      0.92      0.88     61503\n",
      "\n",
      "[[56516    75]\n",
      " [ 4864    48]]\n",
      "TP: 48\n",
      "TN: 56516\n",
      "FP: 75\n",
      "FN: 4864\n"
     ]
    }
   ],
   "source": [
    "from sklearn.metrics import classification_report, confusion_matrix, accuracy_score\n",
    "\n",
    "print('Accuracy: %.3f' % LR.score(test, test_target))\n",
    "class_report = classification_report(test_target, test_predictions)\n",
    "print(class_report)\n",
    "\n",
    "con_mat = confusion_matrix(test_target, test_predictions)\n",
    "print(con_mat)\n",
    "tn, fp, fn, tp = confusion_matrix(test_target, test_predictions).ravel()\n",
    "print(\"TP: %d\" % tp)\n",
    "print(\"TN: %d\" % tn)\n",
    "print(\"FP: %d\" % fp)\n",
    "print(\"FN: %d\" % fn)\n"
   ]
  },
  {
   "cell_type": "markdown",
   "metadata": {},
   "source": [
    "#### LightGBM (With Gradient Boosting)"
   ]
  },
  {
   "cell_type": "code",
   "execution_count": 278,
   "metadata": {},
   "outputs": [],
   "source": [
    "import lightgbm as lgb \n",
    "\n",
    "d_train = lgb.Dataset(train, label=train_target)\n",
    "\n",
    "params = {}\n",
    "params['learning_rate'] = 0.003\n",
    "params['boosting_type'] = 'gbdt'\n",
    "params['objective'] = 'binary'\n",
    "params['metric'] = 'binary_logloss'\n",
    "params['sub_feature'] = 0.5\n",
    "params['num_leaves'] = 100\n",
    "params['min_data'] = 50\n",
    "params['max_depth'] = 10\n",
    "\n",
    "LGBM = lgb.train(params, d_train, 1000)"
   ]
  },
  {
   "cell_type": "code",
   "execution_count": 279,
   "metadata": {},
   "outputs": [],
   "source": [
    "test_predictions = LGBM.predict(test)\n",
    "for i in range(0,np.size(test_predictions)):\n",
    "    if test_predictions[i]>=.5:       # setting threshold to .5\n",
    "       test_predictions[i]=1\n",
    "    else:  \n",
    "       test_predictions[i]=0"
   ]
  },
  {
   "cell_type": "code",
   "execution_count": 280,
   "metadata": {},
   "outputs": [
    {
     "name": "stdout",
     "output_type": "stream",
     "text": [
      "(array([ 1079,  8382, 11101, 11562, 18599, 18974, 19581, 22476, 26119,\n",
      "       31083, 33661, 37027, 39472, 40100, 40570, 42960, 43856, 45114,\n",
      "       47183, 48045, 52141, 54938], dtype=int64),)\n"
     ]
    }
   ],
   "source": [
    "a = np.where(test_predictions == 1)\n",
    "print(a)"
   ]
  },
  {
   "cell_type": "code",
   "execution_count": 282,
   "metadata": {},
   "outputs": [
    {
     "name": "stdout",
     "output_type": "stream",
     "text": [
      "              precision    recall  f1-score   support\n",
      "\n",
      "           0       0.92      1.00      0.96     56591\n",
      "           1       0.55      0.00      0.00      4912\n",
      "\n",
      "   micro avg       0.92      0.92      0.92     61503\n",
      "   macro avg       0.73      0.50      0.48     61503\n",
      "weighted avg       0.89      0.92      0.88     61503\n",
      "\n",
      "[[56581    10]\n",
      " [ 4900    12]]\n",
      "TP: 12\n",
      "TN: 56581\n",
      "FP: 10\n",
      "FN: 4900\n"
     ]
    }
   ],
   "source": [
    "print('Accuracy: %.3f' % accuracy_score(test, test_target))\n",
    "class_report = classification_report(test_target, test_predictions)\n",
    "print(class_report)\n",
    "\n",
    "con_mat = confusion_matrix(test_target, test_predictions)\n",
    "print(con_mat)\n",
    "tn, fp, fn, tp = confusion_matrix(test_target, test_predictions).ravel()\n",
    "print(\"TP: %d\" % tp)\n",
    "print(\"TN: %d\" % tn)\n",
    "print(\"FP: %d\" % fp)\n",
    "print(\"FN: %d\" % fn)\n"
   ]
  },
  {
   "cell_type": "code",
   "execution_count": null,
   "metadata": {},
   "outputs": [],
   "source": []
  }
 ],
 "metadata": {
  "kernelspec": {
   "display_name": "Python 3",
   "language": "python",
   "name": "python3"
  },
  "language_info": {
   "codemirror_mode": {
    "name": "ipython",
    "version": 3
   },
   "file_extension": ".py",
   "mimetype": "text/x-python",
   "name": "python",
   "nbconvert_exporter": "python",
   "pygments_lexer": "ipython3",
   "version": "3.7.2"
  }
 },
 "nbformat": 4,
 "nbformat_minor": 2
}
