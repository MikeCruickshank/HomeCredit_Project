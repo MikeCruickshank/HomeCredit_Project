{
 "cells": [
  {
   "cell_type": "markdown",
   "metadata": {},
   "source": [
    "# CISC 351 - Advanced Data Analytics\n",
    "## Term Project (Winter 2019)\n",
    "### Feature Engineering Notebook\n",
    "### Home Credit Default Risk\n",
    "### Mike Cruickshank\n"
   ]
  },
  {
   "cell_type": "markdown",
   "metadata": {},
   "source": [
    "Data set is from the Home Credit Default Risk prediction competition on Kaggle\n",
    "* https://www.kaggle.com/c/home-credit-default-risk"
   ]
  },
  {
   "cell_type": "code",
   "execution_count": 203,
   "metadata": {},
   "outputs": [],
   "source": [
    "import pandas as pd\n",
    "import numpy as np\n",
    "import matplotlib.pyplot as plt\n",
    "import featuretools as ft"
   ]
  },
  {
   "cell_type": "markdown",
   "metadata": {},
   "source": [
    "### Import Data"
   ]
  },
  {
   "cell_type": "code",
   "execution_count": 249,
   "metadata": {},
   "outputs": [],
   "source": [
    "rows = 10000\n",
    "app_test = pd.read_csv(\"application_test.csv\", nrows = rows)\n",
    "app_train = pd.read_csv(\"application_train.csv\",nrows = rows)\n",
    "bureau = pd.read_csv(\"bureau.csv\", nrows = rows)\n",
    "bureau_balance = pd.read_csv(\"bureau_balance.csv\", nrows = rows)\n",
    "credit = pd.read_csv(\"credit_card_balance.csv\", nrows = rows)\n",
    "installments = pd.read_csv(\"installments_payments.csv\", nrows = rows)\n",
    "cash = pd.read_csv(\"POS_CASH_balance.csv\", nrows = rows)\n",
    "previous = pd.read_csv(\"previous_application.csv\", nrows = rows)\n",
    "#sample_submission = pd.read_csv(\"sample_submission.csv\", nrows = 100)"
   ]
  },
  {
   "cell_type": "code",
   "execution_count": 250,
   "metadata": {},
   "outputs": [
    {
     "data": {
      "text/html": [
       "<div>\n",
       "<style scoped>\n",
       "    .dataframe tbody tr th:only-of-type {\n",
       "        vertical-align: middle;\n",
       "    }\n",
       "\n",
       "    .dataframe tbody tr th {\n",
       "        vertical-align: top;\n",
       "    }\n",
       "\n",
       "    .dataframe thead th {\n",
       "        text-align: right;\n",
       "    }\n",
       "</style>\n",
       "<table border=\"1\" class=\"dataframe\">\n",
       "  <thead>\n",
       "    <tr style=\"text-align: right;\">\n",
       "      <th></th>\n",
       "      <th>SK_ID_CURR</th>\n",
       "      <th>SK_ID_BUREAU</th>\n",
       "      <th>CREDIT_ACTIVE</th>\n",
       "      <th>CREDIT_CURRENCY</th>\n",
       "      <th>DAYS_CREDIT</th>\n",
       "      <th>CREDIT_DAY_OVERDUE</th>\n",
       "      <th>DAYS_CREDIT_ENDDATE</th>\n",
       "      <th>DAYS_ENDDATE_FACT</th>\n",
       "      <th>AMT_CREDIT_MAX_OVERDUE</th>\n",
       "      <th>CNT_CREDIT_PROLONG</th>\n",
       "      <th>AMT_CREDIT_SUM</th>\n",
       "      <th>AMT_CREDIT_SUM_DEBT</th>\n",
       "      <th>AMT_CREDIT_SUM_LIMIT</th>\n",
       "      <th>AMT_CREDIT_SUM_OVERDUE</th>\n",
       "      <th>CREDIT_TYPE</th>\n",
       "      <th>DAYS_CREDIT_UPDATE</th>\n",
       "      <th>AMT_ANNUITY</th>\n",
       "    </tr>\n",
       "  </thead>\n",
       "  <tbody>\n",
       "    <tr>\n",
       "      <th>0</th>\n",
       "      <td>215354</td>\n",
       "      <td>5714462</td>\n",
       "      <td>Closed</td>\n",
       "      <td>currency 1</td>\n",
       "      <td>-497</td>\n",
       "      <td>0</td>\n",
       "      <td>-153.0</td>\n",
       "      <td>-153.0</td>\n",
       "      <td>NaN</td>\n",
       "      <td>0</td>\n",
       "      <td>91323.0</td>\n",
       "      <td>0.0</td>\n",
       "      <td>NaN</td>\n",
       "      <td>0.0</td>\n",
       "      <td>Consumer credit</td>\n",
       "      <td>-131</td>\n",
       "      <td>NaN</td>\n",
       "    </tr>\n",
       "    <tr>\n",
       "      <th>1</th>\n",
       "      <td>215354</td>\n",
       "      <td>5714463</td>\n",
       "      <td>Active</td>\n",
       "      <td>currency 1</td>\n",
       "      <td>-208</td>\n",
       "      <td>0</td>\n",
       "      <td>1075.0</td>\n",
       "      <td>NaN</td>\n",
       "      <td>NaN</td>\n",
       "      <td>0</td>\n",
       "      <td>225000.0</td>\n",
       "      <td>171342.0</td>\n",
       "      <td>NaN</td>\n",
       "      <td>0.0</td>\n",
       "      <td>Credit card</td>\n",
       "      <td>-20</td>\n",
       "      <td>NaN</td>\n",
       "    </tr>\n",
       "    <tr>\n",
       "      <th>2</th>\n",
       "      <td>215354</td>\n",
       "      <td>5714464</td>\n",
       "      <td>Active</td>\n",
       "      <td>currency 1</td>\n",
       "      <td>-203</td>\n",
       "      <td>0</td>\n",
       "      <td>528.0</td>\n",
       "      <td>NaN</td>\n",
       "      <td>NaN</td>\n",
       "      <td>0</td>\n",
       "      <td>464323.5</td>\n",
       "      <td>NaN</td>\n",
       "      <td>NaN</td>\n",
       "      <td>0.0</td>\n",
       "      <td>Consumer credit</td>\n",
       "      <td>-16</td>\n",
       "      <td>NaN</td>\n",
       "    </tr>\n",
       "    <tr>\n",
       "      <th>3</th>\n",
       "      <td>215354</td>\n",
       "      <td>5714465</td>\n",
       "      <td>Active</td>\n",
       "      <td>currency 1</td>\n",
       "      <td>-203</td>\n",
       "      <td>0</td>\n",
       "      <td>NaN</td>\n",
       "      <td>NaN</td>\n",
       "      <td>NaN</td>\n",
       "      <td>0</td>\n",
       "      <td>90000.0</td>\n",
       "      <td>NaN</td>\n",
       "      <td>NaN</td>\n",
       "      <td>0.0</td>\n",
       "      <td>Credit card</td>\n",
       "      <td>-16</td>\n",
       "      <td>NaN</td>\n",
       "    </tr>\n",
       "    <tr>\n",
       "      <th>4</th>\n",
       "      <td>215354</td>\n",
       "      <td>5714466</td>\n",
       "      <td>Active</td>\n",
       "      <td>currency 1</td>\n",
       "      <td>-629</td>\n",
       "      <td>0</td>\n",
       "      <td>1197.0</td>\n",
       "      <td>NaN</td>\n",
       "      <td>77674.5</td>\n",
       "      <td>0</td>\n",
       "      <td>2700000.0</td>\n",
       "      <td>NaN</td>\n",
       "      <td>NaN</td>\n",
       "      <td>0.0</td>\n",
       "      <td>Consumer credit</td>\n",
       "      <td>-21</td>\n",
       "      <td>NaN</td>\n",
       "    </tr>\n",
       "  </tbody>\n",
       "</table>\n",
       "</div>"
      ],
      "text/plain": [
       "   SK_ID_CURR  SK_ID_BUREAU CREDIT_ACTIVE CREDIT_CURRENCY  DAYS_CREDIT  \\\n",
       "0      215354       5714462        Closed      currency 1         -497   \n",
       "1      215354       5714463        Active      currency 1         -208   \n",
       "2      215354       5714464        Active      currency 1         -203   \n",
       "3      215354       5714465        Active      currency 1         -203   \n",
       "4      215354       5714466        Active      currency 1         -629   \n",
       "\n",
       "   CREDIT_DAY_OVERDUE  DAYS_CREDIT_ENDDATE  DAYS_ENDDATE_FACT  \\\n",
       "0                   0               -153.0             -153.0   \n",
       "1                   0               1075.0                NaN   \n",
       "2                   0                528.0                NaN   \n",
       "3                   0                  NaN                NaN   \n",
       "4                   0               1197.0                NaN   \n",
       "\n",
       "   AMT_CREDIT_MAX_OVERDUE  CNT_CREDIT_PROLONG  AMT_CREDIT_SUM  \\\n",
       "0                     NaN                   0         91323.0   \n",
       "1                     NaN                   0        225000.0   \n",
       "2                     NaN                   0        464323.5   \n",
       "3                     NaN                   0         90000.0   \n",
       "4                 77674.5                   0       2700000.0   \n",
       "\n",
       "   AMT_CREDIT_SUM_DEBT  AMT_CREDIT_SUM_LIMIT  AMT_CREDIT_SUM_OVERDUE  \\\n",
       "0                  0.0                   NaN                     0.0   \n",
       "1             171342.0                   NaN                     0.0   \n",
       "2                  NaN                   NaN                     0.0   \n",
       "3                  NaN                   NaN                     0.0   \n",
       "4                  NaN                   NaN                     0.0   \n",
       "\n",
       "       CREDIT_TYPE  DAYS_CREDIT_UPDATE  AMT_ANNUITY  \n",
       "0  Consumer credit                -131          NaN  \n",
       "1      Credit card                 -20          NaN  \n",
       "2  Consumer credit                 -16          NaN  \n",
       "3      Credit card                 -16          NaN  \n",
       "4  Consumer credit                 -21          NaN  "
      ]
     },
     "execution_count": 250,
     "metadata": {},
     "output_type": "execute_result"
    }
   ],
   "source": [
    "app_train.head()\n",
    "bureau.head()"
   ]
  },
  {
   "cell_type": "code",
   "execution_count": 251,
   "metadata": {},
   "outputs": [],
   "source": [
    "app_test['TARGET'] = np.nan\n",
    "\n",
    "app = app_train.append(app_test, ignore_index = True, sort = True)"
   ]
  },
  {
   "cell_type": "code",
   "execution_count": 252,
   "metadata": {},
   "outputs": [],
   "source": [
    "for index in ['SK_ID_CURR', 'SK_ID_PREV','SK_ID_BUREAU']:\n",
    "    for dataset in [app, bureau_balance, cash, credit, previous, installments]:\n",
    "        if index in list(dataset.columns):\n",
    "            dataset[index] = dataset[index].fillna(0).astype(np.int64)"
   ]
  },
  {
   "cell_type": "markdown",
   "metadata": {},
   "source": [
    "### Feature Tools"
   ]
  },
  {
   "cell_type": "code",
   "execution_count": 253,
   "metadata": {},
   "outputs": [],
   "source": [
    "es = ft.EntitySet(id = 'clients')"
   ]
  },
  {
   "cell_type": "markdown",
   "metadata": {},
   "source": [
    "#### Variable Types"
   ]
  },
  {
   "cell_type": "code",
   "execution_count": 254,
   "metadata": {},
   "outputs": [],
   "source": [
    "import featuretools.variable_types as vtypes"
   ]
  },
  {
   "cell_type": "code",
   "execution_count": 255,
   "metadata": {},
   "outputs": [
    {
     "name": "stdout",
     "output_type": "stream",
     "text": [
      "There are 0 Boolean variables in the application data.\n"
     ]
    }
   ],
   "source": [
    "app_types = {}\n",
    "\n",
    "for col in app:\n",
    "    if(app[col].nunique() == 2) and (app[col].dtype == float):\n",
    "        app_types[col] = vtypes.Boolean\n",
    "        \n",
    "del app_types['TARGET']\n",
    "\n",
    "print('There are {} Boolean variables in the application data.'.format(len(app_types)))"
   ]
  },
  {
   "cell_type": "code",
   "execution_count": 256,
   "metadata": {},
   "outputs": [],
   "source": [
    "app_types['REGION_RATING_CLIENT'] = vtypes.Ordinal \n",
    "app_types['REGION_RATING_CLIENT_W_CITY'] = vtypes.Ordinal \n",
    "app_types['HOUR_APPR_PROCESS_START'] = vtypes.Ordinal "
   ]
  },
  {
   "cell_type": "code",
   "execution_count": 257,
   "metadata": {},
   "outputs": [
    {
     "name": "stdout",
     "output_type": "stream",
     "text": [
      "There are 1 Boolean variables in previous data.\n"
     ]
    }
   ],
   "source": [
    "previous_types = {}\n",
    "for col in previous:\n",
    "    if (previous[col].nunique() == 2) and (previous[col].dtype == float):\n",
    "        previous_types[col] = vtypes.Boolean\n",
    "\n",
    "print('There are {} Boolean variables in previous data.'.format(len(previous_types)))\n"
   ]
  },
  {
   "cell_type": "code",
   "execution_count": 258,
   "metadata": {},
   "outputs": [],
   "source": [
    "installments = installments.drop(columns = ['SK_ID_CURR'])\n",
    "credit = credit.drop(columns = ['SK_ID_CURR'])\n",
    "cash = cash.drop(columns = ['SK_ID_CURR'])"
   ]
  },
  {
   "cell_type": "markdown",
   "metadata": {},
   "source": [
    "#### Adding Entities"
   ]
  },
  {
   "cell_type": "code",
   "execution_count": 259,
   "metadata": {},
   "outputs": [],
   "source": [
    "es = es.entity_from_dataframe(entity_id = 'app', dataframe = app, index = 'SK_ID_CURR',\n",
    "                             variable_types = app_types)\n",
    "es = es.entity_from_dataframe(entity_id = 'bureau', dataframe = bureau, index = 'SK_ID_BUREAU')\n",
    "\n",
    "es = es.entity_from_dataframe(entity_id = 'previous', dataframe = previous, index = 'SK_ID_PREV',\n",
    "                              variable_types = previous_types)\n",
    "\n",
    "# Entities that do not have a unique index\n",
    "es = es.entity_from_dataframe(entity_id = 'bureau_balance', dataframe = bureau_balance, \n",
    "                              make_index = True, index = 'bureaubalance_index')\n",
    "\n",
    "es = es.entity_from_dataframe(entity_id = 'cash', dataframe = cash, \n",
    "                              make_index = True, index = 'cash_index')\n",
    "\n",
    "es = es.entity_from_dataframe(entity_id = 'installments', dataframe = installments,\n",
    "                              make_index = True, index = 'installments_index')\n",
    "\n",
    "es = es.entity_from_dataframe(entity_id = 'credit', dataframe = credit,\n",
    "                              make_index = True, index = 'credit_index')"
   ]
  },
  {
   "cell_type": "code",
   "execution_count": 260,
   "metadata": {},
   "outputs": [
    {
     "data": {
      "text/plain": [
       "Entityset: clients\n",
       "  Entities:\n",
       "    app [Rows: 20000, Columns: 122]\n",
       "    bureau [Rows: 10000, Columns: 17]\n",
       "    previous [Rows: 10000, Columns: 37]\n",
       "    bureau_balance [Rows: 10000, Columns: 4]\n",
       "    cash [Rows: 10000, Columns: 8]\n",
       "    installments [Rows: 10000, Columns: 8]\n",
       "    credit [Rows: 10000, Columns: 23]\n",
       "  Relationships:\n",
       "    No relationships"
      ]
     },
     "execution_count": 260,
     "metadata": {},
     "output_type": "execute_result"
    }
   ],
   "source": [
    "es"
   ]
  },
  {
   "cell_type": "markdown",
   "metadata": {},
   "source": [
    "#### Adding Relationships"
   ]
  },
  {
   "cell_type": "code",
   "execution_count": 261,
   "metadata": {},
   "outputs": [],
   "source": [
    "r_app_bureau = ft.Relationship(es['app']['SK_ID_CURR'], es['bureau']['SK_ID_CURR'])\n",
    "r_bureau_balance = ft.Relationship(es['bureau']['SK_ID_BUREAU'], es['bureau_balance']['SK_ID_BUREAU'])\n",
    "\n",
    "r_app_previous = ft.Relationship(es['app']['SK_ID_CURR'], es['previous']['SK_ID_CURR'])\n",
    "r_previous_cash = ft.Relationship(es['previous']['SK_ID_PREV'], es['cash']['SK_ID_PREV'])\n",
    "r_previous_installments = ft.Relationship(es['previous']['SK_ID_PREV'], es['installments']['SK_ID_PREV'])\n",
    "r_previous_credit = ft.Relationship(es['previous']['SK_ID_PREV'], es['credit']['SK_ID_PREV'])"
   ]
  },
  {
   "cell_type": "code",
   "execution_count": 262,
   "metadata": {},
   "outputs": [],
   "source": [
    "es = es.add_relationships([r_app_bureau, r_bureau_balance, r_app_previous,\n",
    "                           r_previous_cash, r_previous_installments, r_previous_credit])"
   ]
  },
  {
   "cell_type": "code",
   "execution_count": 263,
   "metadata": {},
   "outputs": [
    {
     "data": {
      "text/plain": [
       "Entityset: clients\n",
       "  Entities:\n",
       "    app [Rows: 20000, Columns: 122]\n",
       "    bureau [Rows: 10000, Columns: 17]\n",
       "    previous [Rows: 10000, Columns: 37]\n",
       "    bureau_balance [Rows: 10000, Columns: 4]\n",
       "    cash [Rows: 10000, Columns: 8]\n",
       "    installments [Rows: 10000, Columns: 8]\n",
       "    credit [Rows: 10000, Columns: 23]\n",
       "  Relationships:\n",
       "    bureau.SK_ID_CURR -> app.SK_ID_CURR\n",
       "    bureau_balance.SK_ID_BUREAU -> bureau.SK_ID_BUREAU\n",
       "    previous.SK_ID_CURR -> app.SK_ID_CURR\n",
       "    cash.SK_ID_PREV -> previous.SK_ID_PREV\n",
       "    installments.SK_ID_PREV -> previous.SK_ID_PREV\n",
       "    credit.SK_ID_PREV -> previous.SK_ID_PREV"
      ]
     },
     "execution_count": 263,
     "metadata": {},
     "output_type": "execute_result"
    }
   ],
   "source": [
    "es"
   ]
  },
  {
   "cell_type": "markdown",
   "metadata": {},
   "source": [
    "#### Feature Primitives"
   ]
  },
  {
   "cell_type": "code",
   "execution_count": 264,
   "metadata": {},
   "outputs": [
    {
     "data": {
      "text/html": [
       "<div>\n",
       "<style scoped>\n",
       "    .dataframe tbody tr th:only-of-type {\n",
       "        vertical-align: middle;\n",
       "    }\n",
       "\n",
       "    .dataframe tbody tr th {\n",
       "        vertical-align: top;\n",
       "    }\n",
       "\n",
       "    .dataframe thead th {\n",
       "        text-align: right;\n",
       "    }\n",
       "</style>\n",
       "<table border=\"1\" class=\"dataframe\">\n",
       "  <thead>\n",
       "    <tr style=\"text-align: right;\">\n",
       "      <th></th>\n",
       "      <th>name</th>\n",
       "      <th>type</th>\n",
       "      <th>description</th>\n",
       "    </tr>\n",
       "  </thead>\n",
       "  <tbody>\n",
       "    <tr>\n",
       "      <th>0</th>\n",
       "      <td>skew</td>\n",
       "      <td>aggregation</td>\n",
       "      <td>Time since last related instance.</td>\n",
       "    </tr>\n",
       "    <tr>\n",
       "      <th>1</th>\n",
       "      <td>sum</td>\n",
       "      <td>aggregation</td>\n",
       "      <td>Time since last related instance.</td>\n",
       "    </tr>\n",
       "    <tr>\n",
       "      <th>2</th>\n",
       "      <td>min</td>\n",
       "      <td>aggregation</td>\n",
       "      <td>Time since last related instance.</td>\n",
       "    </tr>\n",
       "    <tr>\n",
       "      <th>3</th>\n",
       "      <td>count</td>\n",
       "      <td>aggregation</td>\n",
       "      <td>Time since last related instance.</td>\n",
       "    </tr>\n",
       "    <tr>\n",
       "      <th>4</th>\n",
       "      <td>num_true</td>\n",
       "      <td>aggregation</td>\n",
       "      <td>Time since last related instance.</td>\n",
       "    </tr>\n",
       "  </tbody>\n",
       "</table>\n",
       "</div>"
      ],
      "text/plain": [
       "       name         type                        description\n",
       "0      skew  aggregation  Time since last related instance.\n",
       "1       sum  aggregation  Time since last related instance.\n",
       "2       min  aggregation  Time since last related instance.\n",
       "3     count  aggregation  Time since last related instance.\n",
       "4  num_true  aggregation  Time since last related instance."
      ]
     },
     "execution_count": 264,
     "metadata": {},
     "output_type": "execute_result"
    }
   ],
   "source": [
    "primitives = ft.list_primitives()\n",
    "pd.options.display.max_colwidth = 100\n",
    "primitives[primitives['type'] == 'aggregation'].head(5)\n"
   ]
  },
  {
   "cell_type": "code",
   "execution_count": 265,
   "metadata": {},
   "outputs": [
    {
     "data": {
      "text/html": [
       "<div>\n",
       "<style scoped>\n",
       "    .dataframe tbody tr th:only-of-type {\n",
       "        vertical-align: middle;\n",
       "    }\n",
       "\n",
       "    .dataframe tbody tr th {\n",
       "        vertical-align: top;\n",
       "    }\n",
       "\n",
       "    .dataframe thead th {\n",
       "        text-align: right;\n",
       "    }\n",
       "</style>\n",
       "<table border=\"1\" class=\"dataframe\">\n",
       "  <thead>\n",
       "    <tr style=\"text-align: right;\">\n",
       "      <th></th>\n",
       "      <th>name</th>\n",
       "      <th>type</th>\n",
       "      <th>description</th>\n",
       "    </tr>\n",
       "  </thead>\n",
       "  <tbody>\n",
       "    <tr>\n",
       "      <th>19</th>\n",
       "      <td>numwords</td>\n",
       "      <td>transform</td>\n",
       "      <td></td>\n",
       "    </tr>\n",
       "    <tr>\n",
       "      <th>20</th>\n",
       "      <td>hour</td>\n",
       "      <td>transform</td>\n",
       "      <td></td>\n",
       "    </tr>\n",
       "    <tr>\n",
       "      <th>21</th>\n",
       "      <td>less_than_scalar</td>\n",
       "      <td>transform</td>\n",
       "      <td></td>\n",
       "    </tr>\n",
       "    <tr>\n",
       "      <th>22</th>\n",
       "      <td>less_than</td>\n",
       "      <td>transform</td>\n",
       "      <td></td>\n",
       "    </tr>\n",
       "    <tr>\n",
       "      <th>23</th>\n",
       "      <td>and</td>\n",
       "      <td>transform</td>\n",
       "      <td></td>\n",
       "    </tr>\n",
       "  </tbody>\n",
       "</table>\n",
       "</div>"
      ],
      "text/plain": [
       "                name       type description\n",
       "19          numwords  transform            \n",
       "20              hour  transform            \n",
       "21  less_than_scalar  transform            \n",
       "22         less_than  transform            \n",
       "23               and  transform            "
      ]
     },
     "execution_count": 265,
     "metadata": {},
     "output_type": "execute_result"
    }
   ],
   "source": [
    "primitives[primitives['type'] == 'transform'].head(5)\n"
   ]
  },
  {
   "cell_type": "markdown",
   "metadata": {},
   "source": [
    "#### Deep Feature Synthesis "
   ]
  },
  {
   "cell_type": "code",
   "execution_count": 266,
   "metadata": {},
   "outputs": [
    {
     "name": "stdout",
     "output_type": "stream",
     "text": [
      "Built 1580 features\n"
     ]
    }
   ],
   "source": [
    "default_agg_primitives = ['sum','std','max','skew','min','mean','count','percent_true','num_unique','mode']\n",
    "default_trans_primitives = ['day','year','month','weekday','haversine','numwords','characters']\n",
    "\n",
    "feature_names = ft.dfs(entityset = es, target_entity = 'app', \n",
    "                      trans_primitives = default_trans_primitives, \n",
    "                      agg_primitives = default_agg_primitives,\n",
    "                      where_primitives = [], seed_features = [],\n",
    "                      max_depth = 2, n_jobs = -1, verbose = 1,\n",
    "                      features_only = True)"
   ]
  },
  {
   "cell_type": "code",
   "execution_count": 267,
   "metadata": {},
   "outputs": [
    {
     "data": {
      "text/plain": [
       "[<Feature: MEAN(previous.MEAN(credit.AMT_RECIVABLE))>,\n",
       " <Feature: MEAN(previous.MEAN(credit.AMT_TOTAL_RECEIVABLE))>,\n",
       " <Feature: MEAN(previous.MEAN(credit.CNT_DRAWINGS_ATM_CURRENT))>,\n",
       " <Feature: MEAN(previous.MEAN(credit.CNT_DRAWINGS_CURRENT))>,\n",
       " <Feature: MEAN(previous.MEAN(credit.CNT_DRAWINGS_OTHER_CURRENT))>,\n",
       " <Feature: MEAN(previous.MEAN(credit.CNT_DRAWINGS_POS_CURRENT))>,\n",
       " <Feature: MEAN(previous.MEAN(credit.CNT_INSTALMENT_MATURE_CUM))>,\n",
       " <Feature: MEAN(previous.MEAN(credit.SK_DPD))>,\n",
       " <Feature: MEAN(previous.MEAN(credit.SK_DPD_DEF))>,\n",
       " <Feature: MEAN(previous.COUNT(credit))>,\n",
       " <Feature: MEAN(previous.NUM_UNIQUE(credit.NAME_CONTRACT_STATUS))>,\n",
       " <Feature: NUM_UNIQUE(previous.MODE(cash.NAME_CONTRACT_STATUS))>,\n",
       " <Feature: NUM_UNIQUE(previous.MODE(credit.NAME_CONTRACT_STATUS))>,\n",
       " <Feature: MODE(previous.MODE(cash.NAME_CONTRACT_STATUS))>,\n",
       " <Feature: MODE(previous.MODE(credit.NAME_CONTRACT_STATUS))>]"
      ]
     },
     "execution_count": 267,
     "metadata": {},
     "output_type": "execute_result"
    }
   ],
   "source": [
    "feature_names[-15:]"
   ]
  },
  {
   "cell_type": "markdown",
   "metadata": {},
   "source": [
    "#### Selecting Primitives"
   ]
  },
  {
   "cell_type": "code",
   "execution_count": 280,
   "metadata": {
    "scrolled": true
   },
   "outputs": [
    {
     "name": "stdout",
     "output_type": "stream",
     "text": [
      "Built 183 features\n"
     ]
    }
   ],
   "source": [
    "agg_primitives = ['sum']\n",
    "trans_primitives = ['day']\n",
    "feature_names = ft.dfs(entityset=es, target_entity='app',\n",
    "                      agg_primitives = agg_primitives, \n",
    "                      trans_primitives = trans_primitives,\n",
    "                      n_jobs = -1, verbose = 1,\n",
    "                      features_only = True, \n",
    "                      max_depth = 2)"
   ]
  },
  {
   "cell_type": "code",
   "execution_count": 290,
   "metadata": {},
   "outputs": [],
   "source": [
    "from featuretools.primitives import make_agg_primitive, make_trans_primitive\n",
    "\n",
    "def absolute(column):\n",
    "    return abs(column)\n",
    "\n",
    "Absolute = make_trans_primitive(function=absolute,\n",
    "                               input_types=[vtypes.Numeric],\n",
    "                               return_type=vtypes.Numeric)\n",
    "\n",
    "def maximum(column): \n",
    "    return max(column)\n",
    "\n",
    "Maximum = make_agg_primitive(function=maximum, input_types=[vtypes.Numeric],\n",
    "                            return_type=vtypes.Numeric)\n",
    "\n",
    "def num_over_1000(column):\n",
    "    count = 0\n",
    "    for i in range(len(column)):\n",
    "        if (column.iloc[i] > 1000):\n",
    "            count = count + 1\n",
    "    return count\n",
    "\n",
    "NumOver1000 = make_agg_primitive(function=num_over_1000, input_types = [vtypes.Numeric],\n",
    "                                return_type = vtypes.Numeric)\n",
    "    "
   ]
  },
  {
   "cell_type": "markdown",
   "metadata": {},
   "source": [
    "#### Run Full Deep Feature Synthesis"
   ]
  },
  {
   "cell_type": "code",
   "execution_count": 278,
   "metadata": {},
   "outputs": [
    {
     "name": "stdout",
     "output_type": "stream",
     "text": [
      "Total size of entityset: 0.05982 gb.\n"
     ]
    }
   ],
   "source": [
    "import sys\n",
    "print('Total size of entityset: {:.5f} gb.'.format(sys.getsizeof(es)/1e9))"
   ]
  },
  {
   "cell_type": "code",
   "execution_count": 279,
   "metadata": {},
   "outputs": [
    {
     "name": "stdout",
     "output_type": "stream",
     "text": [
      "Total number of cpus detected: 4.\n",
      "Total size of system memory: 12.745 gb.\n"
     ]
    }
   ],
   "source": [
    "import psutil\n",
    "\n",
    "print('Total number of cpus detected: {}.'.format(psutil.cpu_count()))\n",
    "print('Total size of system memory: {:.5} gb.'.format(psutil.virtual_memory().total/1e9))"
   ]
  },
  {
   "cell_type": "code",
   "execution_count": 281,
   "metadata": {},
   "outputs": [
    {
     "name": "stdout",
     "output_type": "stream",
     "text": [
      "Built 183 features\n",
      "\n",
      "Elapsed: 00:00 | Remaining: ? | Progress:   0%|          | Calculated: 0/40 chunks\n",
      "Elapsed: 00:00 | Remaining: 00:15 | Progress:   2%|▎         | Calculated: 1/40 chunks\n",
      "Elapsed: 00:00 | Remaining: 00:14 | Progress:   5%|▌         | Calculated: 2/40 chunks\n",
      "Elapsed: 00:01 | Remaining: 00:14 | Progress:   8%|▊         | Calculated: 3/40 chunks\n",
      "Elapsed: 00:01 | Remaining: 00:13 | Progress:  10%|█         | Calculated: 4/40 chunks\n",
      "Elapsed: 00:01 | Remaining: 00:14 | Progress:  12%|█▎        | Calculated: 5/40 chunks\n",
      "Elapsed: 00:02 | Remaining: 00:14 | Progress:  15%|█▌        | Calculated: 6/40 chunks\n",
      "Elapsed: 00:02 | Remaining: 00:14 | Progress:  18%|█▊        | Calculated: 7/40 chunks\n",
      "Elapsed: 00:03 | Remaining: 00:13 | Progress:  20%|██        | Calculated: 8/40 chunks\n",
      "Elapsed: 00:03 | Remaining: 00:13 | Progress:  22%|██▎       | Calculated: 9/40 chunks\n",
      "Elapsed: 00:04 | Remaining: 00:12 | Progress:  25%|██▌       | Calculated: 10/40 chunks\n",
      "Elapsed: 00:04 | Remaining: 00:11 | Progress:  28%|██▊       | Calculated: 11/40 chunks\n",
      "Elapsed: 00:05 | Remaining: 00:12 | Progress:  30%|███       | Calculated: 12/40 chunks\n",
      "Elapsed: 00:05 | Remaining: 00:11 | Progress:  32%|███▎      | Calculated: 13/40 chunks\n",
      "Elapsed: 00:05 | Remaining: 00:11 | Progress:  35%|███▌      | Calculated: 14/40 chunks\n",
      "Elapsed: 00:06 | Remaining: 00:10 | Progress:  38%|███▊      | Calculated: 15/40 chunks\n",
      "Elapsed: 00:06 | Remaining: 00:09 | Progress:  40%|████      | Calculated: 16/40 chunks\n",
      "Elapsed: 00:07 | Remaining: 00:09 | Progress:  42%|████▎     | Calculated: 17/40 chunks\n",
      "Elapsed: 00:07 | Remaining: 00:09 | Progress:  45%|████▌     | Calculated: 18/40 chunks\n",
      "Elapsed: 00:07 | Remaining: 00:08 | Progress:  48%|████▊     | Calculated: 19/40 chunks\n",
      "Elapsed: 00:08 | Remaining: 00:08 | Progress:  50%|█████     | Calculated: 20/40 chunks\n",
      "Elapsed: 00:08 | Remaining: 00:07 | Progress:  52%|█████▎    | Calculated: 21/40 chunks\n",
      "Elapsed: 00:09 | Remaining: 00:07 | Progress:  55%|█████▌    | Calculated: 22/40 chunks\n",
      "Elapsed: 00:09 | Remaining: 00:07 | Progress:  57%|█████▊    | Calculated: 23/40 chunks\n",
      "Elapsed: 00:09 | Remaining: 00:06 | Progress:  60%|██████    | Calculated: 24/40 chunks\n",
      "Elapsed: 00:10 | Remaining: 00:06 | Progress:  62%|██████▎   | Calculated: 25/40 chunks\n",
      "Elapsed: 00:10 | Remaining: 00:05 | Progress:  65%|██████▌   | Calculated: 26/40 chunks\n",
      "Elapsed: 00:11 | Remaining: 00:05 | Progress:  68%|██████▊   | Calculated: 27/40 chunks\n",
      "Elapsed: 00:11 | Remaining: 00:05 | Progress:  70%|███████   | Calculated: 28/40 chunks\n",
      "Elapsed: 00:12 | Remaining: 00:04 | Progress:  72%|███████▎  | Calculated: 29/40 chunks\n",
      "Elapsed: 00:12 | Remaining: 00:04 | Progress:  75%|███████▌  | Calculated: 30/40 chunks\n",
      "Elapsed: 00:12 | Remaining: 00:03 | Progress:  78%|███████▊  | Calculated: 31/40 chunks\n",
      "Elapsed: 00:13 | Remaining: 00:03 | Progress:  80%|████████  | Calculated: 32/40 chunks\n",
      "Elapsed: 00:13 | Remaining: 00:02 | Progress:  82%|████████▎ | Calculated: 33/40 chunks\n",
      "Elapsed: 00:14 | Remaining: 00:02 | Progress:  85%|████████▌ | Calculated: 34/40 chunks\n",
      "Elapsed: 00:14 | Remaining: 00:01 | Progress:  88%|████████▊ | Calculated: 35/40 chunks\n",
      "Elapsed: 00:14 | Remaining: 00:01 | Progress:  90%|█████████ | Calculated: 36/40 chunks\n",
      "Elapsed: 00:15 | Remaining: 00:01 | Progress:  92%|█████████▎| Calculated: 37/40 chunks\n",
      "Elapsed: 00:15 | Remaining: 00:00 | Progress:  95%|█████████▌| Calculated: 38/40 chunks\n",
      "Elapsed: 00:16 | Remaining: 00:00 | Progress:  98%|█████████▊| Calculated: 39/40 chunks\n",
      "Elapsed: 00:16 | Remaining: 00:00 | Progress: 100%|██████████| Calculated: 40/40 chunks\n"
     ]
    }
   ],
   "source": [
    "feature_matrix, feature_names = ft.dfs(entityset=es, target_entity = 'app',\n",
    "                                      agg_primitives = agg_primitives, \n",
    "                                      trans_primitives = trans_primitives,\n",
    "                                      n_jobs = 1, verbose = 1, features_only = False, \n",
    "                                      max_depth = 2, chunk_size = 500)"
   ]
  },
  {
   "cell_type": "code",
   "execution_count": 291,
   "metadata": {
    "scrolled": true
   },
   "outputs": [
    {
     "name": "stdout",
     "output_type": "stream",
     "text": [
      "Built 409 features\n",
      "\n",
      "\n",
      "\n",
      "Elapsed: 00:00 | Remaining: ? | Progress:   0%|          | Calculated: 0/40 chunks\n",
      "\n",
      "\n",
      "Elapsed: 00:01 | Remaining: 00:48 | Progress:   2%|▎         | Calculated: 1/40 chunks\n",
      "\n",
      "\n",
      "Elapsed: 00:02 | Remaining: 00:46 | Progress:   5%|▌         | Calculated: 2/40 chunks\n",
      "\n",
      "\n",
      "Elapsed: 00:03 | Remaining: 00:46 | Progress:   8%|▊         | Calculated: 3/40 chunks\n",
      "\n",
      "\n",
      "Elapsed: 00:04 | Remaining: 00:44 | Progress:  10%|█         | Calculated: 4/40 chunks\n",
      "\n",
      "\n",
      "Elapsed: 00:06 | Remaining: 00:44 | Progress:  12%|█▎        | Calculated: 5/40 chunks\n",
      "\n",
      "\n",
      "Elapsed: 00:07 | Remaining: 00:41 | Progress:  15%|█▌        | Calculated: 6/40 chunks\n",
      "\n",
      "\n",
      "Elapsed: 00:08 | Remaining: 00:38 | Progress:  18%|█▊        | Calculated: 7/40 chunks\n",
      "\n",
      "\n",
      "Elapsed: 00:09 | Remaining: 00:36 | Progress:  20%|██        | Calculated: 8/40 chunks\n",
      "\n",
      "\n",
      "Elapsed: 00:10 | Remaining: 00:35 | Progress:  22%|██▎       | Calculated: 9/40 chunks\n",
      "\n",
      "\n",
      "Elapsed: 00:11 | Remaining: 00:34 | Progress:  25%|██▌       | Calculated: 10/40 chunks\n",
      "\n",
      "\n",
      "Elapsed: 00:12 | Remaining: 00:32 | Progress:  28%|██▊       | Calculated: 11/40 chunks\n",
      "\n",
      "\n",
      "Elapsed: 00:13 | Remaining: 00:31 | Progress:  30%|███       | Calculated: 12/40 chunks\n",
      "\n",
      "\n",
      "Elapsed: 00:15 | Remaining: 00:30 | Progress:  32%|███▎      | Calculated: 13/40 chunks\n",
      "\n",
      "\n",
      "Elapsed: 00:16 | Remaining: 00:31 | Progress:  35%|███▌      | Calculated: 14/40 chunks\n",
      "\n",
      "\n",
      "Elapsed: 00:17 | Remaining: 00:29 | Progress:  38%|███▊      | Calculated: 15/40 chunks\n",
      "\n",
      "\n",
      "Elapsed: 00:18 | Remaining: 00:27 | Progress:  40%|████      | Calculated: 16/40 chunks\n",
      "\n",
      "\n",
      "Elapsed: 00:19 | Remaining: 00:26 | Progress:  42%|████▎     | Calculated: 17/40 chunks\n",
      "\n",
      "\n",
      "Elapsed: 00:21 | Remaining: 00:25 | Progress:  45%|████▌     | Calculated: 18/40 chunks\n",
      "\n",
      "\n",
      "Elapsed: 00:22 | Remaining: 00:25 | Progress:  48%|████▊     | Calculated: 19/40 chunks\n",
      "\n",
      "\n",
      "Elapsed: 00:23 | Remaining: 00:25 | Progress:  50%|█████     | Calculated: 20/40 chunks\n",
      "\n",
      "\n",
      "Elapsed: 00:25 | Remaining: 00:29 | Progress:  52%|█████▎    | Calculated: 21/40 chunks\n",
      "\n",
      "\n",
      "Elapsed: 00:27 | Remaining: 00:27 | Progress:  55%|█████▌    | Calculated: 22/40 chunks\n",
      "\n",
      "\n",
      "Elapsed: 00:28 | Remaining: 00:23 | Progress:  57%|█████▊    | Calculated: 23/40 chunks\n",
      "\n",
      "\n",
      "Elapsed: 00:30 | Remaining: 00:24 | Progress:  60%|██████    | Calculated: 24/40 chunks\n",
      "\n",
      "\n",
      "Elapsed: 00:31 | Remaining: 00:22 | Progress:  62%|██████▎   | Calculated: 25/40 chunks\n",
      "\n",
      "\n",
      "Elapsed: 00:33 | Remaining: 00:21 | Progress:  65%|██████▌   | Calculated: 26/40 chunks\n",
      "\n",
      "\n",
      "Elapsed: 00:34 | Remaining: 00:19 | Progress:  68%|██████▊   | Calculated: 27/40 chunks\n",
      "\n",
      "\n",
      "Elapsed: 00:35 | Remaining: 00:16 | Progress:  70%|███████   | Calculated: 28/40 chunks\n",
      "\n",
      "\n",
      "Elapsed: 00:37 | Remaining: 00:15 | Progress:  72%|███████▎  | Calculated: 29/40 chunks\n",
      "\n",
      "\n",
      "Elapsed: 00:38 | Remaining: 00:14 | Progress:  75%|███████▌  | Calculated: 30/40 chunks\n",
      "\n",
      "\n",
      "Elapsed: 00:40 | Remaining: 00:12 | Progress:  78%|███████▊  | Calculated: 31/40 chunks\n",
      "\n",
      "\n",
      "Elapsed: 00:41 | Remaining: 00:11 | Progress:  80%|████████  | Calculated: 32/40 chunks\n",
      "\n",
      "\n",
      "Elapsed: 00:42 | Remaining: 00:09 | Progress:  82%|████████▎ | Calculated: 33/40 chunks\n",
      "\n",
      "\n",
      "Elapsed: 00:44 | Remaining: 00:08 | Progress:  85%|████████▌ | Calculated: 34/40 chunks\n",
      "\n",
      "\n",
      "Elapsed: 00:45 | Remaining: 00:06 | Progress:  88%|████████▊ | Calculated: 35/40 chunks\n",
      "\n",
      "\n",
      "Elapsed: 00:46 | Remaining: 00:05 | Progress:  90%|█████████ | Calculated: 36/40 chunks\n",
      "\n",
      "\n",
      "Elapsed: 00:48 | Remaining: 00:04 | Progress:  92%|█████████▎| Calculated: 37/40 chunks\n",
      "\n",
      "\n",
      "Elapsed: 00:49 | Remaining: 00:02 | Progress:  95%|█████████▌| Calculated: 38/40 chunks\n",
      "\n",
      "\n",
      "Elapsed: 00:50 | Remaining: 00:01 | Progress:  98%|█████████▊| Calculated: 39/40 chunks\n",
      "\n",
      "\n",
      "Elapsed: 00:51 | Remaining: 00:00 | Progress: 100%|██████████| Calculated: 40/40 chunks\n",
      "\n",
      "\n"
     ]
    }
   ],
   "source": [
    "feature_matrix, feature_names = ft.dfs(entityset=es, target_entity = 'app',\n",
    "                                      agg_primitives = [NumOver1000], \n",
    "                                      trans_primitives = [Absolute],\n",
    "                                      n_jobs = 1, verbose = 1, features_only = False, \n",
    "                                      max_depth = 2, chunk_size = 500)"
   ]
  },
  {
   "cell_type": "code",
   "execution_count": 284,
   "metadata": {},
   "outputs": [
    {
     "name": "stdout",
     "output_type": "stream",
     "text": [
      "(20000, 183)\n"
     ]
    }
   ],
   "source": [
    "print(np.shape(feature_matrix))\n"
   ]
  },
  {
   "cell_type": "code",
   "execution_count": 292,
   "metadata": {},
   "outputs": [
    {
     "data": {
      "text/html": [
       "<div>\n",
       "<style scoped>\n",
       "    .dataframe tbody tr th:only-of-type {\n",
       "        vertical-align: middle;\n",
       "    }\n",
       "\n",
       "    .dataframe tbody tr th {\n",
       "        vertical-align: top;\n",
       "    }\n",
       "\n",
       "    .dataframe thead th {\n",
       "        text-align: right;\n",
       "    }\n",
       "</style>\n",
       "<table border=\"1\" class=\"dataframe\">\n",
       "  <thead>\n",
       "    <tr style=\"text-align: right;\">\n",
       "      <th></th>\n",
       "      <th>AMT_ANNUITY</th>\n",
       "      <th>AMT_CREDIT</th>\n",
       "      <th>AMT_GOODS_PRICE</th>\n",
       "      <th>AMT_INCOME_TOTAL</th>\n",
       "      <th>AMT_REQ_CREDIT_BUREAU_DAY</th>\n",
       "      <th>AMT_REQ_CREDIT_BUREAU_HOUR</th>\n",
       "      <th>AMT_REQ_CREDIT_BUREAU_MON</th>\n",
       "      <th>AMT_REQ_CREDIT_BUREAU_QRT</th>\n",
       "      <th>AMT_REQ_CREDIT_BUREAU_WEEK</th>\n",
       "      <th>AMT_REQ_CREDIT_BUREAU_YEAR</th>\n",
       "      <th>...</th>\n",
       "      <th>ABSOLUTE(NUM_OVER_1000(credit.AMT_RECEIVABLE_PRINCIPAL))</th>\n",
       "      <th>ABSOLUTE(NUM_OVER_1000(credit.AMT_RECIVABLE))</th>\n",
       "      <th>ABSOLUTE(NUM_OVER_1000(credit.AMT_TOTAL_RECEIVABLE))</th>\n",
       "      <th>ABSOLUTE(NUM_OVER_1000(credit.CNT_DRAWINGS_ATM_CURRENT))</th>\n",
       "      <th>ABSOLUTE(NUM_OVER_1000(credit.CNT_DRAWINGS_CURRENT))</th>\n",
       "      <th>ABSOLUTE(NUM_OVER_1000(credit.CNT_DRAWINGS_OTHER_CURRENT))</th>\n",
       "      <th>ABSOLUTE(NUM_OVER_1000(credit.CNT_DRAWINGS_POS_CURRENT))</th>\n",
       "      <th>ABSOLUTE(NUM_OVER_1000(credit.CNT_INSTALMENT_MATURE_CUM))</th>\n",
       "      <th>ABSOLUTE(NUM_OVER_1000(credit.SK_DPD))</th>\n",
       "      <th>ABSOLUTE(NUM_OVER_1000(credit.SK_DPD_DEF))</th>\n",
       "    </tr>\n",
       "    <tr>\n",
       "      <th>SK_ID_CURR</th>\n",
       "      <th></th>\n",
       "      <th></th>\n",
       "      <th></th>\n",
       "      <th></th>\n",
       "      <th></th>\n",
       "      <th></th>\n",
       "      <th></th>\n",
       "      <th></th>\n",
       "      <th></th>\n",
       "      <th></th>\n",
       "      <th></th>\n",
       "      <th></th>\n",
       "      <th></th>\n",
       "      <th></th>\n",
       "      <th></th>\n",
       "      <th></th>\n",
       "      <th></th>\n",
       "      <th></th>\n",
       "      <th></th>\n",
       "      <th></th>\n",
       "      <th></th>\n",
       "    </tr>\n",
       "  </thead>\n",
       "  <tbody>\n",
       "    <tr>\n",
       "      <th>100001</th>\n",
       "      <td>20560.5</td>\n",
       "      <td>568800.0</td>\n",
       "      <td>450000.0</td>\n",
       "      <td>135000.0</td>\n",
       "      <td>0.0</td>\n",
       "      <td>0.0</td>\n",
       "      <td>0.0</td>\n",
       "      <td>0.0</td>\n",
       "      <td>0.0</td>\n",
       "      <td>0.0</td>\n",
       "      <td>...</td>\n",
       "      <td>0.0</td>\n",
       "      <td>0.0</td>\n",
       "      <td>0.0</td>\n",
       "      <td>0.0</td>\n",
       "      <td>0.0</td>\n",
       "      <td>0.0</td>\n",
       "      <td>0.0</td>\n",
       "      <td>0.0</td>\n",
       "      <td>0.0</td>\n",
       "      <td>0.0</td>\n",
       "    </tr>\n",
       "    <tr>\n",
       "      <th>100002</th>\n",
       "      <td>24700.5</td>\n",
       "      <td>406597.5</td>\n",
       "      <td>351000.0</td>\n",
       "      <td>202500.0</td>\n",
       "      <td>0.0</td>\n",
       "      <td>0.0</td>\n",
       "      <td>0.0</td>\n",
       "      <td>0.0</td>\n",
       "      <td>0.0</td>\n",
       "      <td>1.0</td>\n",
       "      <td>...</td>\n",
       "      <td>0.0</td>\n",
       "      <td>0.0</td>\n",
       "      <td>0.0</td>\n",
       "      <td>0.0</td>\n",
       "      <td>0.0</td>\n",
       "      <td>0.0</td>\n",
       "      <td>0.0</td>\n",
       "      <td>0.0</td>\n",
       "      <td>0.0</td>\n",
       "      <td>0.0</td>\n",
       "    </tr>\n",
       "    <tr>\n",
       "      <th>100003</th>\n",
       "      <td>35698.5</td>\n",
       "      <td>1293502.5</td>\n",
       "      <td>1129500.0</td>\n",
       "      <td>270000.0</td>\n",
       "      <td>0.0</td>\n",
       "      <td>0.0</td>\n",
       "      <td>0.0</td>\n",
       "      <td>0.0</td>\n",
       "      <td>0.0</td>\n",
       "      <td>0.0</td>\n",
       "      <td>...</td>\n",
       "      <td>0.0</td>\n",
       "      <td>0.0</td>\n",
       "      <td>0.0</td>\n",
       "      <td>0.0</td>\n",
       "      <td>0.0</td>\n",
       "      <td>0.0</td>\n",
       "      <td>0.0</td>\n",
       "      <td>0.0</td>\n",
       "      <td>0.0</td>\n",
       "      <td>0.0</td>\n",
       "    </tr>\n",
       "    <tr>\n",
       "      <th>100004</th>\n",
       "      <td>6750.0</td>\n",
       "      <td>135000.0</td>\n",
       "      <td>135000.0</td>\n",
       "      <td>67500.0</td>\n",
       "      <td>0.0</td>\n",
       "      <td>0.0</td>\n",
       "      <td>0.0</td>\n",
       "      <td>0.0</td>\n",
       "      <td>0.0</td>\n",
       "      <td>0.0</td>\n",
       "      <td>...</td>\n",
       "      <td>0.0</td>\n",
       "      <td>0.0</td>\n",
       "      <td>0.0</td>\n",
       "      <td>0.0</td>\n",
       "      <td>0.0</td>\n",
       "      <td>0.0</td>\n",
       "      <td>0.0</td>\n",
       "      <td>0.0</td>\n",
       "      <td>0.0</td>\n",
       "      <td>0.0</td>\n",
       "    </tr>\n",
       "    <tr>\n",
       "      <th>100005</th>\n",
       "      <td>17370.0</td>\n",
       "      <td>222768.0</td>\n",
       "      <td>180000.0</td>\n",
       "      <td>99000.0</td>\n",
       "      <td>0.0</td>\n",
       "      <td>0.0</td>\n",
       "      <td>0.0</td>\n",
       "      <td>0.0</td>\n",
       "      <td>0.0</td>\n",
       "      <td>3.0</td>\n",
       "      <td>...</td>\n",
       "      <td>0.0</td>\n",
       "      <td>0.0</td>\n",
       "      <td>0.0</td>\n",
       "      <td>0.0</td>\n",
       "      <td>0.0</td>\n",
       "      <td>0.0</td>\n",
       "      <td>0.0</td>\n",
       "      <td>0.0</td>\n",
       "      <td>0.0</td>\n",
       "      <td>0.0</td>\n",
       "    </tr>\n",
       "  </tbody>\n",
       "</table>\n",
       "<p>5 rows × 409 columns</p>\n",
       "</div>"
      ],
      "text/plain": [
       "            AMT_ANNUITY  AMT_CREDIT  AMT_GOODS_PRICE  AMT_INCOME_TOTAL  \\\n",
       "SK_ID_CURR                                                               \n",
       "100001          20560.5    568800.0         450000.0          135000.0   \n",
       "100002          24700.5    406597.5         351000.0          202500.0   \n",
       "100003          35698.5   1293502.5        1129500.0          270000.0   \n",
       "100004           6750.0    135000.0         135000.0           67500.0   \n",
       "100005          17370.0    222768.0         180000.0           99000.0   \n",
       "\n",
       "            AMT_REQ_CREDIT_BUREAU_DAY  AMT_REQ_CREDIT_BUREAU_HOUR  \\\n",
       "SK_ID_CURR                                                          \n",
       "100001                            0.0                         0.0   \n",
       "100002                            0.0                         0.0   \n",
       "100003                            0.0                         0.0   \n",
       "100004                            0.0                         0.0   \n",
       "100005                            0.0                         0.0   \n",
       "\n",
       "            AMT_REQ_CREDIT_BUREAU_MON  AMT_REQ_CREDIT_BUREAU_QRT  \\\n",
       "SK_ID_CURR                                                         \n",
       "100001                            0.0                        0.0   \n",
       "100002                            0.0                        0.0   \n",
       "100003                            0.0                        0.0   \n",
       "100004                            0.0                        0.0   \n",
       "100005                            0.0                        0.0   \n",
       "\n",
       "            AMT_REQ_CREDIT_BUREAU_WEEK  AMT_REQ_CREDIT_BUREAU_YEAR  \\\n",
       "SK_ID_CURR                                                           \n",
       "100001                             0.0                         0.0   \n",
       "100002                             0.0                         1.0   \n",
       "100003                             0.0                         0.0   \n",
       "100004                             0.0                         0.0   \n",
       "100005                             0.0                         3.0   \n",
       "\n",
       "                               ...                      \\\n",
       "SK_ID_CURR                     ...                       \n",
       "100001                         ...                       \n",
       "100002                         ...                       \n",
       "100003                         ...                       \n",
       "100004                         ...                       \n",
       "100005                         ...                       \n",
       "\n",
       "            ABSOLUTE(NUM_OVER_1000(credit.AMT_RECEIVABLE_PRINCIPAL))  \\\n",
       "SK_ID_CURR                                                             \n",
       "100001                                                           0.0   \n",
       "100002                                                           0.0   \n",
       "100003                                                           0.0   \n",
       "100004                                                           0.0   \n",
       "100005                                                           0.0   \n",
       "\n",
       "            ABSOLUTE(NUM_OVER_1000(credit.AMT_RECIVABLE))  \\\n",
       "SK_ID_CURR                                                  \n",
       "100001                                                0.0   \n",
       "100002                                                0.0   \n",
       "100003                                                0.0   \n",
       "100004                                                0.0   \n",
       "100005                                                0.0   \n",
       "\n",
       "            ABSOLUTE(NUM_OVER_1000(credit.AMT_TOTAL_RECEIVABLE))  \\\n",
       "SK_ID_CURR                                                         \n",
       "100001                                                       0.0   \n",
       "100002                                                       0.0   \n",
       "100003                                                       0.0   \n",
       "100004                                                       0.0   \n",
       "100005                                                       0.0   \n",
       "\n",
       "            ABSOLUTE(NUM_OVER_1000(credit.CNT_DRAWINGS_ATM_CURRENT))  \\\n",
       "SK_ID_CURR                                                             \n",
       "100001                                                           0.0   \n",
       "100002                                                           0.0   \n",
       "100003                                                           0.0   \n",
       "100004                                                           0.0   \n",
       "100005                                                           0.0   \n",
       "\n",
       "            ABSOLUTE(NUM_OVER_1000(credit.CNT_DRAWINGS_CURRENT))  \\\n",
       "SK_ID_CURR                                                         \n",
       "100001                                                       0.0   \n",
       "100002                                                       0.0   \n",
       "100003                                                       0.0   \n",
       "100004                                                       0.0   \n",
       "100005                                                       0.0   \n",
       "\n",
       "            ABSOLUTE(NUM_OVER_1000(credit.CNT_DRAWINGS_OTHER_CURRENT))  \\\n",
       "SK_ID_CURR                                                               \n",
       "100001                                                             0.0   \n",
       "100002                                                             0.0   \n",
       "100003                                                             0.0   \n",
       "100004                                                             0.0   \n",
       "100005                                                             0.0   \n",
       "\n",
       "            ABSOLUTE(NUM_OVER_1000(credit.CNT_DRAWINGS_POS_CURRENT))  \\\n",
       "SK_ID_CURR                                                             \n",
       "100001                                                           0.0   \n",
       "100002                                                           0.0   \n",
       "100003                                                           0.0   \n",
       "100004                                                           0.0   \n",
       "100005                                                           0.0   \n",
       "\n",
       "            ABSOLUTE(NUM_OVER_1000(credit.CNT_INSTALMENT_MATURE_CUM))  \\\n",
       "SK_ID_CURR                                                              \n",
       "100001                                                            0.0   \n",
       "100002                                                            0.0   \n",
       "100003                                                            0.0   \n",
       "100004                                                            0.0   \n",
       "100005                                                            0.0   \n",
       "\n",
       "           ABSOLUTE(NUM_OVER_1000(credit.SK_DPD))  \\\n",
       "SK_ID_CURR                                          \n",
       "100001                                        0.0   \n",
       "100002                                        0.0   \n",
       "100003                                        0.0   \n",
       "100004                                        0.0   \n",
       "100005                                        0.0   \n",
       "\n",
       "            ABSOLUTE(NUM_OVER_1000(credit.SK_DPD_DEF))  \n",
       "SK_ID_CURR                                              \n",
       "100001                                             0.0  \n",
       "100002                                             0.0  \n",
       "100003                                             0.0  \n",
       "100004                                             0.0  \n",
       "100005                                             0.0  \n",
       "\n",
       "[5 rows x 409 columns]"
      ]
     },
     "execution_count": 292,
     "metadata": {},
     "output_type": "execute_result"
    }
   ],
   "source": [
    "feature_matrix.head()"
   ]
  },
  {
   "cell_type": "code",
   "execution_count": null,
   "metadata": {},
   "outputs": [],
   "source": []
  }
 ],
 "metadata": {
  "kernelspec": {
   "display_name": "Python 3",
   "language": "python",
   "name": "python3"
  },
  "language_info": {
   "codemirror_mode": {
    "name": "ipython",
    "version": 3
   },
   "file_extension": ".py",
   "mimetype": "text/x-python",
   "name": "python",
   "nbconvert_exporter": "python",
   "pygments_lexer": "ipython3",
   "version": "3.6.8"
  }
 },
 "nbformat": 4,
 "nbformat_minor": 2
}
