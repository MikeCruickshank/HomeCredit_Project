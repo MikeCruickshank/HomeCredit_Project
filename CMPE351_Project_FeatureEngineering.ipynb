{
 "cells": [
  {
   "cell_type": "markdown",
   "metadata": {},
   "source": [
    "# CISC 351 - Advanced Data Analytics\n",
    "## Term Project (Winter 2019)\n",
    "### Feature Engineering Notebook\n",
    "### Home Credit Default Risk\n",
    "### Mike Cruickshank\n"
   ]
  },
  {
   "cell_type": "markdown",
   "metadata": {},
   "source": [
    "Data set is from the Home Credit Default Risk prediction competition on Kaggle\n",
    "* https://www.kaggle.com/c/home-credit-default-risk"
   ]
  },
  {
   "cell_type": "code",
   "execution_count": 1,
   "metadata": {},
   "outputs": [],
   "source": [
    "import pandas as pd\n",
    "import numpy as np\n",
    "import matplotlib.pyplot as plt\n",
    "import featuretools as ft"
   ]
  },
  {
   "cell_type": "markdown",
   "metadata": {},
   "source": [
    "### Import Data"
   ]
  },
  {
   "cell_type": "code",
   "execution_count": 155,
   "metadata": {},
   "outputs": [],
   "source": [
    "rows = 50000\n",
    "app_test = pd.read_csv(\"application_test.csv\")\n",
    "app_train = pd.read_csv(\"application_train.csv\")\n",
    "bureau = pd.read_csv(\"bureau.csv\", nrows = rows)\n",
    "bureau_balance = pd.read_csv(\"bureau_balance.csv\", nrows = rows)\n",
    "credit = pd.read_csv(\"credit_card_balance.csv\", nrows = rows)\n",
    "installments = pd.read_csv(\"installments_payments.csv\", nrows = rows)\n",
    "cash = pd.read_csv(\"POS_CASH_balance.csv\", nrows = rows)\n",
    "previous = pd.read_csv(\"previous_application.csv\", nrows = rows)\n",
    "#sample_submission = pd.read_csv(\"sample_submission.csv\", nrows = 100)"
   ]
  },
  {
   "cell_type": "code",
   "execution_count": 151,
   "metadata": {},
   "outputs": [
    {
     "data": {
      "text/html": [
       "<div>\n",
       "<style scoped>\n",
       "    .dataframe tbody tr th:only-of-type {\n",
       "        vertical-align: middle;\n",
       "    }\n",
       "\n",
       "    .dataframe tbody tr th {\n",
       "        vertical-align: top;\n",
       "    }\n",
       "\n",
       "    .dataframe thead th {\n",
       "        text-align: right;\n",
       "    }\n",
       "</style>\n",
       "<table border=\"1\" class=\"dataframe\">\n",
       "  <thead>\n",
       "    <tr style=\"text-align: right;\">\n",
       "      <th></th>\n",
       "      <th>SK_ID_CURR</th>\n",
       "      <th>TARGET</th>\n",
       "      <th>NAME_CONTRACT_TYPE</th>\n",
       "      <th>CODE_GENDER</th>\n",
       "      <th>FLAG_OWN_CAR</th>\n",
       "      <th>FLAG_OWN_REALTY</th>\n",
       "      <th>CNT_CHILDREN</th>\n",
       "      <th>AMT_INCOME_TOTAL</th>\n",
       "      <th>AMT_CREDIT</th>\n",
       "      <th>AMT_ANNUITY</th>\n",
       "      <th>...</th>\n",
       "      <th>FLAG_DOCUMENT_18</th>\n",
       "      <th>FLAG_DOCUMENT_19</th>\n",
       "      <th>FLAG_DOCUMENT_20</th>\n",
       "      <th>FLAG_DOCUMENT_21</th>\n",
       "      <th>AMT_REQ_CREDIT_BUREAU_HOUR</th>\n",
       "      <th>AMT_REQ_CREDIT_BUREAU_DAY</th>\n",
       "      <th>AMT_REQ_CREDIT_BUREAU_WEEK</th>\n",
       "      <th>AMT_REQ_CREDIT_BUREAU_MON</th>\n",
       "      <th>AMT_REQ_CREDIT_BUREAU_QRT</th>\n",
       "      <th>AMT_REQ_CREDIT_BUREAU_YEAR</th>\n",
       "    </tr>\n",
       "  </thead>\n",
       "  <tbody>\n",
       "    <tr>\n",
       "      <th>0</th>\n",
       "      <td>100002</td>\n",
       "      <td>1</td>\n",
       "      <td>Cash loans</td>\n",
       "      <td>M</td>\n",
       "      <td>N</td>\n",
       "      <td>Y</td>\n",
       "      <td>0</td>\n",
       "      <td>202500.0</td>\n",
       "      <td>406597.5</td>\n",
       "      <td>24700.5</td>\n",
       "      <td>...</td>\n",
       "      <td>0</td>\n",
       "      <td>0</td>\n",
       "      <td>0</td>\n",
       "      <td>0</td>\n",
       "      <td>0.0</td>\n",
       "      <td>0.0</td>\n",
       "      <td>0.0</td>\n",
       "      <td>0.0</td>\n",
       "      <td>0.0</td>\n",
       "      <td>1.0</td>\n",
       "    </tr>\n",
       "    <tr>\n",
       "      <th>1</th>\n",
       "      <td>100003</td>\n",
       "      <td>0</td>\n",
       "      <td>Cash loans</td>\n",
       "      <td>F</td>\n",
       "      <td>N</td>\n",
       "      <td>N</td>\n",
       "      <td>0</td>\n",
       "      <td>270000.0</td>\n",
       "      <td>1293502.5</td>\n",
       "      <td>35698.5</td>\n",
       "      <td>...</td>\n",
       "      <td>0</td>\n",
       "      <td>0</td>\n",
       "      <td>0</td>\n",
       "      <td>0</td>\n",
       "      <td>0.0</td>\n",
       "      <td>0.0</td>\n",
       "      <td>0.0</td>\n",
       "      <td>0.0</td>\n",
       "      <td>0.0</td>\n",
       "      <td>0.0</td>\n",
       "    </tr>\n",
       "    <tr>\n",
       "      <th>2</th>\n",
       "      <td>100004</td>\n",
       "      <td>0</td>\n",
       "      <td>Revolving loans</td>\n",
       "      <td>M</td>\n",
       "      <td>Y</td>\n",
       "      <td>Y</td>\n",
       "      <td>0</td>\n",
       "      <td>67500.0</td>\n",
       "      <td>135000.0</td>\n",
       "      <td>6750.0</td>\n",
       "      <td>...</td>\n",
       "      <td>0</td>\n",
       "      <td>0</td>\n",
       "      <td>0</td>\n",
       "      <td>0</td>\n",
       "      <td>0.0</td>\n",
       "      <td>0.0</td>\n",
       "      <td>0.0</td>\n",
       "      <td>0.0</td>\n",
       "      <td>0.0</td>\n",
       "      <td>0.0</td>\n",
       "    </tr>\n",
       "    <tr>\n",
       "      <th>3</th>\n",
       "      <td>100006</td>\n",
       "      <td>0</td>\n",
       "      <td>Cash loans</td>\n",
       "      <td>F</td>\n",
       "      <td>N</td>\n",
       "      <td>Y</td>\n",
       "      <td>0</td>\n",
       "      <td>135000.0</td>\n",
       "      <td>312682.5</td>\n",
       "      <td>29686.5</td>\n",
       "      <td>...</td>\n",
       "      <td>0</td>\n",
       "      <td>0</td>\n",
       "      <td>0</td>\n",
       "      <td>0</td>\n",
       "      <td>NaN</td>\n",
       "      <td>NaN</td>\n",
       "      <td>NaN</td>\n",
       "      <td>NaN</td>\n",
       "      <td>NaN</td>\n",
       "      <td>NaN</td>\n",
       "    </tr>\n",
       "    <tr>\n",
       "      <th>4</th>\n",
       "      <td>100007</td>\n",
       "      <td>0</td>\n",
       "      <td>Cash loans</td>\n",
       "      <td>M</td>\n",
       "      <td>N</td>\n",
       "      <td>Y</td>\n",
       "      <td>0</td>\n",
       "      <td>121500.0</td>\n",
       "      <td>513000.0</td>\n",
       "      <td>21865.5</td>\n",
       "      <td>...</td>\n",
       "      <td>0</td>\n",
       "      <td>0</td>\n",
       "      <td>0</td>\n",
       "      <td>0</td>\n",
       "      <td>0.0</td>\n",
       "      <td>0.0</td>\n",
       "      <td>0.0</td>\n",
       "      <td>0.0</td>\n",
       "      <td>0.0</td>\n",
       "      <td>0.0</td>\n",
       "    </tr>\n",
       "  </tbody>\n",
       "</table>\n",
       "<p>5 rows × 122 columns</p>\n",
       "</div>"
      ],
      "text/plain": [
       "   SK_ID_CURR  TARGET NAME_CONTRACT_TYPE CODE_GENDER FLAG_OWN_CAR  \\\n",
       "0      100002       1         Cash loans           M            N   \n",
       "1      100003       0         Cash loans           F            N   \n",
       "2      100004       0    Revolving loans           M            Y   \n",
       "3      100006       0         Cash loans           F            N   \n",
       "4      100007       0         Cash loans           M            N   \n",
       "\n",
       "  FLAG_OWN_REALTY  CNT_CHILDREN  AMT_INCOME_TOTAL  AMT_CREDIT  AMT_ANNUITY  \\\n",
       "0               Y             0          202500.0    406597.5      24700.5   \n",
       "1               N             0          270000.0   1293502.5      35698.5   \n",
       "2               Y             0           67500.0    135000.0       6750.0   \n",
       "3               Y             0          135000.0    312682.5      29686.5   \n",
       "4               Y             0          121500.0    513000.0      21865.5   \n",
       "\n",
       "              ...              FLAG_DOCUMENT_18 FLAG_DOCUMENT_19  \\\n",
       "0             ...                             0                0   \n",
       "1             ...                             0                0   \n",
       "2             ...                             0                0   \n",
       "3             ...                             0                0   \n",
       "4             ...                             0                0   \n",
       "\n",
       "  FLAG_DOCUMENT_20 FLAG_DOCUMENT_21 AMT_REQ_CREDIT_BUREAU_HOUR  \\\n",
       "0                0                0                        0.0   \n",
       "1                0                0                        0.0   \n",
       "2                0                0                        0.0   \n",
       "3                0                0                        NaN   \n",
       "4                0                0                        0.0   \n",
       "\n",
       "  AMT_REQ_CREDIT_BUREAU_DAY  AMT_REQ_CREDIT_BUREAU_WEEK  \\\n",
       "0                       0.0                         0.0   \n",
       "1                       0.0                         0.0   \n",
       "2                       0.0                         0.0   \n",
       "3                       NaN                         NaN   \n",
       "4                       0.0                         0.0   \n",
       "\n",
       "   AMT_REQ_CREDIT_BUREAU_MON  AMT_REQ_CREDIT_BUREAU_QRT  \\\n",
       "0                        0.0                        0.0   \n",
       "1                        0.0                        0.0   \n",
       "2                        0.0                        0.0   \n",
       "3                        NaN                        NaN   \n",
       "4                        0.0                        0.0   \n",
       "\n",
       "   AMT_REQ_CREDIT_BUREAU_YEAR  \n",
       "0                         1.0  \n",
       "1                         0.0  \n",
       "2                         0.0  \n",
       "3                         NaN  \n",
       "4                         0.0  \n",
       "\n",
       "[5 rows x 122 columns]"
      ]
     },
     "execution_count": 151,
     "metadata": {},
     "output_type": "execute_result"
    }
   ],
   "source": [
    "app_train.head()"
   ]
  },
  {
   "cell_type": "code",
   "execution_count": 5,
   "metadata": {},
   "outputs": [
    {
     "data": {
      "text/html": [
       "<div>\n",
       "<style scoped>\n",
       "    .dataframe tbody tr th:only-of-type {\n",
       "        vertical-align: middle;\n",
       "    }\n",
       "\n",
       "    .dataframe tbody tr th {\n",
       "        vertical-align: top;\n",
       "    }\n",
       "\n",
       "    .dataframe thead th {\n",
       "        text-align: right;\n",
       "    }\n",
       "</style>\n",
       "<table border=\"1\" class=\"dataframe\">\n",
       "  <thead>\n",
       "    <tr style=\"text-align: right;\">\n",
       "      <th></th>\n",
       "      <th>SK_ID_PREV</th>\n",
       "      <th>SK_ID_CURR</th>\n",
       "      <th>NAME_CONTRACT_TYPE</th>\n",
       "      <th>AMT_ANNUITY</th>\n",
       "      <th>AMT_APPLICATION</th>\n",
       "      <th>AMT_CREDIT</th>\n",
       "      <th>AMT_DOWN_PAYMENT</th>\n",
       "      <th>AMT_GOODS_PRICE</th>\n",
       "      <th>WEEKDAY_APPR_PROCESS_START</th>\n",
       "      <th>HOUR_APPR_PROCESS_START</th>\n",
       "      <th>...</th>\n",
       "      <th>NAME_SELLER_INDUSTRY</th>\n",
       "      <th>CNT_PAYMENT</th>\n",
       "      <th>NAME_YIELD_GROUP</th>\n",
       "      <th>PRODUCT_COMBINATION</th>\n",
       "      <th>DAYS_FIRST_DRAWING</th>\n",
       "      <th>DAYS_FIRST_DUE</th>\n",
       "      <th>DAYS_LAST_DUE_1ST_VERSION</th>\n",
       "      <th>DAYS_LAST_DUE</th>\n",
       "      <th>DAYS_TERMINATION</th>\n",
       "      <th>NFLAG_INSURED_ON_APPROVAL</th>\n",
       "    </tr>\n",
       "  </thead>\n",
       "  <tbody>\n",
       "    <tr>\n",
       "      <th>0</th>\n",
       "      <td>2030495</td>\n",
       "      <td>271877</td>\n",
       "      <td>Consumer loans</td>\n",
       "      <td>1730.430</td>\n",
       "      <td>17145.0</td>\n",
       "      <td>17145.0</td>\n",
       "      <td>0.0</td>\n",
       "      <td>17145.0</td>\n",
       "      <td>SATURDAY</td>\n",
       "      <td>15</td>\n",
       "      <td>...</td>\n",
       "      <td>Connectivity</td>\n",
       "      <td>12.0</td>\n",
       "      <td>middle</td>\n",
       "      <td>POS mobile with interest</td>\n",
       "      <td>365243.0</td>\n",
       "      <td>-42.0</td>\n",
       "      <td>300.0</td>\n",
       "      <td>-42.0</td>\n",
       "      <td>-37.0</td>\n",
       "      <td>0.0</td>\n",
       "    </tr>\n",
       "    <tr>\n",
       "      <th>1</th>\n",
       "      <td>2802425</td>\n",
       "      <td>108129</td>\n",
       "      <td>Cash loans</td>\n",
       "      <td>25188.615</td>\n",
       "      <td>607500.0</td>\n",
       "      <td>679671.0</td>\n",
       "      <td>NaN</td>\n",
       "      <td>607500.0</td>\n",
       "      <td>THURSDAY</td>\n",
       "      <td>11</td>\n",
       "      <td>...</td>\n",
       "      <td>XNA</td>\n",
       "      <td>36.0</td>\n",
       "      <td>low_action</td>\n",
       "      <td>Cash X-Sell: low</td>\n",
       "      <td>365243.0</td>\n",
       "      <td>-134.0</td>\n",
       "      <td>916.0</td>\n",
       "      <td>365243.0</td>\n",
       "      <td>365243.0</td>\n",
       "      <td>1.0</td>\n",
       "    </tr>\n",
       "    <tr>\n",
       "      <th>2</th>\n",
       "      <td>2523466</td>\n",
       "      <td>122040</td>\n",
       "      <td>Cash loans</td>\n",
       "      <td>15060.735</td>\n",
       "      <td>112500.0</td>\n",
       "      <td>136444.5</td>\n",
       "      <td>NaN</td>\n",
       "      <td>112500.0</td>\n",
       "      <td>TUESDAY</td>\n",
       "      <td>11</td>\n",
       "      <td>...</td>\n",
       "      <td>XNA</td>\n",
       "      <td>12.0</td>\n",
       "      <td>high</td>\n",
       "      <td>Cash X-Sell: high</td>\n",
       "      <td>365243.0</td>\n",
       "      <td>-271.0</td>\n",
       "      <td>59.0</td>\n",
       "      <td>365243.0</td>\n",
       "      <td>365243.0</td>\n",
       "      <td>1.0</td>\n",
       "    </tr>\n",
       "    <tr>\n",
       "      <th>3</th>\n",
       "      <td>2819243</td>\n",
       "      <td>176158</td>\n",
       "      <td>Cash loans</td>\n",
       "      <td>47041.335</td>\n",
       "      <td>450000.0</td>\n",
       "      <td>470790.0</td>\n",
       "      <td>NaN</td>\n",
       "      <td>450000.0</td>\n",
       "      <td>MONDAY</td>\n",
       "      <td>7</td>\n",
       "      <td>...</td>\n",
       "      <td>XNA</td>\n",
       "      <td>12.0</td>\n",
       "      <td>middle</td>\n",
       "      <td>Cash X-Sell: middle</td>\n",
       "      <td>365243.0</td>\n",
       "      <td>-482.0</td>\n",
       "      <td>-152.0</td>\n",
       "      <td>-182.0</td>\n",
       "      <td>-177.0</td>\n",
       "      <td>1.0</td>\n",
       "    </tr>\n",
       "    <tr>\n",
       "      <th>4</th>\n",
       "      <td>1784265</td>\n",
       "      <td>202054</td>\n",
       "      <td>Cash loans</td>\n",
       "      <td>31924.395</td>\n",
       "      <td>337500.0</td>\n",
       "      <td>404055.0</td>\n",
       "      <td>NaN</td>\n",
       "      <td>337500.0</td>\n",
       "      <td>THURSDAY</td>\n",
       "      <td>9</td>\n",
       "      <td>...</td>\n",
       "      <td>XNA</td>\n",
       "      <td>24.0</td>\n",
       "      <td>high</td>\n",
       "      <td>Cash Street: high</td>\n",
       "      <td>NaN</td>\n",
       "      <td>NaN</td>\n",
       "      <td>NaN</td>\n",
       "      <td>NaN</td>\n",
       "      <td>NaN</td>\n",
       "      <td>NaN</td>\n",
       "    </tr>\n",
       "  </tbody>\n",
       "</table>\n",
       "<p>5 rows × 37 columns</p>\n",
       "</div>"
      ],
      "text/plain": [
       "   SK_ID_PREV  SK_ID_CURR NAME_CONTRACT_TYPE  AMT_ANNUITY  AMT_APPLICATION  \\\n",
       "0     2030495      271877     Consumer loans     1730.430          17145.0   \n",
       "1     2802425      108129         Cash loans    25188.615         607500.0   \n",
       "2     2523466      122040         Cash loans    15060.735         112500.0   \n",
       "3     2819243      176158         Cash loans    47041.335         450000.0   \n",
       "4     1784265      202054         Cash loans    31924.395         337500.0   \n",
       "\n",
       "   AMT_CREDIT  AMT_DOWN_PAYMENT  AMT_GOODS_PRICE WEEKDAY_APPR_PROCESS_START  \\\n",
       "0     17145.0               0.0          17145.0                   SATURDAY   \n",
       "1    679671.0               NaN         607500.0                   THURSDAY   \n",
       "2    136444.5               NaN         112500.0                    TUESDAY   \n",
       "3    470790.0               NaN         450000.0                     MONDAY   \n",
       "4    404055.0               NaN         337500.0                   THURSDAY   \n",
       "\n",
       "   HOUR_APPR_PROCESS_START            ...            NAME_SELLER_INDUSTRY  \\\n",
       "0                       15            ...                    Connectivity   \n",
       "1                       11            ...                             XNA   \n",
       "2                       11            ...                             XNA   \n",
       "3                        7            ...                             XNA   \n",
       "4                        9            ...                             XNA   \n",
       "\n",
       "   CNT_PAYMENT  NAME_YIELD_GROUP       PRODUCT_COMBINATION  \\\n",
       "0         12.0            middle  POS mobile with interest   \n",
       "1         36.0        low_action          Cash X-Sell: low   \n",
       "2         12.0              high         Cash X-Sell: high   \n",
       "3         12.0            middle       Cash X-Sell: middle   \n",
       "4         24.0              high         Cash Street: high   \n",
       "\n",
       "   DAYS_FIRST_DRAWING DAYS_FIRST_DUE DAYS_LAST_DUE_1ST_VERSION  DAYS_LAST_DUE  \\\n",
       "0            365243.0          -42.0                     300.0          -42.0   \n",
       "1            365243.0         -134.0                     916.0       365243.0   \n",
       "2            365243.0         -271.0                      59.0       365243.0   \n",
       "3            365243.0         -482.0                    -152.0         -182.0   \n",
       "4                 NaN            NaN                       NaN            NaN   \n",
       "\n",
       "  DAYS_TERMINATION NFLAG_INSURED_ON_APPROVAL  \n",
       "0            -37.0                       0.0  \n",
       "1         365243.0                       1.0  \n",
       "2         365243.0                       1.0  \n",
       "3           -177.0                       1.0  \n",
       "4              NaN                       NaN  \n",
       "\n",
       "[5 rows x 37 columns]"
      ]
     },
     "execution_count": 5,
     "metadata": {},
     "output_type": "execute_result"
    }
   ],
   "source": [
    "previous.head()"
   ]
  },
  {
   "cell_type": "code",
   "execution_count": 9,
   "metadata": {},
   "outputs": [
    {
     "data": {
      "text/plain": [
       "Index(['SK_ID_PREV', 'SK_ID_CURR', 'NAME_CONTRACT_TYPE', 'AMT_ANNUITY',\n",
       "       'AMT_APPLICATION', 'AMT_CREDIT', 'AMT_DOWN_PAYMENT', 'AMT_GOODS_PRICE',\n",
       "       'WEEKDAY_APPR_PROCESS_START', 'HOUR_APPR_PROCESS_START',\n",
       "       'FLAG_LAST_APPL_PER_CONTRACT', 'NFLAG_LAST_APPL_IN_DAY',\n",
       "       'RATE_DOWN_PAYMENT', 'RATE_INTEREST_PRIMARY',\n",
       "       'RATE_INTEREST_PRIVILEGED', 'NAME_CASH_LOAN_PURPOSE',\n",
       "       'NAME_CONTRACT_STATUS', 'DAYS_DECISION', 'NAME_PAYMENT_TYPE',\n",
       "       'CODE_REJECT_REASON', 'NAME_TYPE_SUITE', 'NAME_CLIENT_TYPE',\n",
       "       'NAME_GOODS_CATEGORY', 'NAME_PORTFOLIO', 'NAME_PRODUCT_TYPE',\n",
       "       'CHANNEL_TYPE', 'SELLERPLACE_AREA', 'NAME_SELLER_INDUSTRY',\n",
       "       'CNT_PAYMENT', 'NAME_YIELD_GROUP', 'PRODUCT_COMBINATION',\n",
       "       'DAYS_FIRST_DRAWING', 'DAYS_FIRST_DUE', 'DAYS_LAST_DUE_1ST_VERSION',\n",
       "       'DAYS_LAST_DUE', 'DAYS_TERMINATION', 'NFLAG_INSURED_ON_APPROVAL'],\n",
       "      dtype='object')"
      ]
     },
     "execution_count": 9,
     "metadata": {},
     "output_type": "execute_result"
    }
   ],
   "source": [
    "previous.columns"
   ]
  },
  {
   "cell_type": "code",
   "execution_count": 12,
   "metadata": {},
   "outputs": [
    {
     "data": {
      "text/html": [
       "<div>\n",
       "<style scoped>\n",
       "    .dataframe tbody tr th:only-of-type {\n",
       "        vertical-align: middle;\n",
       "    }\n",
       "\n",
       "    .dataframe tbody tr th {\n",
       "        vertical-align: top;\n",
       "    }\n",
       "\n",
       "    .dataframe thead th {\n",
       "        text-align: right;\n",
       "    }\n",
       "</style>\n",
       "<table border=\"1\" class=\"dataframe\">\n",
       "  <thead>\n",
       "    <tr style=\"text-align: right;\">\n",
       "      <th></th>\n",
       "      <th>AMT_ANNUITY</th>\n",
       "      <th>AMT_CREDIT</th>\n",
       "      <th>CNT_PAYMENT</th>\n",
       "    </tr>\n",
       "  </thead>\n",
       "  <tbody>\n",
       "    <tr>\n",
       "      <th>0</th>\n",
       "      <td>1730.430</td>\n",
       "      <td>17145.0</td>\n",
       "      <td>12.0</td>\n",
       "    </tr>\n",
       "    <tr>\n",
       "      <th>1</th>\n",
       "      <td>25188.615</td>\n",
       "      <td>679671.0</td>\n",
       "      <td>36.0</td>\n",
       "    </tr>\n",
       "    <tr>\n",
       "      <th>2</th>\n",
       "      <td>15060.735</td>\n",
       "      <td>136444.5</td>\n",
       "      <td>12.0</td>\n",
       "    </tr>\n",
       "    <tr>\n",
       "      <th>3</th>\n",
       "      <td>47041.335</td>\n",
       "      <td>470790.0</td>\n",
       "      <td>12.0</td>\n",
       "    </tr>\n",
       "    <tr>\n",
       "      <th>4</th>\n",
       "      <td>31924.395</td>\n",
       "      <td>404055.0</td>\n",
       "      <td>24.0</td>\n",
       "    </tr>\n",
       "  </tbody>\n",
       "</table>\n",
       "</div>"
      ],
      "text/plain": [
       "   AMT_ANNUITY  AMT_CREDIT  CNT_PAYMENT\n",
       "0     1730.430     17145.0         12.0\n",
       "1    25188.615    679671.0         36.0\n",
       "2    15060.735    136444.5         12.0\n",
       "3    47041.335    470790.0         12.0\n",
       "4    31924.395    404055.0         24.0"
      ]
     },
     "execution_count": 12,
     "metadata": {},
     "output_type": "execute_result"
    }
   ],
   "source": [
    "interest_columns = ['AMT_ANNUITY','AMT_CREDIT','CNT_PAYMENT']\n",
    "int_rate_data = previous[interest_columns]\n",
    "\n"
   ]
  },
  {
   "cell_type": "code",
   "execution_count": 251,
   "metadata": {},
   "outputs": [],
   "source": [
    "app_test['TARGET'] = np.nan\n",
    "\n",
    "app = app_train.append(app_test, ignore_index = True, sort = True)"
   ]
  },
  {
   "cell_type": "code",
   "execution_count": 252,
   "metadata": {},
   "outputs": [],
   "source": [
    "for index in ['SK_ID_CURR', 'SK_ID_PREV','SK_ID_BUREAU']:\n",
    "    for dataset in [app, bureau_balance, cash, credit, previous, installments]:\n",
    "        if index in list(dataset.columns):\n",
    "            dataset[index] = dataset[index].fillna(0).astype(np.int64)"
   ]
  },
  {
   "cell_type": "markdown",
   "metadata": {},
   "source": [
    "### Feature Tools"
   ]
  },
  {
   "cell_type": "code",
   "execution_count": 253,
   "metadata": {},
   "outputs": [],
   "source": [
    "es = ft.EntitySet(id = 'clients')"
   ]
  },
  {
   "cell_type": "markdown",
   "metadata": {},
   "source": [
    "#### Variable Types"
   ]
  },
  {
   "cell_type": "code",
   "execution_count": 254,
   "metadata": {},
   "outputs": [],
   "source": [
    "import featuretools.variable_types as vtypes"
   ]
  },
  {
   "cell_type": "code",
   "execution_count": 255,
   "metadata": {},
   "outputs": [
    {
     "name": "stdout",
     "output_type": "stream",
     "text": [
      "There are 0 Boolean variables in the application data.\n"
     ]
    }
   ],
   "source": [
    "app_types = {}\n",
    "\n",
    "for col in app:\n",
    "    if(app[col].nunique() == 2) and (app[col].dtype == float):\n",
    "        app_types[col] = vtypes.Boolean\n",
    "        \n",
    "del app_types['TARGET']\n",
    "\n",
    "print('There are {} Boolean variables in the application data.'.format(len(app_types)))"
   ]
  },
  {
   "cell_type": "code",
   "execution_count": 256,
   "metadata": {},
   "outputs": [],
   "source": [
    "app_types['REGION_RATING_CLIENT'] = vtypes.Ordinal \n",
    "app_types['REGION_RATING_CLIENT_W_CITY'] = vtypes.Ordinal \n",
    "app_types['HOUR_APPR_PROCESS_START'] = vtypes.Ordinal "
   ]
  },
  {
   "cell_type": "code",
   "execution_count": 257,
   "metadata": {},
   "outputs": [
    {
     "name": "stdout",
     "output_type": "stream",
     "text": [
      "There are 1 Boolean variables in previous data.\n"
     ]
    }
   ],
   "source": [
    "previous_types = {}\n",
    "for col in previous:\n",
    "    if (previous[col].nunique() == 2) and (previous[col].dtype == float):\n",
    "        previous_types[col] = vtypes.Boolean\n",
    "\n",
    "print('There are {} Boolean variables in previous data.'.format(len(previous_types)))\n"
   ]
  },
  {
   "cell_type": "code",
   "execution_count": 258,
   "metadata": {},
   "outputs": [],
   "source": [
    "installments = installments.drop(columns = ['SK_ID_CURR'])\n",
    "credit = credit.drop(columns = ['SK_ID_CURR'])\n",
    "cash = cash.drop(columns = ['SK_ID_CURR'])"
   ]
  },
  {
   "cell_type": "markdown",
   "metadata": {},
   "source": [
    "#### Adding Entities"
   ]
  },
  {
   "cell_type": "code",
   "execution_count": 259,
   "metadata": {},
   "outputs": [],
   "source": [
    "es = es.entity_from_dataframe(entity_id = 'app', dataframe = app, index = 'SK_ID_CURR',\n",
    "                             variable_types = app_types)\n",
    "es = es.entity_from_dataframe(entity_id = 'bureau', dataframe = bureau, index = 'SK_ID_BUREAU')\n",
    "\n",
    "es = es.entity_from_dataframe(entity_id = 'previous', dataframe = previous, index = 'SK_ID_PREV',\n",
    "                              variable_types = previous_types)\n",
    "\n",
    "# Entities that do not have a unique index\n",
    "es = es.entity_from_dataframe(entity_id = 'bureau_balance', dataframe = bureau_balance, \n",
    "                              make_index = True, index = 'bureaubalance_index')\n",
    "\n",
    "es = es.entity_from_dataframe(entity_id = 'cash', dataframe = cash, \n",
    "                              make_index = True, index = 'cash_index')\n",
    "\n",
    "es = es.entity_from_dataframe(entity_id = 'installments', dataframe = installments,\n",
    "                              make_index = True, index = 'installments_index')\n",
    "\n",
    "es = es.entity_from_dataframe(entity_id = 'credit', dataframe = credit,\n",
    "                              make_index = True, index = 'credit_index')"
   ]
  },
  {
   "cell_type": "code",
   "execution_count": 260,
   "metadata": {},
   "outputs": [
    {
     "data": {
      "text/plain": [
       "Entityset: clients\n",
       "  Entities:\n",
       "    app [Rows: 20000, Columns: 122]\n",
       "    bureau [Rows: 10000, Columns: 17]\n",
       "    previous [Rows: 10000, Columns: 37]\n",
       "    bureau_balance [Rows: 10000, Columns: 4]\n",
       "    cash [Rows: 10000, Columns: 8]\n",
       "    installments [Rows: 10000, Columns: 8]\n",
       "    credit [Rows: 10000, Columns: 23]\n",
       "  Relationships:\n",
       "    No relationships"
      ]
     },
     "execution_count": 260,
     "metadata": {},
     "output_type": "execute_result"
    }
   ],
   "source": [
    "es"
   ]
  },
  {
   "cell_type": "markdown",
   "metadata": {},
   "source": [
    "#### Adding Relationships"
   ]
  },
  {
   "cell_type": "code",
   "execution_count": 261,
   "metadata": {},
   "outputs": [],
   "source": [
    "r_app_bureau = ft.Relationship(es['app']['SK_ID_CURR'], es['bureau']['SK_ID_CURR'])\n",
    "r_bureau_balance = ft.Relationship(es['bureau']['SK_ID_BUREAU'], es['bureau_balance']['SK_ID_BUREAU'])\n",
    "\n",
    "r_app_previous = ft.Relationship(es['app']['SK_ID_CURR'], es['previous']['SK_ID_CURR'])\n",
    "r_previous_cash = ft.Relationship(es['previous']['SK_ID_PREV'], es['cash']['SK_ID_PREV'])\n",
    "r_previous_installments = ft.Relationship(es['previous']['SK_ID_PREV'], es['installments']['SK_ID_PREV'])\n",
    "r_previous_credit = ft.Relationship(es['previous']['SK_ID_PREV'], es['credit']['SK_ID_PREV'])"
   ]
  },
  {
   "cell_type": "code",
   "execution_count": 262,
   "metadata": {},
   "outputs": [],
   "source": [
    "es = es.add_relationships([r_app_bureau, r_bureau_balance, r_app_previous,\n",
    "                           r_previous_cash, r_previous_installments, r_previous_credit])"
   ]
  },
  {
   "cell_type": "code",
   "execution_count": 263,
   "metadata": {},
   "outputs": [
    {
     "data": {
      "text/plain": [
       "Entityset: clients\n",
       "  Entities:\n",
       "    app [Rows: 20000, Columns: 122]\n",
       "    bureau [Rows: 10000, Columns: 17]\n",
       "    previous [Rows: 10000, Columns: 37]\n",
       "    bureau_balance [Rows: 10000, Columns: 4]\n",
       "    cash [Rows: 10000, Columns: 8]\n",
       "    installments [Rows: 10000, Columns: 8]\n",
       "    credit [Rows: 10000, Columns: 23]\n",
       "  Relationships:\n",
       "    bureau.SK_ID_CURR -> app.SK_ID_CURR\n",
       "    bureau_balance.SK_ID_BUREAU -> bureau.SK_ID_BUREAU\n",
       "    previous.SK_ID_CURR -> app.SK_ID_CURR\n",
       "    cash.SK_ID_PREV -> previous.SK_ID_PREV\n",
       "    installments.SK_ID_PREV -> previous.SK_ID_PREV\n",
       "    credit.SK_ID_PREV -> previous.SK_ID_PREV"
      ]
     },
     "execution_count": 263,
     "metadata": {},
     "output_type": "execute_result"
    }
   ],
   "source": [
    "es"
   ]
  },
  {
   "cell_type": "markdown",
   "metadata": {},
   "source": [
    "#### Feature Primitives"
   ]
  },
  {
   "cell_type": "code",
   "execution_count": 264,
   "metadata": {},
   "outputs": [
    {
     "data": {
      "text/html": [
       "<div>\n",
       "<style scoped>\n",
       "    .dataframe tbody tr th:only-of-type {\n",
       "        vertical-align: middle;\n",
       "    }\n",
       "\n",
       "    .dataframe tbody tr th {\n",
       "        vertical-align: top;\n",
       "    }\n",
       "\n",
       "    .dataframe thead th {\n",
       "        text-align: right;\n",
       "    }\n",
       "</style>\n",
       "<table border=\"1\" class=\"dataframe\">\n",
       "  <thead>\n",
       "    <tr style=\"text-align: right;\">\n",
       "      <th></th>\n",
       "      <th>name</th>\n",
       "      <th>type</th>\n",
       "      <th>description</th>\n",
       "    </tr>\n",
       "  </thead>\n",
       "  <tbody>\n",
       "    <tr>\n",
       "      <th>0</th>\n",
       "      <td>skew</td>\n",
       "      <td>aggregation</td>\n",
       "      <td>Time since last related instance.</td>\n",
       "    </tr>\n",
       "    <tr>\n",
       "      <th>1</th>\n",
       "      <td>sum</td>\n",
       "      <td>aggregation</td>\n",
       "      <td>Time since last related instance.</td>\n",
       "    </tr>\n",
       "    <tr>\n",
       "      <th>2</th>\n",
       "      <td>min</td>\n",
       "      <td>aggregation</td>\n",
       "      <td>Time since last related instance.</td>\n",
       "    </tr>\n",
       "    <tr>\n",
       "      <th>3</th>\n",
       "      <td>count</td>\n",
       "      <td>aggregation</td>\n",
       "      <td>Time since last related instance.</td>\n",
       "    </tr>\n",
       "    <tr>\n",
       "      <th>4</th>\n",
       "      <td>num_true</td>\n",
       "      <td>aggregation</td>\n",
       "      <td>Time since last related instance.</td>\n",
       "    </tr>\n",
       "  </tbody>\n",
       "</table>\n",
       "</div>"
      ],
      "text/plain": [
       "       name         type                        description\n",
       "0      skew  aggregation  Time since last related instance.\n",
       "1       sum  aggregation  Time since last related instance.\n",
       "2       min  aggregation  Time since last related instance.\n",
       "3     count  aggregation  Time since last related instance.\n",
       "4  num_true  aggregation  Time since last related instance."
      ]
     },
     "execution_count": 264,
     "metadata": {},
     "output_type": "execute_result"
    }
   ],
   "source": [
    "primitives = ft.list_primitives()\n",
    "pd.options.display.max_colwidth = 100\n",
    "primitives[primitives['type'] == 'aggregation'].head(5)\n"
   ]
  },
  {
   "cell_type": "code",
   "execution_count": 265,
   "metadata": {},
   "outputs": [
    {
     "data": {
      "text/html": [
       "<div>\n",
       "<style scoped>\n",
       "    .dataframe tbody tr th:only-of-type {\n",
       "        vertical-align: middle;\n",
       "    }\n",
       "\n",
       "    .dataframe tbody tr th {\n",
       "        vertical-align: top;\n",
       "    }\n",
       "\n",
       "    .dataframe thead th {\n",
       "        text-align: right;\n",
       "    }\n",
       "</style>\n",
       "<table border=\"1\" class=\"dataframe\">\n",
       "  <thead>\n",
       "    <tr style=\"text-align: right;\">\n",
       "      <th></th>\n",
       "      <th>name</th>\n",
       "      <th>type</th>\n",
       "      <th>description</th>\n",
       "    </tr>\n",
       "  </thead>\n",
       "  <tbody>\n",
       "    <tr>\n",
       "      <th>19</th>\n",
       "      <td>numwords</td>\n",
       "      <td>transform</td>\n",
       "      <td></td>\n",
       "    </tr>\n",
       "    <tr>\n",
       "      <th>20</th>\n",
       "      <td>hour</td>\n",
       "      <td>transform</td>\n",
       "      <td></td>\n",
       "    </tr>\n",
       "    <tr>\n",
       "      <th>21</th>\n",
       "      <td>less_than_scalar</td>\n",
       "      <td>transform</td>\n",
       "      <td></td>\n",
       "    </tr>\n",
       "    <tr>\n",
       "      <th>22</th>\n",
       "      <td>less_than</td>\n",
       "      <td>transform</td>\n",
       "      <td></td>\n",
       "    </tr>\n",
       "    <tr>\n",
       "      <th>23</th>\n",
       "      <td>and</td>\n",
       "      <td>transform</td>\n",
       "      <td></td>\n",
       "    </tr>\n",
       "  </tbody>\n",
       "</table>\n",
       "</div>"
      ],
      "text/plain": [
       "                name       type description\n",
       "19          numwords  transform            \n",
       "20              hour  transform            \n",
       "21  less_than_scalar  transform            \n",
       "22         less_than  transform            \n",
       "23               and  transform            "
      ]
     },
     "execution_count": 265,
     "metadata": {},
     "output_type": "execute_result"
    }
   ],
   "source": [
    "primitives[primitives['type'] == 'transform'].head(5)\n"
   ]
  },
  {
   "cell_type": "markdown",
   "metadata": {},
   "source": [
    "#### Deep Feature Synthesis "
   ]
  },
  {
   "cell_type": "code",
   "execution_count": 266,
   "metadata": {},
   "outputs": [
    {
     "name": "stdout",
     "output_type": "stream",
     "text": [
      "Built 1580 features\n"
     ]
    }
   ],
   "source": [
    "default_agg_primitives = ['sum','std','max','skew','min','mean','count','percent_true','num_unique','mode']\n",
    "default_trans_primitives = ['day','year','month','weekday','haversine','numwords','characters']\n",
    "\n",
    "feature_names = ft.dfs(entityset = es, target_entity = 'app', \n",
    "                      trans_primitives = default_trans_primitives, \n",
    "                      agg_primitives = default_agg_primitives,\n",
    "                      where_primitives = [], seed_features = [],\n",
    "                      max_depth = 2, n_jobs = -1, verbose = 1,\n",
    "                      features_only = True)"
   ]
  },
  {
   "cell_type": "code",
   "execution_count": 267,
   "metadata": {},
   "outputs": [
    {
     "data": {
      "text/plain": [
       "[<Feature: MEAN(previous.MEAN(credit.AMT_RECIVABLE))>,\n",
       " <Feature: MEAN(previous.MEAN(credit.AMT_TOTAL_RECEIVABLE))>,\n",
       " <Feature: MEAN(previous.MEAN(credit.CNT_DRAWINGS_ATM_CURRENT))>,\n",
       " <Feature: MEAN(previous.MEAN(credit.CNT_DRAWINGS_CURRENT))>,\n",
       " <Feature: MEAN(previous.MEAN(credit.CNT_DRAWINGS_OTHER_CURRENT))>,\n",
       " <Feature: MEAN(previous.MEAN(credit.CNT_DRAWINGS_POS_CURRENT))>,\n",
       " <Feature: MEAN(previous.MEAN(credit.CNT_INSTALMENT_MATURE_CUM))>,\n",
       " <Feature: MEAN(previous.MEAN(credit.SK_DPD))>,\n",
       " <Feature: MEAN(previous.MEAN(credit.SK_DPD_DEF))>,\n",
       " <Feature: MEAN(previous.COUNT(credit))>,\n",
       " <Feature: MEAN(previous.NUM_UNIQUE(credit.NAME_CONTRACT_STATUS))>,\n",
       " <Feature: NUM_UNIQUE(previous.MODE(cash.NAME_CONTRACT_STATUS))>,\n",
       " <Feature: NUM_UNIQUE(previous.MODE(credit.NAME_CONTRACT_STATUS))>,\n",
       " <Feature: MODE(previous.MODE(cash.NAME_CONTRACT_STATUS))>,\n",
       " <Feature: MODE(previous.MODE(credit.NAME_CONTRACT_STATUS))>]"
      ]
     },
     "execution_count": 267,
     "metadata": {},
     "output_type": "execute_result"
    }
   ],
   "source": [
    "feature_names[-15:]"
   ]
  },
  {
   "cell_type": "markdown",
   "metadata": {},
   "source": [
    "#### Selecting Primitives"
   ]
  },
  {
   "cell_type": "code",
   "execution_count": 280,
   "metadata": {
    "scrolled": true
   },
   "outputs": [
    {
     "name": "stdout",
     "output_type": "stream",
     "text": [
      "Built 183 features\n"
     ]
    }
   ],
   "source": [
    "agg_primitives = ['sum']\n",
    "trans_primitives = ['day']\n",
    "feature_names = ft.dfs(entityset=es, target_entity='app',\n",
    "                      agg_primitives = agg_primitives, \n",
    "                      trans_primitives = trans_primitives,\n",
    "                      n_jobs = -1, verbose = 1,\n",
    "                      features_only = True, \n",
    "                      max_depth = 2)"
   ]
  },
  {
   "cell_type": "code",
   "execution_count": 290,
   "metadata": {},
   "outputs": [],
   "source": [
    "from featuretools.primitives import make_agg_primitive, make_trans_primitive\n",
    "\n",
    "def absolute(column):\n",
    "    return abs(column)\n",
    "\n",
    "Absolute = make_trans_primitive(function=absolute,\n",
    "                               input_types=[vtypes.Numeric],\n",
    "                               return_type=vtypes.Numeric)\n",
    "\n",
    "def maximum(column): \n",
    "    return max(column)\n",
    "\n",
    "Maximum = make_agg_primitive(function=maximum, input_types=[vtypes.Numeric],\n",
    "                            return_type=vtypes.Numeric)\n",
    "\n",
    "def num_over_1000(column):\n",
    "    count = 0\n",
    "    for i in range(len(column)):\n",
    "        if (column.iloc[i] > 1000):\n",
    "            count = count + 1\n",
    "    return count\n",
    "\n",
    "NumOver1000 = make_agg_primitive(function=num_over_1000, input_types = [vtypes.Numeric],\n",
    "                                return_type = vtypes.Numeric)\n",
    "    "
   ]
  },
  {
   "cell_type": "markdown",
   "metadata": {},
   "source": [
    "#### Run Full Deep Feature Synthesis"
   ]
  },
  {
   "cell_type": "code",
   "execution_count": 278,
   "metadata": {},
   "outputs": [
    {
     "name": "stdout",
     "output_type": "stream",
     "text": [
      "Total size of entityset: 0.05982 gb.\n"
     ]
    }
   ],
   "source": [
    "import sys\n",
    "print('Total size of entityset: {:.5f} gb.'.format(sys.getsizeof(es)/1e9))"
   ]
  },
  {
   "cell_type": "code",
   "execution_count": 279,
   "metadata": {},
   "outputs": [
    {
     "name": "stdout",
     "output_type": "stream",
     "text": [
      "Total number of cpus detected: 4.\n",
      "Total size of system memory: 12.745 gb.\n"
     ]
    }
   ],
   "source": [
    "import psutil\n",
    "\n",
    "print('Total number of cpus detected: {}.'.format(psutil.cpu_count()))\n",
    "print('Total size of system memory: {:.5} gb.'.format(psutil.virtual_memory().total/1e9))"
   ]
  },
  {
   "cell_type": "code",
   "execution_count": 281,
   "metadata": {},
   "outputs": [
    {
     "name": "stdout",
     "output_type": "stream",
     "text": [
      "Built 183 features\n",
      "\n",
      "Elapsed: 00:00 | Remaining: ? | Progress:   0%|          | Calculated: 0/40 chunks\n",
      "Elapsed: 00:00 | Remaining: 00:15 | Progress:   2%|▎         | Calculated: 1/40 chunks\n",
      "Elapsed: 00:00 | Remaining: 00:14 | Progress:   5%|▌         | Calculated: 2/40 chunks\n",
      "Elapsed: 00:01 | Remaining: 00:14 | Progress:   8%|▊         | Calculated: 3/40 chunks\n",
      "Elapsed: 00:01 | Remaining: 00:13 | Progress:  10%|█         | Calculated: 4/40 chunks\n",
      "Elapsed: 00:01 | Remaining: 00:14 | Progress:  12%|█▎        | Calculated: 5/40 chunks\n",
      "Elapsed: 00:02 | Remaining: 00:14 | Progress:  15%|█▌        | Calculated: 6/40 chunks\n",
      "Elapsed: 00:02 | Remaining: 00:14 | Progress:  18%|█▊        | Calculated: 7/40 chunks\n",
      "Elapsed: 00:03 | Remaining: 00:13 | Progress:  20%|██        | Calculated: 8/40 chunks\n",
      "Elapsed: 00:03 | Remaining: 00:13 | Progress:  22%|██▎       | Calculated: 9/40 chunks\n",
      "Elapsed: 00:04 | Remaining: 00:12 | Progress:  25%|██▌       | Calculated: 10/40 chunks\n",
      "Elapsed: 00:04 | Remaining: 00:11 | Progress:  28%|██▊       | Calculated: 11/40 chunks\n",
      "Elapsed: 00:05 | Remaining: 00:12 | Progress:  30%|███       | Calculated: 12/40 chunks\n",
      "Elapsed: 00:05 | Remaining: 00:11 | Progress:  32%|███▎      | Calculated: 13/40 chunks\n",
      "Elapsed: 00:05 | Remaining: 00:11 | Progress:  35%|███▌      | Calculated: 14/40 chunks\n",
      "Elapsed: 00:06 | Remaining: 00:10 | Progress:  38%|███▊      | Calculated: 15/40 chunks\n",
      "Elapsed: 00:06 | Remaining: 00:09 | Progress:  40%|████      | Calculated: 16/40 chunks\n",
      "Elapsed: 00:07 | Remaining: 00:09 | Progress:  42%|████▎     | Calculated: 17/40 chunks\n",
      "Elapsed: 00:07 | Remaining: 00:09 | Progress:  45%|████▌     | Calculated: 18/40 chunks\n",
      "Elapsed: 00:07 | Remaining: 00:08 | Progress:  48%|████▊     | Calculated: 19/40 chunks\n",
      "Elapsed: 00:08 | Remaining: 00:08 | Progress:  50%|█████     | Calculated: 20/40 chunks\n",
      "Elapsed: 00:08 | Remaining: 00:07 | Progress:  52%|█████▎    | Calculated: 21/40 chunks\n",
      "Elapsed: 00:09 | Remaining: 00:07 | Progress:  55%|█████▌    | Calculated: 22/40 chunks\n",
      "Elapsed: 00:09 | Remaining: 00:07 | Progress:  57%|█████▊    | Calculated: 23/40 chunks\n",
      "Elapsed: 00:09 | Remaining: 00:06 | Progress:  60%|██████    | Calculated: 24/40 chunks\n",
      "Elapsed: 00:10 | Remaining: 00:06 | Progress:  62%|██████▎   | Calculated: 25/40 chunks\n",
      "Elapsed: 00:10 | Remaining: 00:05 | Progress:  65%|██████▌   | Calculated: 26/40 chunks\n",
      "Elapsed: 00:11 | Remaining: 00:05 | Progress:  68%|██████▊   | Calculated: 27/40 chunks\n",
      "Elapsed: 00:11 | Remaining: 00:05 | Progress:  70%|███████   | Calculated: 28/40 chunks\n",
      "Elapsed: 00:12 | Remaining: 00:04 | Progress:  72%|███████▎  | Calculated: 29/40 chunks\n",
      "Elapsed: 00:12 | Remaining: 00:04 | Progress:  75%|███████▌  | Calculated: 30/40 chunks\n",
      "Elapsed: 00:12 | Remaining: 00:03 | Progress:  78%|███████▊  | Calculated: 31/40 chunks\n",
      "Elapsed: 00:13 | Remaining: 00:03 | Progress:  80%|████████  | Calculated: 32/40 chunks\n",
      "Elapsed: 00:13 | Remaining: 00:02 | Progress:  82%|████████▎ | Calculated: 33/40 chunks\n",
      "Elapsed: 00:14 | Remaining: 00:02 | Progress:  85%|████████▌ | Calculated: 34/40 chunks\n",
      "Elapsed: 00:14 | Remaining: 00:01 | Progress:  88%|████████▊ | Calculated: 35/40 chunks\n",
      "Elapsed: 00:14 | Remaining: 00:01 | Progress:  90%|█████████ | Calculated: 36/40 chunks\n",
      "Elapsed: 00:15 | Remaining: 00:01 | Progress:  92%|█████████▎| Calculated: 37/40 chunks\n",
      "Elapsed: 00:15 | Remaining: 00:00 | Progress:  95%|█████████▌| Calculated: 38/40 chunks\n",
      "Elapsed: 00:16 | Remaining: 00:00 | Progress:  98%|█████████▊| Calculated: 39/40 chunks\n",
      "Elapsed: 00:16 | Remaining: 00:00 | Progress: 100%|██████████| Calculated: 40/40 chunks\n"
     ]
    }
   ],
   "source": [
    "feature_matrix, feature_names = ft.dfs(entityset=es, target_entity = 'app',\n",
    "                                      agg_primitives = agg_primitives, \n",
    "                                      trans_primitives = trans_primitives,\n",
    "                                      n_jobs = 1, verbose = 1, features_only = False, \n",
    "                                      max_depth = 2, chunk_size = 500)"
   ]
  },
  {
   "cell_type": "code",
   "execution_count": 291,
   "metadata": {
    "scrolled": true
   },
   "outputs": [
    {
     "name": "stdout",
     "output_type": "stream",
     "text": [
      "Built 409 features\n",
      "\n",
      "\n",
      "\n",
      "Elapsed: 00:00 | Remaining: ? | Progress:   0%|          | Calculated: 0/40 chunks\n",
      "\n",
      "\n",
      "Elapsed: 00:01 | Remaining: 00:48 | Progress:   2%|▎         | Calculated: 1/40 chunks\n",
      "\n",
      "\n",
      "Elapsed: 00:02 | Remaining: 00:46 | Progress:   5%|▌         | Calculated: 2/40 chunks\n",
      "\n",
      "\n",
      "Elapsed: 00:03 | Remaining: 00:46 | Progress:   8%|▊         | Calculated: 3/40 chunks\n",
      "\n",
      "\n",
      "Elapsed: 00:04 | Remaining: 00:44 | Progress:  10%|█         | Calculated: 4/40 chunks\n",
      "\n",
      "\n",
      "Elapsed: 00:06 | Remaining: 00:44 | Progress:  12%|█▎        | Calculated: 5/40 chunks\n",
      "\n",
      "\n",
      "Elapsed: 00:07 | Remaining: 00:41 | Progress:  15%|█▌        | Calculated: 6/40 chunks\n",
      "\n",
      "\n",
      "Elapsed: 00:08 | Remaining: 00:38 | Progress:  18%|█▊        | Calculated: 7/40 chunks\n",
      "\n",
      "\n",
      "Elapsed: 00:09 | Remaining: 00:36 | Progress:  20%|██        | Calculated: 8/40 chunks\n",
      "\n",
      "\n",
      "Elapsed: 00:10 | Remaining: 00:35 | Progress:  22%|██▎       | Calculated: 9/40 chunks\n",
      "\n",
      "\n",
      "Elapsed: 00:11 | Remaining: 00:34 | Progress:  25%|██▌       | Calculated: 10/40 chunks\n",
      "\n",
      "\n",
      "Elapsed: 00:12 | Remaining: 00:32 | Progress:  28%|██▊       | Calculated: 11/40 chunks\n",
      "\n",
      "\n",
      "Elapsed: 00:13 | Remaining: 00:31 | Progress:  30%|███       | Calculated: 12/40 chunks\n",
      "\n",
      "\n",
      "Elapsed: 00:15 | Remaining: 00:30 | Progress:  32%|███▎      | Calculated: 13/40 chunks\n",
      "\n",
      "\n",
      "Elapsed: 00:16 | Remaining: 00:31 | Progress:  35%|███▌      | Calculated: 14/40 chunks\n",
      "\n",
      "\n",
      "Elapsed: 00:17 | Remaining: 00:29 | Progress:  38%|███▊      | Calculated: 15/40 chunks\n",
      "\n",
      "\n",
      "Elapsed: 00:18 | Remaining: 00:27 | Progress:  40%|████      | Calculated: 16/40 chunks\n",
      "\n",
      "\n",
      "Elapsed: 00:19 | Remaining: 00:26 | Progress:  42%|████▎     | Calculated: 17/40 chunks\n",
      "\n",
      "\n",
      "Elapsed: 00:21 | Remaining: 00:25 | Progress:  45%|████▌     | Calculated: 18/40 chunks\n",
      "\n",
      "\n",
      "Elapsed: 00:22 | Remaining: 00:25 | Progress:  48%|████▊     | Calculated: 19/40 chunks\n",
      "\n",
      "\n",
      "Elapsed: 00:23 | Remaining: 00:25 | Progress:  50%|█████     | Calculated: 20/40 chunks\n",
      "\n",
      "\n",
      "Elapsed: 00:25 | Remaining: 00:29 | Progress:  52%|█████▎    | Calculated: 21/40 chunks\n",
      "\n",
      "\n",
      "Elapsed: 00:27 | Remaining: 00:27 | Progress:  55%|█████▌    | Calculated: 22/40 chunks\n",
      "\n",
      "\n",
      "Elapsed: 00:28 | Remaining: 00:23 | Progress:  57%|█████▊    | Calculated: 23/40 chunks\n",
      "\n",
      "\n",
      "Elapsed: 00:30 | Remaining: 00:24 | Progress:  60%|██████    | Calculated: 24/40 chunks\n",
      "\n",
      "\n",
      "Elapsed: 00:31 | Remaining: 00:22 | Progress:  62%|██████▎   | Calculated: 25/40 chunks\n",
      "\n",
      "\n",
      "Elapsed: 00:33 | Remaining: 00:21 | Progress:  65%|██████▌   | Calculated: 26/40 chunks\n",
      "\n",
      "\n",
      "Elapsed: 00:34 | Remaining: 00:19 | Progress:  68%|██████▊   | Calculated: 27/40 chunks\n",
      "\n",
      "\n",
      "Elapsed: 00:35 | Remaining: 00:16 | Progress:  70%|███████   | Calculated: 28/40 chunks\n",
      "\n",
      "\n",
      "Elapsed: 00:37 | Remaining: 00:15 | Progress:  72%|███████▎  | Calculated: 29/40 chunks\n",
      "\n",
      "\n",
      "Elapsed: 00:38 | Remaining: 00:14 | Progress:  75%|███████▌  | Calculated: 30/40 chunks\n",
      "\n",
      "\n",
      "Elapsed: 00:40 | Remaining: 00:12 | Progress:  78%|███████▊  | Calculated: 31/40 chunks\n",
      "\n",
      "\n",
      "Elapsed: 00:41 | Remaining: 00:11 | Progress:  80%|████████  | Calculated: 32/40 chunks\n",
      "\n",
      "\n",
      "Elapsed: 00:42 | Remaining: 00:09 | Progress:  82%|████████▎ | Calculated: 33/40 chunks\n",
      "\n",
      "\n",
      "Elapsed: 00:44 | Remaining: 00:08 | Progress:  85%|████████▌ | Calculated: 34/40 chunks\n",
      "\n",
      "\n",
      "Elapsed: 00:45 | Remaining: 00:06 | Progress:  88%|████████▊ | Calculated: 35/40 chunks\n",
      "\n",
      "\n",
      "Elapsed: 00:46 | Remaining: 00:05 | Progress:  90%|█████████ | Calculated: 36/40 chunks\n",
      "\n",
      "\n",
      "Elapsed: 00:48 | Remaining: 00:04 | Progress:  92%|█████████▎| Calculated: 37/40 chunks\n",
      "\n",
      "\n",
      "Elapsed: 00:49 | Remaining: 00:02 | Progress:  95%|█████████▌| Calculated: 38/40 chunks\n",
      "\n",
      "\n",
      "Elapsed: 00:50 | Remaining: 00:01 | Progress:  98%|█████████▊| Calculated: 39/40 chunks\n",
      "\n",
      "\n",
      "Elapsed: 00:51 | Remaining: 00:00 | Progress: 100%|██████████| Calculated: 40/40 chunks\n",
      "\n",
      "\n"
     ]
    }
   ],
   "source": [
    "feature_matrix, feature_names = ft.dfs(entityset=es, target_entity = 'app',\n",
    "                                      agg_primitives = [NumOver1000], \n",
    "                                      trans_primitives = [Absolute],\n",
    "                                      n_jobs = 1, verbose = 1, features_only = False, \n",
    "                                      max_depth = 2, chunk_size = 500)"
   ]
  },
  {
   "cell_type": "code",
   "execution_count": 284,
   "metadata": {},
   "outputs": [
    {
     "name": "stdout",
     "output_type": "stream",
     "text": [
      "(20000, 183)\n"
     ]
    }
   ],
   "source": [
    "print(np.shape(feature_matrix))\n"
   ]
  },
  {
   "cell_type": "code",
   "execution_count": 292,
   "metadata": {},
   "outputs": [
    {
     "data": {
      "text/html": [
       "<div>\n",
       "<style scoped>\n",
       "    .dataframe tbody tr th:only-of-type {\n",
       "        vertical-align: middle;\n",
       "    }\n",
       "\n",
       "    .dataframe tbody tr th {\n",
       "        vertical-align: top;\n",
       "    }\n",
       "\n",
       "    .dataframe thead th {\n",
       "        text-align: right;\n",
       "    }\n",
       "</style>\n",
       "<table border=\"1\" class=\"dataframe\">\n",
       "  <thead>\n",
       "    <tr style=\"text-align: right;\">\n",
       "      <th></th>\n",
       "      <th>AMT_ANNUITY</th>\n",
       "      <th>AMT_CREDIT</th>\n",
       "      <th>AMT_GOODS_PRICE</th>\n",
       "      <th>AMT_INCOME_TOTAL</th>\n",
       "      <th>AMT_REQ_CREDIT_BUREAU_DAY</th>\n",
       "      <th>AMT_REQ_CREDIT_BUREAU_HOUR</th>\n",
       "      <th>AMT_REQ_CREDIT_BUREAU_MON</th>\n",
       "      <th>AMT_REQ_CREDIT_BUREAU_QRT</th>\n",
       "      <th>AMT_REQ_CREDIT_BUREAU_WEEK</th>\n",
       "      <th>AMT_REQ_CREDIT_BUREAU_YEAR</th>\n",
       "      <th>...</th>\n",
       "      <th>ABSOLUTE(NUM_OVER_1000(credit.AMT_RECEIVABLE_PRINCIPAL))</th>\n",
       "      <th>ABSOLUTE(NUM_OVER_1000(credit.AMT_RECIVABLE))</th>\n",
       "      <th>ABSOLUTE(NUM_OVER_1000(credit.AMT_TOTAL_RECEIVABLE))</th>\n",
       "      <th>ABSOLUTE(NUM_OVER_1000(credit.CNT_DRAWINGS_ATM_CURRENT))</th>\n",
       "      <th>ABSOLUTE(NUM_OVER_1000(credit.CNT_DRAWINGS_CURRENT))</th>\n",
       "      <th>ABSOLUTE(NUM_OVER_1000(credit.CNT_DRAWINGS_OTHER_CURRENT))</th>\n",
       "      <th>ABSOLUTE(NUM_OVER_1000(credit.CNT_DRAWINGS_POS_CURRENT))</th>\n",
       "      <th>ABSOLUTE(NUM_OVER_1000(credit.CNT_INSTALMENT_MATURE_CUM))</th>\n",
       "      <th>ABSOLUTE(NUM_OVER_1000(credit.SK_DPD))</th>\n",
       "      <th>ABSOLUTE(NUM_OVER_1000(credit.SK_DPD_DEF))</th>\n",
       "    </tr>\n",
       "    <tr>\n",
       "      <th>SK_ID_CURR</th>\n",
       "      <th></th>\n",
       "      <th></th>\n",
       "      <th></th>\n",
       "      <th></th>\n",
       "      <th></th>\n",
       "      <th></th>\n",
       "      <th></th>\n",
       "      <th></th>\n",
       "      <th></th>\n",
       "      <th></th>\n",
       "      <th></th>\n",
       "      <th></th>\n",
       "      <th></th>\n",
       "      <th></th>\n",
       "      <th></th>\n",
       "      <th></th>\n",
       "      <th></th>\n",
       "      <th></th>\n",
       "      <th></th>\n",
       "      <th></th>\n",
       "      <th></th>\n",
       "    </tr>\n",
       "  </thead>\n",
       "  <tbody>\n",
       "    <tr>\n",
       "      <th>100001</th>\n",
       "      <td>20560.5</td>\n",
       "      <td>568800.0</td>\n",
       "      <td>450000.0</td>\n",
       "      <td>135000.0</td>\n",
       "      <td>0.0</td>\n",
       "      <td>0.0</td>\n",
       "      <td>0.0</td>\n",
       "      <td>0.0</td>\n",
       "      <td>0.0</td>\n",
       "      <td>0.0</td>\n",
       "      <td>...</td>\n",
       "      <td>0.0</td>\n",
       "      <td>0.0</td>\n",
       "      <td>0.0</td>\n",
       "      <td>0.0</td>\n",
       "      <td>0.0</td>\n",
       "      <td>0.0</td>\n",
       "      <td>0.0</td>\n",
       "      <td>0.0</td>\n",
       "      <td>0.0</td>\n",
       "      <td>0.0</td>\n",
       "    </tr>\n",
       "    <tr>\n",
       "      <th>100002</th>\n",
       "      <td>24700.5</td>\n",
       "      <td>406597.5</td>\n",
       "      <td>351000.0</td>\n",
       "      <td>202500.0</td>\n",
       "      <td>0.0</td>\n",
       "      <td>0.0</td>\n",
       "      <td>0.0</td>\n",
       "      <td>0.0</td>\n",
       "      <td>0.0</td>\n",
       "      <td>1.0</td>\n",
       "      <td>...</td>\n",
       "      <td>0.0</td>\n",
       "      <td>0.0</td>\n",
       "      <td>0.0</td>\n",
       "      <td>0.0</td>\n",
       "      <td>0.0</td>\n",
       "      <td>0.0</td>\n",
       "      <td>0.0</td>\n",
       "      <td>0.0</td>\n",
       "      <td>0.0</td>\n",
       "      <td>0.0</td>\n",
       "    </tr>\n",
       "    <tr>\n",
       "      <th>100003</th>\n",
       "      <td>35698.5</td>\n",
       "      <td>1293502.5</td>\n",
       "      <td>1129500.0</td>\n",
       "      <td>270000.0</td>\n",
       "      <td>0.0</td>\n",
       "      <td>0.0</td>\n",
       "      <td>0.0</td>\n",
       "      <td>0.0</td>\n",
       "      <td>0.0</td>\n",
       "      <td>0.0</td>\n",
       "      <td>...</td>\n",
       "      <td>0.0</td>\n",
       "      <td>0.0</td>\n",
       "      <td>0.0</td>\n",
       "      <td>0.0</td>\n",
       "      <td>0.0</td>\n",
       "      <td>0.0</td>\n",
       "      <td>0.0</td>\n",
       "      <td>0.0</td>\n",
       "      <td>0.0</td>\n",
       "      <td>0.0</td>\n",
       "    </tr>\n",
       "    <tr>\n",
       "      <th>100004</th>\n",
       "      <td>6750.0</td>\n",
       "      <td>135000.0</td>\n",
       "      <td>135000.0</td>\n",
       "      <td>67500.0</td>\n",
       "      <td>0.0</td>\n",
       "      <td>0.0</td>\n",
       "      <td>0.0</td>\n",
       "      <td>0.0</td>\n",
       "      <td>0.0</td>\n",
       "      <td>0.0</td>\n",
       "      <td>...</td>\n",
       "      <td>0.0</td>\n",
       "      <td>0.0</td>\n",
       "      <td>0.0</td>\n",
       "      <td>0.0</td>\n",
       "      <td>0.0</td>\n",
       "      <td>0.0</td>\n",
       "      <td>0.0</td>\n",
       "      <td>0.0</td>\n",
       "      <td>0.0</td>\n",
       "      <td>0.0</td>\n",
       "    </tr>\n",
       "    <tr>\n",
       "      <th>100005</th>\n",
       "      <td>17370.0</td>\n",
       "      <td>222768.0</td>\n",
       "      <td>180000.0</td>\n",
       "      <td>99000.0</td>\n",
       "      <td>0.0</td>\n",
       "      <td>0.0</td>\n",
       "      <td>0.0</td>\n",
       "      <td>0.0</td>\n",
       "      <td>0.0</td>\n",
       "      <td>3.0</td>\n",
       "      <td>...</td>\n",
       "      <td>0.0</td>\n",
       "      <td>0.0</td>\n",
       "      <td>0.0</td>\n",
       "      <td>0.0</td>\n",
       "      <td>0.0</td>\n",
       "      <td>0.0</td>\n",
       "      <td>0.0</td>\n",
       "      <td>0.0</td>\n",
       "      <td>0.0</td>\n",
       "      <td>0.0</td>\n",
       "    </tr>\n",
       "  </tbody>\n",
       "</table>\n",
       "<p>5 rows × 409 columns</p>\n",
       "</div>"
      ],
      "text/plain": [
       "            AMT_ANNUITY  AMT_CREDIT  AMT_GOODS_PRICE  AMT_INCOME_TOTAL  \\\n",
       "SK_ID_CURR                                                               \n",
       "100001          20560.5    568800.0         450000.0          135000.0   \n",
       "100002          24700.5    406597.5         351000.0          202500.0   \n",
       "100003          35698.5   1293502.5        1129500.0          270000.0   \n",
       "100004           6750.0    135000.0         135000.0           67500.0   \n",
       "100005          17370.0    222768.0         180000.0           99000.0   \n",
       "\n",
       "            AMT_REQ_CREDIT_BUREAU_DAY  AMT_REQ_CREDIT_BUREAU_HOUR  \\\n",
       "SK_ID_CURR                                                          \n",
       "100001                            0.0                         0.0   \n",
       "100002                            0.0                         0.0   \n",
       "100003                            0.0                         0.0   \n",
       "100004                            0.0                         0.0   \n",
       "100005                            0.0                         0.0   \n",
       "\n",
       "            AMT_REQ_CREDIT_BUREAU_MON  AMT_REQ_CREDIT_BUREAU_QRT  \\\n",
       "SK_ID_CURR                                                         \n",
       "100001                            0.0                        0.0   \n",
       "100002                            0.0                        0.0   \n",
       "100003                            0.0                        0.0   \n",
       "100004                            0.0                        0.0   \n",
       "100005                            0.0                        0.0   \n",
       "\n",
       "            AMT_REQ_CREDIT_BUREAU_WEEK  AMT_REQ_CREDIT_BUREAU_YEAR  \\\n",
       "SK_ID_CURR                                                           \n",
       "100001                             0.0                         0.0   \n",
       "100002                             0.0                         1.0   \n",
       "100003                             0.0                         0.0   \n",
       "100004                             0.0                         0.0   \n",
       "100005                             0.0                         3.0   \n",
       "\n",
       "                               ...                      \\\n",
       "SK_ID_CURR                     ...                       \n",
       "100001                         ...                       \n",
       "100002                         ...                       \n",
       "100003                         ...                       \n",
       "100004                         ...                       \n",
       "100005                         ...                       \n",
       "\n",
       "            ABSOLUTE(NUM_OVER_1000(credit.AMT_RECEIVABLE_PRINCIPAL))  \\\n",
       "SK_ID_CURR                                                             \n",
       "100001                                                           0.0   \n",
       "100002                                                           0.0   \n",
       "100003                                                           0.0   \n",
       "100004                                                           0.0   \n",
       "100005                                                           0.0   \n",
       "\n",
       "            ABSOLUTE(NUM_OVER_1000(credit.AMT_RECIVABLE))  \\\n",
       "SK_ID_CURR                                                  \n",
       "100001                                                0.0   \n",
       "100002                                                0.0   \n",
       "100003                                                0.0   \n",
       "100004                                                0.0   \n",
       "100005                                                0.0   \n",
       "\n",
       "            ABSOLUTE(NUM_OVER_1000(credit.AMT_TOTAL_RECEIVABLE))  \\\n",
       "SK_ID_CURR                                                         \n",
       "100001                                                       0.0   \n",
       "100002                                                       0.0   \n",
       "100003                                                       0.0   \n",
       "100004                                                       0.0   \n",
       "100005                                                       0.0   \n",
       "\n",
       "            ABSOLUTE(NUM_OVER_1000(credit.CNT_DRAWINGS_ATM_CURRENT))  \\\n",
       "SK_ID_CURR                                                             \n",
       "100001                                                           0.0   \n",
       "100002                                                           0.0   \n",
       "100003                                                           0.0   \n",
       "100004                                                           0.0   \n",
       "100005                                                           0.0   \n",
       "\n",
       "            ABSOLUTE(NUM_OVER_1000(credit.CNT_DRAWINGS_CURRENT))  \\\n",
       "SK_ID_CURR                                                         \n",
       "100001                                                       0.0   \n",
       "100002                                                       0.0   \n",
       "100003                                                       0.0   \n",
       "100004                                                       0.0   \n",
       "100005                                                       0.0   \n",
       "\n",
       "            ABSOLUTE(NUM_OVER_1000(credit.CNT_DRAWINGS_OTHER_CURRENT))  \\\n",
       "SK_ID_CURR                                                               \n",
       "100001                                                             0.0   \n",
       "100002                                                             0.0   \n",
       "100003                                                             0.0   \n",
       "100004                                                             0.0   \n",
       "100005                                                             0.0   \n",
       "\n",
       "            ABSOLUTE(NUM_OVER_1000(credit.CNT_DRAWINGS_POS_CURRENT))  \\\n",
       "SK_ID_CURR                                                             \n",
       "100001                                                           0.0   \n",
       "100002                                                           0.0   \n",
       "100003                                                           0.0   \n",
       "100004                                                           0.0   \n",
       "100005                                                           0.0   \n",
       "\n",
       "            ABSOLUTE(NUM_OVER_1000(credit.CNT_INSTALMENT_MATURE_CUM))  \\\n",
       "SK_ID_CURR                                                              \n",
       "100001                                                            0.0   \n",
       "100002                                                            0.0   \n",
       "100003                                                            0.0   \n",
       "100004                                                            0.0   \n",
       "100005                                                            0.0   \n",
       "\n",
       "           ABSOLUTE(NUM_OVER_1000(credit.SK_DPD))  \\\n",
       "SK_ID_CURR                                          \n",
       "100001                                        0.0   \n",
       "100002                                        0.0   \n",
       "100003                                        0.0   \n",
       "100004                                        0.0   \n",
       "100005                                        0.0   \n",
       "\n",
       "            ABSOLUTE(NUM_OVER_1000(credit.SK_DPD_DEF))  \n",
       "SK_ID_CURR                                              \n",
       "100001                                             0.0  \n",
       "100002                                             0.0  \n",
       "100003                                             0.0  \n",
       "100004                                             0.0  \n",
       "100005                                             0.0  \n",
       "\n",
       "[5 rows x 409 columns]"
      ]
     },
     "execution_count": 292,
     "metadata": {},
     "output_type": "execute_result"
    }
   ],
   "source": [
    "feature_matrix.head()"
   ]
  },
  {
   "cell_type": "markdown",
   "metadata": {},
   "source": [
    "### Calculating Interest Rates"
   ]
  },
  {
   "cell_type": "markdown",
   "metadata": {},
   "source": [
    "Use Previous table to build model of interest rate:"
   ]
  },
  {
   "cell_type": "code",
   "execution_count": 156,
   "metadata": {},
   "outputs": [
    {
     "data": {
      "text/plain": [
       "Index(['SK_ID_PREV', 'SK_ID_CURR', 'NAME_CONTRACT_TYPE', 'AMT_ANNUITY',\n",
       "       'AMT_APPLICATION', 'AMT_CREDIT', 'AMT_DOWN_PAYMENT', 'AMT_GOODS_PRICE',\n",
       "       'WEEKDAY_APPR_PROCESS_START', 'HOUR_APPR_PROCESS_START',\n",
       "       'FLAG_LAST_APPL_PER_CONTRACT', 'NFLAG_LAST_APPL_IN_DAY',\n",
       "       'RATE_DOWN_PAYMENT', 'RATE_INTEREST_PRIMARY',\n",
       "       'RATE_INTEREST_PRIVILEGED', 'NAME_CASH_LOAN_PURPOSE',\n",
       "       'NAME_CONTRACT_STATUS', 'DAYS_DECISION', 'NAME_PAYMENT_TYPE',\n",
       "       'CODE_REJECT_REASON', 'NAME_TYPE_SUITE', 'NAME_CLIENT_TYPE',\n",
       "       'NAME_GOODS_CATEGORY', 'NAME_PORTFOLIO', 'NAME_PRODUCT_TYPE',\n",
       "       'CHANNEL_TYPE', 'SELLERPLACE_AREA', 'NAME_SELLER_INDUSTRY',\n",
       "       'CNT_PAYMENT', 'NAME_YIELD_GROUP', 'PRODUCT_COMBINATION',\n",
       "       'DAYS_FIRST_DRAWING', 'DAYS_FIRST_DUE', 'DAYS_LAST_DUE_1ST_VERSION',\n",
       "       'DAYS_LAST_DUE', 'DAYS_TERMINATION', 'NFLAG_INSURED_ON_APPROVAL'],\n",
       "      dtype='object')"
      ]
     },
     "execution_count": 156,
     "metadata": {},
     "output_type": "execute_result"
    }
   ],
   "source": [
    "previous.columns"
   ]
  },
  {
   "cell_type": "code",
   "execution_count": 157,
   "metadata": {},
   "outputs": [],
   "source": [
    "def find_interest_rate(PV,C,n):\n",
    "    if (np.isnan(PV) | np.isnan(C) | np.isnan(n)):\n",
    "        return  float('NaN')\n",
    "    i = np.arange(0.05,40,0.05)\n",
    "    dif = []\n",
    "    for i_idx in range(len(i)):\n",
    "        dif.append(abs(PV - (C*(1-np.power((1+0.01*i[i_idx]),-n))/(0.01*i[i_idx]))))\n",
    "    min_idx = np.argmin(dif)\n",
    "    return i[min_idx]\n",
    "    "
   ]
  },
  {
   "cell_type": "code",
   "execution_count": 158,
   "metadata": {},
   "outputs": [
    {
     "name": "stdout",
     "output_type": "stream",
     "text": [
      "0\n",
      "5000\n",
      "10000\n",
      "15000\n",
      "20000\n",
      "25000\n",
      "30000\n",
      "35000\n",
      "40000\n",
      "45000\n"
     ]
    }
   ],
   "source": [
    "interest_columns = ['AMT_ANNUITY','AMT_CREDIT','CNT_PAYMENT']\n",
    "int_rate_data = previous[interest_columns]\n",
    "\n",
    "PV = int_rate_data['AMT_CREDIT']\n",
    "C = int_rate_data['AMT_ANNUITY']\n",
    "n = int_rate_data['CNT_PAYMENT']\n",
    "\n",
    "int_rate = []\n",
    "for idx in range(len(n)):\n",
    "    if (idx % 5000 == 0):\n",
    "        print(idx)\n",
    "    int_rate.append(find_interest_rate(PV[idx],C[idx],n[idx]))\n",
    "\n"
   ]
  },
  {
   "cell_type": "code",
   "execution_count": null,
   "metadata": {},
   "outputs": [],
   "source": []
  },
  {
   "cell_type": "code",
   "execution_count": 160,
   "metadata": {},
   "outputs": [],
   "source": [
    "previous_with_rate = previous\n",
    "previous_with_rate['Calculated_Interest_Rate'] = int_rate\n",
    "\n",
    "\n"
   ]
  },
  {
   "cell_type": "code",
   "execution_count": 161,
   "metadata": {},
   "outputs": [
    {
     "data": {
      "text/html": [
       "<div>\n",
       "<style scoped>\n",
       "    .dataframe tbody tr th:only-of-type {\n",
       "        vertical-align: middle;\n",
       "    }\n",
       "\n",
       "    .dataframe tbody tr th {\n",
       "        vertical-align: top;\n",
       "    }\n",
       "\n",
       "    .dataframe thead th {\n",
       "        text-align: right;\n",
       "    }\n",
       "</style>\n",
       "<table border=\"1\" class=\"dataframe\">\n",
       "  <thead>\n",
       "    <tr style=\"text-align: right;\">\n",
       "      <th></th>\n",
       "      <th>SK_ID_PREV</th>\n",
       "      <th>SK_ID_CURR</th>\n",
       "      <th>NAME_CONTRACT_TYPE</th>\n",
       "      <th>AMT_ANNUITY</th>\n",
       "      <th>AMT_APPLICATION</th>\n",
       "      <th>AMT_CREDIT</th>\n",
       "      <th>AMT_DOWN_PAYMENT</th>\n",
       "      <th>AMT_GOODS_PRICE</th>\n",
       "      <th>WEEKDAY_APPR_PROCESS_START</th>\n",
       "      <th>HOUR_APPR_PROCESS_START</th>\n",
       "      <th>...</th>\n",
       "      <th>CNT_PAYMENT</th>\n",
       "      <th>NAME_YIELD_GROUP</th>\n",
       "      <th>PRODUCT_COMBINATION</th>\n",
       "      <th>DAYS_FIRST_DRAWING</th>\n",
       "      <th>DAYS_FIRST_DUE</th>\n",
       "      <th>DAYS_LAST_DUE_1ST_VERSION</th>\n",
       "      <th>DAYS_LAST_DUE</th>\n",
       "      <th>DAYS_TERMINATION</th>\n",
       "      <th>NFLAG_INSURED_ON_APPROVAL</th>\n",
       "      <th>Calculated_Interest_Rate</th>\n",
       "    </tr>\n",
       "  </thead>\n",
       "  <tbody>\n",
       "    <tr>\n",
       "      <th>0</th>\n",
       "      <td>2030495</td>\n",
       "      <td>271877</td>\n",
       "      <td>Consumer loans</td>\n",
       "      <td>1730.430</td>\n",
       "      <td>17145.0</td>\n",
       "      <td>17145.0</td>\n",
       "      <td>0.0</td>\n",
       "      <td>17145.0</td>\n",
       "      <td>SATURDAY</td>\n",
       "      <td>15</td>\n",
       "      <td>...</td>\n",
       "      <td>12.0</td>\n",
       "      <td>middle</td>\n",
       "      <td>POS mobile with interest</td>\n",
       "      <td>365243.0</td>\n",
       "      <td>-42.0</td>\n",
       "      <td>300.0</td>\n",
       "      <td>-42.0</td>\n",
       "      <td>-37.0</td>\n",
       "      <td>0.0</td>\n",
       "      <td>3.10</td>\n",
       "    </tr>\n",
       "    <tr>\n",
       "      <th>1</th>\n",
       "      <td>2802425</td>\n",
       "      <td>108129</td>\n",
       "      <td>Cash loans</td>\n",
       "      <td>25188.615</td>\n",
       "      <td>607500.0</td>\n",
       "      <td>679671.0</td>\n",
       "      <td>NaN</td>\n",
       "      <td>607500.0</td>\n",
       "      <td>THURSDAY</td>\n",
       "      <td>11</td>\n",
       "      <td>...</td>\n",
       "      <td>36.0</td>\n",
       "      <td>low_action</td>\n",
       "      <td>Cash X-Sell: low</td>\n",
       "      <td>365243.0</td>\n",
       "      <td>-134.0</td>\n",
       "      <td>916.0</td>\n",
       "      <td>365243.0</td>\n",
       "      <td>365243.0</td>\n",
       "      <td>1.0</td>\n",
       "      <td>1.65</td>\n",
       "    </tr>\n",
       "    <tr>\n",
       "      <th>2</th>\n",
       "      <td>2523466</td>\n",
       "      <td>122040</td>\n",
       "      <td>Cash loans</td>\n",
       "      <td>15060.735</td>\n",
       "      <td>112500.0</td>\n",
       "      <td>136444.5</td>\n",
       "      <td>NaN</td>\n",
       "      <td>112500.0</td>\n",
       "      <td>TUESDAY</td>\n",
       "      <td>11</td>\n",
       "      <td>...</td>\n",
       "      <td>12.0</td>\n",
       "      <td>high</td>\n",
       "      <td>Cash X-Sell: high</td>\n",
       "      <td>365243.0</td>\n",
       "      <td>-271.0</td>\n",
       "      <td>59.0</td>\n",
       "      <td>365243.0</td>\n",
       "      <td>365243.0</td>\n",
       "      <td>1.0</td>\n",
       "      <td>4.60</td>\n",
       "    </tr>\n",
       "    <tr>\n",
       "      <th>3</th>\n",
       "      <td>2819243</td>\n",
       "      <td>176158</td>\n",
       "      <td>Cash loans</td>\n",
       "      <td>47041.335</td>\n",
       "      <td>450000.0</td>\n",
       "      <td>470790.0</td>\n",
       "      <td>NaN</td>\n",
       "      <td>450000.0</td>\n",
       "      <td>MONDAY</td>\n",
       "      <td>7</td>\n",
       "      <td>...</td>\n",
       "      <td>12.0</td>\n",
       "      <td>middle</td>\n",
       "      <td>Cash X-Sell: middle</td>\n",
       "      <td>365243.0</td>\n",
       "      <td>-482.0</td>\n",
       "      <td>-152.0</td>\n",
       "      <td>-182.0</td>\n",
       "      <td>-177.0</td>\n",
       "      <td>1.0</td>\n",
       "      <td>2.90</td>\n",
       "    </tr>\n",
       "    <tr>\n",
       "      <th>4</th>\n",
       "      <td>1784265</td>\n",
       "      <td>202054</td>\n",
       "      <td>Cash loans</td>\n",
       "      <td>31924.395</td>\n",
       "      <td>337500.0</td>\n",
       "      <td>404055.0</td>\n",
       "      <td>NaN</td>\n",
       "      <td>337500.0</td>\n",
       "      <td>THURSDAY</td>\n",
       "      <td>9</td>\n",
       "      <td>...</td>\n",
       "      <td>24.0</td>\n",
       "      <td>high</td>\n",
       "      <td>Cash Street: high</td>\n",
       "      <td>NaN</td>\n",
       "      <td>NaN</td>\n",
       "      <td>NaN</td>\n",
       "      <td>NaN</td>\n",
       "      <td>NaN</td>\n",
       "      <td>NaN</td>\n",
       "      <td>5.90</td>\n",
       "    </tr>\n",
       "  </tbody>\n",
       "</table>\n",
       "<p>5 rows × 38 columns</p>\n",
       "</div>"
      ],
      "text/plain": [
       "   SK_ID_PREV  SK_ID_CURR NAME_CONTRACT_TYPE  AMT_ANNUITY  AMT_APPLICATION  \\\n",
       "0     2030495      271877     Consumer loans     1730.430          17145.0   \n",
       "1     2802425      108129         Cash loans    25188.615         607500.0   \n",
       "2     2523466      122040         Cash loans    15060.735         112500.0   \n",
       "3     2819243      176158         Cash loans    47041.335         450000.0   \n",
       "4     1784265      202054         Cash loans    31924.395         337500.0   \n",
       "\n",
       "   AMT_CREDIT  AMT_DOWN_PAYMENT  AMT_GOODS_PRICE WEEKDAY_APPR_PROCESS_START  \\\n",
       "0     17145.0               0.0          17145.0                   SATURDAY   \n",
       "1    679671.0               NaN         607500.0                   THURSDAY   \n",
       "2    136444.5               NaN         112500.0                    TUESDAY   \n",
       "3    470790.0               NaN         450000.0                     MONDAY   \n",
       "4    404055.0               NaN         337500.0                   THURSDAY   \n",
       "\n",
       "   HOUR_APPR_PROCESS_START           ...            CNT_PAYMENT  \\\n",
       "0                       15           ...                   12.0   \n",
       "1                       11           ...                   36.0   \n",
       "2                       11           ...                   12.0   \n",
       "3                        7           ...                   12.0   \n",
       "4                        9           ...                   24.0   \n",
       "\n",
       "   NAME_YIELD_GROUP       PRODUCT_COMBINATION  DAYS_FIRST_DRAWING  \\\n",
       "0            middle  POS mobile with interest            365243.0   \n",
       "1        low_action          Cash X-Sell: low            365243.0   \n",
       "2              high         Cash X-Sell: high            365243.0   \n",
       "3            middle       Cash X-Sell: middle            365243.0   \n",
       "4              high         Cash Street: high                 NaN   \n",
       "\n",
       "   DAYS_FIRST_DUE DAYS_LAST_DUE_1ST_VERSION DAYS_LAST_DUE  DAYS_TERMINATION  \\\n",
       "0           -42.0                     300.0         -42.0             -37.0   \n",
       "1          -134.0                     916.0      365243.0          365243.0   \n",
       "2          -271.0                      59.0      365243.0          365243.0   \n",
       "3          -482.0                    -152.0        -182.0            -177.0   \n",
       "4             NaN                       NaN           NaN               NaN   \n",
       "\n",
       "  NFLAG_INSURED_ON_APPROVAL Calculated_Interest_Rate  \n",
       "0                       0.0                     3.10  \n",
       "1                       1.0                     1.65  \n",
       "2                       1.0                     4.60  \n",
       "3                       1.0                     2.90  \n",
       "4                       NaN                     5.90  \n",
       "\n",
       "[5 rows x 38 columns]"
      ]
     },
     "execution_count": 161,
     "metadata": {},
     "output_type": "execute_result"
    }
   ],
   "source": [
    "previous_with_rate.head()"
   ]
  },
  {
   "cell_type": "code",
   "execution_count": 240,
   "metadata": {},
   "outputs": [],
   "source": [
    "prev_columns = previous_with_rate.columns\n",
    "app_columns = app_train.columns"
   ]
  },
  {
   "cell_type": "code",
   "execution_count": 241,
   "metadata": {},
   "outputs": [
    {
     "name": "stdout",
     "output_type": "stream",
     "text": [
      "['SK_ID_CURR', 'NAME_CONTRACT_TYPE', 'AMT_CREDIT', 'AMT_ANNUITY', 'AMT_GOODS_PRICE', 'NAME_TYPE_SUITE', 'WEEKDAY_APPR_PROCESS_START', 'HOUR_APPR_PROCESS_START']\n"
     ]
    }
   ],
   "source": [
    "cols = [x for x in app_columns if x in prev_columns]\n",
    "print(cols)\n"
   ]
  },
  {
   "cell_type": "code",
   "execution_count": 242,
   "metadata": {},
   "outputs": [
    {
     "name": "stdout",
     "output_type": "stream",
     "text": [
      "    SK_ID_CURR NAME_CONTRACT_TYPE  AMT_CREDIT  AMT_ANNUITY  AMT_GOODS_PRICE  \\\n",
      "0       100002         Cash loans    406597.5      24700.5         351000.0   \n",
      "1       100003         Cash loans   1293502.5      35698.5        1129500.0   \n",
      "2       100004    Revolving loans    135000.0       6750.0         135000.0   \n",
      "3       100006         Cash loans    312682.5      29686.5         297000.0   \n",
      "4       100007         Cash loans    513000.0      21865.5         513000.0   \n",
      "5       100008         Cash loans    490495.5      27517.5         454500.0   \n",
      "6       100009         Cash loans   1560726.0      41301.0        1395000.0   \n",
      "7       100010         Cash loans   1530000.0      42075.0        1530000.0   \n",
      "8       100011         Cash loans   1019610.0      33826.5         913500.0   \n",
      "9       100012    Revolving loans    405000.0      20250.0         405000.0   \n",
      "10      100014         Cash loans    652500.0      21177.0         652500.0   \n",
      "11      100015         Cash loans    148365.0      10678.5         135000.0   \n",
      "12      100016         Cash loans     80865.0       5881.5          67500.0   \n",
      "13      100017         Cash loans    918468.0      28966.5         697500.0   \n",
      "14      100018         Cash loans    773680.5      32778.0         679500.0   \n",
      "15      100019         Cash loans    299772.0      20160.0         247500.0   \n",
      "16      100020         Cash loans    509602.5      26149.5         387000.0   \n",
      "17      100021    Revolving loans    270000.0      13500.0         270000.0   \n",
      "18      100022    Revolving loans    157500.0       7875.0         157500.0   \n",
      "19      100023         Cash loans    544491.0      17563.5         454500.0   \n",
      "20      100024    Revolving loans    427500.0      21375.0         427500.0   \n",
      "21      100025         Cash loans   1132573.5      37561.5         927000.0   \n",
      "22      100026         Cash loans    497520.0      32521.5         450000.0   \n",
      "23      100027         Cash loans    239850.0      23850.0         225000.0   \n",
      "24      100029         Cash loans    247500.0      12703.5         247500.0   \n",
      "25      100030         Cash loans    225000.0      11074.5         225000.0   \n",
      "26      100031         Cash loans    979992.0      27076.5         702000.0   \n",
      "27      100032         Cash loans    327024.0      23827.5         270000.0   \n",
      "28      100033         Cash loans    790830.0      57676.5         675000.0   \n",
      "29      100034    Revolving loans    180000.0       9000.0         180000.0   \n",
      "\n",
      "    NAME_TYPE_SUITE WEEKDAY_APPR_PROCESS_START  HOUR_APPR_PROCESS_START  \n",
      "0     Unaccompanied                  WEDNESDAY                       10  \n",
      "1            Family                     MONDAY                       11  \n",
      "2     Unaccompanied                     MONDAY                        9  \n",
      "3     Unaccompanied                  WEDNESDAY                       17  \n",
      "4     Unaccompanied                   THURSDAY                       11  \n",
      "5   Spouse, partner                  WEDNESDAY                       16  \n",
      "6     Unaccompanied                     SUNDAY                       16  \n",
      "7     Unaccompanied                     MONDAY                       16  \n",
      "8          Children                  WEDNESDAY                       14  \n",
      "9     Unaccompanied                   THURSDAY                        8  \n",
      "10    Unaccompanied                   SATURDAY                       15  \n",
      "11         Children                     FRIDAY                        7  \n",
      "12    Unaccompanied                     FRIDAY                       10  \n",
      "13    Unaccompanied                   THURSDAY                       13  \n",
      "14    Unaccompanied                     MONDAY                        9  \n",
      "15           Family                   SATURDAY                        6  \n",
      "16    Unaccompanied                   THURSDAY                       12  \n",
      "17    Unaccompanied                     MONDAY                       10  \n",
      "18          Other_A                     FRIDAY                       13  \n",
      "19    Unaccompanied                     MONDAY                       12  \n",
      "20    Unaccompanied                     FRIDAY                       13  \n",
      "21    Unaccompanied                     MONDAY                        9  \n",
      "22    Unaccompanied                   THURSDAY                        6  \n",
      "23    Unaccompanied                     FRIDAY                       12  \n",
      "24    Unaccompanied                   THURSDAY                       14  \n",
      "25    Unaccompanied                   SATURDAY                        8  \n",
      "26    Unaccompanied                     MONDAY                        9  \n",
      "27           Family                   SATURDAY                       10  \n",
      "28    Unaccompanied                  WEDNESDAY                       11  \n",
      "29    Unaccompanied                    TUESDAY                       16  \n"
     ]
    }
   ],
   "source": [
    "X_app_train = app_train[cols]\n",
    "X_app_train = X_app_train.dropna(axis=0)\n",
    "X_app_test = app_test[cols]\n",
    "X_app_test = X_app_test.dropna(axis=0)\n",
    "\n",
    "X_app = pd.concat([X_app_train, X_app_test])\n",
    "X_app_ID = X_app['SK_ID_CURR']\n",
    "X_app = X_app.drop(['SK_ID_CURR'], axis=1)\n",
    "\n",
    "\n",
    "\n",
    "cols.extend(['Calculated_Interest_Rate'])\n",
    "X_int_rate = previous_with_rate[cols]\n",
    "X_int_rate = X_int_rate.dropna(axis=0)\n",
    "X_int_rate = X_int_rate.drop(['SK_ID_CURR'], axis=1)\n",
    "y_int_rate = X_int_rate['Calculated_Interest_Rate']\n",
    "X_int_rate = X_int_rate.drop(['Calculated_Interest_Rate'], axis=1)\n",
    "\n",
    "\n"
   ]
  },
  {
   "cell_type": "code",
   "execution_count": 210,
   "metadata": {},
   "outputs": [],
   "source": [
    "def one_hot_encoder(df, nan_as_category = True):\n",
    "    original_columns = list(df.columns)\n",
    "    cat_columns = [col for col in df.columns if df[col].dtype == 'object']\n",
    "    df = pd.get_dummies(df, columns = cat_columns, dummy_na = nan_as_category)\n",
    "    new_columns = [c for c in df.columns if c not in original_columns]\n",
    "    return df, new_columns\n"
   ]
  },
  {
   "cell_type": "code",
   "execution_count": 211,
   "metadata": {},
   "outputs": [
    {
     "data": {
      "text/plain": [
       "['NAME_CONTRACT_TYPE_Cash loans',\n",
       " 'NAME_CONTRACT_TYPE_Revolving loans',\n",
       " 'NAME_CONTRACT_TYPE_nan',\n",
       " 'NAME_TYPE_SUITE_Children',\n",
       " 'NAME_TYPE_SUITE_Family',\n",
       " 'NAME_TYPE_SUITE_Group of people',\n",
       " 'NAME_TYPE_SUITE_Other_A',\n",
       " 'NAME_TYPE_SUITE_Other_B',\n",
       " 'NAME_TYPE_SUITE_Spouse, partner',\n",
       " 'NAME_TYPE_SUITE_Unaccompanied',\n",
       " 'NAME_TYPE_SUITE_nan',\n",
       " 'WEEKDAY_APPR_PROCESS_START_FRIDAY',\n",
       " 'WEEKDAY_APPR_PROCESS_START_MONDAY',\n",
       " 'WEEKDAY_APPR_PROCESS_START_SATURDAY',\n",
       " 'WEEKDAY_APPR_PROCESS_START_SUNDAY',\n",
       " 'WEEKDAY_APPR_PROCESS_START_THURSDAY',\n",
       " 'WEEKDAY_APPR_PROCESS_START_TUESDAY',\n",
       " 'WEEKDAY_APPR_PROCESS_START_WEDNESDAY',\n",
       " 'WEEKDAY_APPR_PROCESS_START_nan']"
      ]
     },
     "execution_count": 211,
     "metadata": {},
     "output_type": "execute_result"
    }
   ],
   "source": [
    "X_int_rate, cat_cols = one_hot_encoder(X_int_rate)\n",
    "X_app, cat_cols = one_hot_encoder(X_app)\n",
    "\n",
    "\n",
    "cat_cols"
   ]
  },
  {
   "cell_type": "code",
   "execution_count": 212,
   "metadata": {},
   "outputs": [
    {
     "name": "stdout",
     "output_type": "stream",
     "text": [
      "(17794, 24)\n",
      "(354016, 23)\n"
     ]
    }
   ],
   "source": [
    "from sklearn.model_selection import train_test_split\n",
    "\n",
    "X_train, X_test, y_train, y_test = train_test_split(X_int_rate, y_int_rate, test_size = 0.3)\n",
    "print(np.shape(X_train))\n",
    "print(np.shape(X_app))"
   ]
  },
  {
   "cell_type": "code",
   "execution_count": 219,
   "metadata": {},
   "outputs": [],
   "source": [
    "app_columns = X_app.columns\n",
    "prev_columns = X_train.columns\n",
    "\n",
    "extra_cols = [x for x in prev_columns if x not in app_columns]\n",
    "X_train = X_train.drop(extra_cols,axis=1)\n",
    "X_test = X_test.drop(extra_cols,axis=1)"
   ]
  },
  {
   "cell_type": "code",
   "execution_count": 220,
   "metadata": {},
   "outputs": [
    {
     "name": "stderr",
     "output_type": "stream",
     "text": [
      "C:\\Users\\Mike\\Anaconda3\\envs\\CISC351_Project\\lib\\site-packages\\sklearn\\utils\\deprecation.py:58: DeprecationWarning: Class Imputer is deprecated; Imputer was deprecated in version 0.20 and will be removed in 0.22. Import impute.SimpleImputer from sklearn instead.\n",
      "  warnings.warn(msg, category=DeprecationWarning)\n"
     ]
    }
   ],
   "source": [
    "from sklearn.preprocessing import StandardScaler, Imputer\n",
    "from sklearn.impute import SimpleImputer\n",
    "\n",
    "imputer = Imputer(strategy = 'median')\n",
    "scaler = StandardScaler()\n",
    "\n",
    "imputer.fit(X_train)\n",
    "X_train = imputer.transform(X_train)\n",
    "X_test = imputer.transform(X_test)\n",
    "X_app = imputer.transform(X_app)\n",
    "#app_train = imputer.transform(app_train)\n",
    "\n",
    "scaler.fit(X_train)\n",
    "X_train = scaler.transform(X_train)\n",
    "X_test = scaler.transform(X_test)\n",
    "X_app = scaler.transform(X_app)"
   ]
  },
  {
   "cell_type": "code",
   "execution_count": 221,
   "metadata": {},
   "outputs": [
    {
     "name": "stderr",
     "output_type": "stream",
     "text": [
      "C:\\Users\\Mike\\Anaconda3\\envs\\CISC351_Project\\lib\\site-packages\\xgboost\\core.py:587: FutureWarning: Series.base is deprecated and will be removed in a future version\n",
      "  if getattr(data, 'base', None) is not None and \\\n"
     ]
    }
   ],
   "source": [
    "from xgboost import XGBRegressor\n",
    "\n",
    "model = XGBRegressor()\n",
    "model.fit(X_train, y_train)\n",
    "y_pred = model.predict(X_test)\n",
    "y_pred_app = model.predict(X_app)"
   ]
  },
  {
   "cell_type": "code",
   "execution_count": 222,
   "metadata": {},
   "outputs": [
    {
     "name": "stdout",
     "output_type": "stream",
     "text": [
      "0.576473004255\n"
     ]
    },
    {
     "data": {
      "text/plain": [
       "[<matplotlib.lines.Line2D at 0x1bd02e91d68>]"
      ]
     },
     "execution_count": 222,
     "metadata": {},
     "output_type": "execute_result"
    },
    {
     "data": {
      "image/png": "[encoded data removed]",
      "text/plain": [
       "<matplotlib.figure.Figure at 0x1bd02ef1d30>"
      ]
     },
     "metadata": {
      "needs_background": "light"
     },
     "output_type": "display_data"
    }
   ],
   "source": [
    "from sklearn.metrics import r2_score\n",
    "\n",
    "print(r2_score(y_test,y_pred))\n",
    "plt.plot(y_test,y_pred,'.')"
   ]
  },
  {
   "cell_type": "code",
   "execution_count": 230,
   "metadata": {},
   "outputs": [],
   "source": [
    "app_with_rates = pd.DataFrame()\n",
    "app_with_rates['SK_ID_CURR'] = X_app_ID\n",
    "app_with_rates['Predicted_Interest_Rate'] = y_pred_app"
   ]
  },
  {
   "cell_type": "code",
   "execution_count": 233,
   "metadata": {},
   "outputs": [],
   "source": [
    "app_with_rates.head()\n",
    "app_with_rates.to_csv('App_trainAndTest_withPredictedInterestRates.csv')"
   ]
  },
  {
   "cell_type": "code",
   "execution_count": 234,
   "metadata": {},
   "outputs": [
    {
     "data": {
      "text/plain": [
       "(354016, 2)"
      ]
     },
     "execution_count": 234,
     "metadata": {},
     "output_type": "execute_result"
    }
   ],
   "source": [
    "np.shape(app_with_rates)"
   ]
  },
  {
   "cell_type": "code",
   "execution_count": 237,
   "metadata": {},
   "outputs": [
    {
     "data": {
      "text/plain": [
       "356255"
      ]
     },
     "execution_count": 237,
     "metadata": {},
     "output_type": "execute_result"
    }
   ],
   "source": [
    "np.size(app_train,0) + np.size(app_test,0)"
   ]
  },
  {
   "cell_type": "code",
   "execution_count": 239,
   "metadata": {},
   "outputs": [
    {
     "ename": "KeyError",
     "evalue": "\"['NAME_CONTRACT_TYPE_Consumer loans'] not in index\"",
     "output_type": "error",
     "traceback": [
      "\u001b[1;31m---------------------------------------------------------------------------\u001b[0m",
      "\u001b[1;31mKeyError\u001b[0m                                  Traceback (most recent call last)",
      "\u001b[1;32m<ipython-input-239-04caca5e30f8>\u001b[0m in \u001b[0;36m<module>\u001b[1;34m\u001b[0m\n\u001b[1;32m----> 1\u001b[1;33m \u001b[0mapp_train\u001b[0m\u001b[1;33m[\u001b[0m\u001b[0mcols\u001b[0m\u001b[1;33m]\u001b[0m\u001b[1;33m.\u001b[0m\u001b[0mhead\u001b[0m\u001b[1;33m(\u001b[0m\u001b[1;36m30\u001b[0m\u001b[1;33m)\u001b[0m\u001b[1;33m\u001b[0m\u001b[1;33m\u001b[0m\u001b[0m\n\u001b[0m",
      "\u001b[1;32m~\\Anaconda3\\envs\\CISC351_Project\\lib\\site-packages\\pandas\\core\\frame.py\u001b[0m in \u001b[0;36m__getitem__\u001b[1;34m(self, key)\u001b[0m\n\u001b[0;32m   2680\u001b[0m         \u001b[1;32mif\u001b[0m \u001b[0misinstance\u001b[0m\u001b[1;33m(\u001b[0m\u001b[0mkey\u001b[0m\u001b[1;33m,\u001b[0m \u001b[1;33m(\u001b[0m\u001b[0mSeries\u001b[0m\u001b[1;33m,\u001b[0m \u001b[0mnp\u001b[0m\u001b[1;33m.\u001b[0m\u001b[0mndarray\u001b[0m\u001b[1;33m,\u001b[0m \u001b[0mIndex\u001b[0m\u001b[1;33m,\u001b[0m \u001b[0mlist\u001b[0m\u001b[1;33m)\u001b[0m\u001b[1;33m)\u001b[0m\u001b[1;33m:\u001b[0m\u001b[1;33m\u001b[0m\u001b[1;33m\u001b[0m\u001b[0m\n\u001b[0;32m   2681\u001b[0m             \u001b[1;31m# either boolean or fancy integer index\u001b[0m\u001b[1;33m\u001b[0m\u001b[1;33m\u001b[0m\u001b[1;33m\u001b[0m\u001b[0m\n\u001b[1;32m-> 2682\u001b[1;33m             \u001b[1;32mreturn\u001b[0m \u001b[0mself\u001b[0m\u001b[1;33m.\u001b[0m\u001b[0m_getitem_array\u001b[0m\u001b[1;33m(\u001b[0m\u001b[0mkey\u001b[0m\u001b[1;33m)\u001b[0m\u001b[1;33m\u001b[0m\u001b[1;33m\u001b[0m\u001b[0m\n\u001b[0m\u001b[0;32m   2683\u001b[0m         \u001b[1;32melif\u001b[0m \u001b[0misinstance\u001b[0m\u001b[1;33m(\u001b[0m\u001b[0mkey\u001b[0m\u001b[1;33m,\u001b[0m \u001b[0mDataFrame\u001b[0m\u001b[1;33m)\u001b[0m\u001b[1;33m:\u001b[0m\u001b[1;33m\u001b[0m\u001b[1;33m\u001b[0m\u001b[0m\n\u001b[0;32m   2684\u001b[0m             \u001b[1;32mreturn\u001b[0m \u001b[0mself\u001b[0m\u001b[1;33m.\u001b[0m\u001b[0m_getitem_frame\u001b[0m\u001b[1;33m(\u001b[0m\u001b[0mkey\u001b[0m\u001b[1;33m)\u001b[0m\u001b[1;33m\u001b[0m\u001b[1;33m\u001b[0m\u001b[0m\n",
      "\u001b[1;32m~\\Anaconda3\\envs\\CISC351_Project\\lib\\site-packages\\pandas\\core\\frame.py\u001b[0m in \u001b[0;36m_getitem_array\u001b[1;34m(self, key)\u001b[0m\n\u001b[0;32m   2724\u001b[0m             \u001b[1;32mreturn\u001b[0m \u001b[0mself\u001b[0m\u001b[1;33m.\u001b[0m\u001b[0m_take\u001b[0m\u001b[1;33m(\u001b[0m\u001b[0mindexer\u001b[0m\u001b[1;33m,\u001b[0m \u001b[0maxis\u001b[0m\u001b[1;33m=\u001b[0m\u001b[1;36m0\u001b[0m\u001b[1;33m)\u001b[0m\u001b[1;33m\u001b[0m\u001b[1;33m\u001b[0m\u001b[0m\n\u001b[0;32m   2725\u001b[0m         \u001b[1;32melse\u001b[0m\u001b[1;33m:\u001b[0m\u001b[1;33m\u001b[0m\u001b[1;33m\u001b[0m\u001b[0m\n\u001b[1;32m-> 2726\u001b[1;33m             \u001b[0mindexer\u001b[0m \u001b[1;33m=\u001b[0m \u001b[0mself\u001b[0m\u001b[1;33m.\u001b[0m\u001b[0mloc\u001b[0m\u001b[1;33m.\u001b[0m\u001b[0m_convert_to_indexer\u001b[0m\u001b[1;33m(\u001b[0m\u001b[0mkey\u001b[0m\u001b[1;33m,\u001b[0m \u001b[0maxis\u001b[0m\u001b[1;33m=\u001b[0m\u001b[1;36m1\u001b[0m\u001b[1;33m)\u001b[0m\u001b[1;33m\u001b[0m\u001b[1;33m\u001b[0m\u001b[0m\n\u001b[0m\u001b[0;32m   2727\u001b[0m             \u001b[1;32mreturn\u001b[0m \u001b[0mself\u001b[0m\u001b[1;33m.\u001b[0m\u001b[0m_take\u001b[0m\u001b[1;33m(\u001b[0m\u001b[0mindexer\u001b[0m\u001b[1;33m,\u001b[0m \u001b[0maxis\u001b[0m\u001b[1;33m=\u001b[0m\u001b[1;36m1\u001b[0m\u001b[1;33m)\u001b[0m\u001b[1;33m\u001b[0m\u001b[1;33m\u001b[0m\u001b[0m\n\u001b[0;32m   2728\u001b[0m \u001b[1;33m\u001b[0m\u001b[0m\n",
      "\u001b[1;32m~\\Anaconda3\\envs\\CISC351_Project\\lib\\site-packages\\pandas\\core\\indexing.py\u001b[0m in \u001b[0;36m_convert_to_indexer\u001b[1;34m(self, obj, axis, is_setter)\u001b[0m\n\u001b[0;32m   1325\u001b[0m                 \u001b[1;32mif\u001b[0m \u001b[0mmask\u001b[0m\u001b[1;33m.\u001b[0m\u001b[0many\u001b[0m\u001b[1;33m(\u001b[0m\u001b[1;33m)\u001b[0m\u001b[1;33m:\u001b[0m\u001b[1;33m\u001b[0m\u001b[1;33m\u001b[0m\u001b[0m\n\u001b[0;32m   1326\u001b[0m                     raise KeyError('{mask} not in index'\n\u001b[1;32m-> 1327\u001b[1;33m                                    .format(mask=objarr[mask]))\n\u001b[0m\u001b[0;32m   1328\u001b[0m \u001b[1;33m\u001b[0m\u001b[0m\n\u001b[0;32m   1329\u001b[0m                 \u001b[1;32mreturn\u001b[0m \u001b[0mcom\u001b[0m\u001b[1;33m.\u001b[0m\u001b[0m_values_from_object\u001b[0m\u001b[1;33m(\u001b[0m\u001b[0mindexer\u001b[0m\u001b[1;33m)\u001b[0m\u001b[1;33m\u001b[0m\u001b[1;33m\u001b[0m\u001b[0m\n",
      "\u001b[1;31mKeyError\u001b[0m: \"['NAME_CONTRACT_TYPE_Consumer loans'] not in index\""
     ]
    }
   ],
   "source": []
  },
  {
   "cell_type": "code",
   "execution_count": null,
   "metadata": {},
   "outputs": [],
   "source": []
  }
 ],
 "metadata": {
  "kernelspec": {
   "display_name": "Python 3",
   "language": "python",
   "name": "python3"
  },
  "language_info": {
   "codemirror_mode": {
    "name": "ipython",
    "version": 3
   },
   "file_extension": ".py",
   "mimetype": "text/x-python",
   "name": "python",
   "nbconvert_exporter": "python",
   "pygments_lexer": "ipython3",
   "version": "3.6.8"
  }
 },
 "nbformat": 4,
 "nbformat_minor": 2
}
